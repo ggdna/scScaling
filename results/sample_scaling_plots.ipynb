{
 "cells": [
  {
   "cell_type": "code",
   "execution_count": 1,
   "metadata": {},
   "outputs": [
    {
     "name": "stderr",
     "output_type": "stream",
     "text": [
      "/home/gokul/.local/lib/python3.10/site-packages/matplotlib/projections/__init__.py:63: UserWarning: Unable to import Axes3D. This may be due to multiple versions of Matplotlib being installed (e.g. as a system package and as a pip package). As a result, the 3D projection is not available.\n",
      "  warnings.warn(\"Unable to import Axes3D. This may be due to multiple versions of \"\n"
     ]
    }
   ],
   "source": [
    "import pandas as pd\n",
    "import numpy as np\n",
    "import seaborn as sns\n",
    "import matplotlib.pyplot as plt\n",
    "from matplotlib import rcParams\n",
    "\n",
    "import matplotlib.gridspec as gridspec\n",
    "from matplotlib.colors import LogNorm\n",
    "from matplotlib.ticker import LogFormatterSciNotation\n",
    "\n",
    "from lmfit import Model"
   ]
  },
  {
   "cell_type": "code",
   "execution_count": 2,
   "metadata": {},
   "outputs": [],
   "source": [
    "sns.set_style('whitegrid')\n",
    "rcParams['figure.dpi'] = 300\n",
    "rcParams['figure.figsize'] = (4, 3)\n",
    "rcParams['grid.linewidth'] = 0.5\n",
    "rcParams['grid.linestyle'] = 'dashed'\n",
    "rcParams['legend.fancybox'] = False\n",
    "rcParams['mathtext.fontset'] = 'stix'\n",
    "rcParams['xtick.major.pad']='0'\n",
    "rcParams['ytick.major.pad']='1'\n",
    "\n",
    "dpi = 150\n",
    "\n",
    "\n",
    "c6 = ['#c4bae2','#40ada6','#3c4ebf',  \n",
    "        '#e3a600', '#edb1a3', '#d6543a',]\n",
    "pretty_palette = [c6[c] for c in range(6) if c in [1,2,3,5]]"
   ]
  },
  {
   "cell_type": "code",
   "execution_count": 7,
   "metadata": {},
   "outputs": [],
   "source": [
    "merf_df = pd.read_csv('../results/MERFISH_scaling.csv', index_col=0)\n",
    "cite_df = pd.read_csv('../results/PBMC_CITEseq_scaling.csv', index_col=0)\n",
    "larry_df = pd.read_csv('../results/LARRY_scaling.csv', index_col=0)\n",
    "\n",
    "dfs = [merf_df, cite_df, larry_df]\n",
    "\n",
    "for df in dfs:\n",
    "    df.replace(\"RandomProjection\", \"Rand. proj.\", inplace=True)\n",
    "    df.replace(\"nanoTxformer\", \"Txformer\", inplace=True)\n",
    "\n",
    "hue_order = [\"VAE\", \"PCA\", \"Txformer\", \"Rand. proj.\"]"
   ]
  },
  {
   "cell_type": "code",
   "execution_count": 4,
   "metadata": {},
   "outputs": [],
   "source": [
    "def cell_number_scaling(x, A, B, C):\n",
    "    return C - (A/x)**B\n",
    "\n",
    "def info_scaling(x, A, B, C):\n",
    "    return 0.5 * np.log2((x*B+ 1)/(1+A*x))"
   ]
  },
  {
   "cell_type": "code",
   "execution_count": 11,
   "metadata": {},
   "outputs": [],
   "source": [
    "d = {\n",
    "    \"Method\" : [],\n",
    "    \"Metric\" : [],\n",
    "    \"Quality\" : [],\n",
    "    \"A\" : [],\n",
    "    \"A std err\" : [],\n",
    "    \"B\" : [],\n",
    "    \"B std err\" : [], \n",
    "    \"C\" : [],\n",
    "    \"C std err\" : []\n",
    "}\n",
    "\n",
    "\n",
    "dfs = [merf_df, larry_df, cite_df, cite_df]\n",
    "\n",
    "names = ['Spatial MI', 'Clonal MI', 'Protein MI', 'Cell type MI']\n",
    "mi_keys = ['Spatial neighborhood MI', 'Clonal MI', 'Protein MI', 'Cell type fine MI']\n",
    "\n",
    "\n",
    "for i, df in enumerate(dfs):\n",
    "    mi_k = mi_keys[i]\n",
    "    for method in hue_order:\n",
    "        for upc in df['UMI per cell'].unique():\n",
    "            sub_df = df[(df['UMI per cell'] == upc) & (df['Method'] == method)]\n",
    "            x_data = sub_df['Cell number']\n",
    "            y_data = sub_df[mi_k]\n",
    "\n",
    "            model = Model(cell_number_scaling)\n",
    "            params = model.make_params(A=dict(value=100, min=0), \n",
    "                                B=dict(value=1, min=0, max=1),\n",
    "                                C=dict(value=1, min=0))\n",
    "            result = model.fit(y_data, params, x=x_data)\n",
    "\n",
    "            # result.plot_fit()\n",
    "            # plt.show()\n",
    "\n",
    "            d['Method'].append(method)\n",
    "            d['Metric'].append(names[i])\n",
    "            d['Quality'].append(sub_df['Quality'].unique()[0][1:])\n",
    "            d['A'].append(result.params['A'].value)\n",
    "            d['A std err'].append(result.params['A'].stderr)\n",
    "            d['B'].append(result.params['B'].value)\n",
    "            d['B std err'].append(result.params['B'].stderr)\n",
    "            d['C'].append(result.params['C'].value)\n",
    "            d['C std err'].append(result.params['C'].stderr)"
   ]
  },
  {
   "cell_type": "code",
   "execution_count": 12,
   "metadata": {},
   "outputs": [
    {
     "data": {
      "text/plain": [
       "<Axes: xlabel='Quality', ylabel='Metric'>"
      ]
     },
     "execution_count": 12,
     "metadata": {},
     "output_type": "execute_result"
    },
    {
     "data": {
      "image/png": "[encoded data removed]",
      "text/plain": [
       "<Figure size 750x600 with 2 Axes>"
      ]
     },
     "metadata": {
      "needs_background": "light"
     },
     "output_type": "display_data"
    }
   ],
   "source": [
    "res_df = pd.DataFrame(d)\n",
    "rcParams['grid.linestyle'] = 'none'\n",
    "fig = plt.figure(figsize=(5, 4), dpi=dpi)\n",
    "for row in res_df.iterrows():\n",
    "    if row[1]['C std err'] > row[1]['C']*0.5 or row[1]['C'] is None:\n",
    "        res_df.loc[row[0], 'C'] = np.nan\n",
    "\n",
    "sns.heatmap(res_df[(res_df['Method'] == 'PCA')].pivot(columns='Quality', index='Metric', \n",
    "            values='C'), vmax=5, vmin=0, cmap='mako', square=True, lw=0.1)"
   ]
  },
  {
   "cell_type": "markdown",
   "metadata": {},
   "source": []
  },
  {
   "cell_type": "code",
   "execution_count": null,
   "metadata": {},
   "outputs": [],
   "source": []
  }
 ],
 "metadata": {
  "kernelspec": {
   "display_name": "Python 3",
   "language": "python",
   "name": "python3"
  },
  "language_info": {
   "codemirror_mode": {
    "name": "ipython",
    "version": 3
   },
   "file_extension": ".py",
   "mimetype": "text/x-python",
   "name": "python",
   "nbconvert_exporter": "python",
   "pygments_lexer": "ipython3",
   "version": "3.10.12"
  }
 },
 "nbformat": 4,
 "nbformat_minor": 2
}
