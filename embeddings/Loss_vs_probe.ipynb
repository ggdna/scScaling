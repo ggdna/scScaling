{
 "cells": [
  {
   "cell_type": "code",
   "execution_count": 1,
   "metadata": {},
   "outputs": [
    {
     "name": "stderr",
     "output_type": "stream",
     "text": [
      "Global seed set to 0\n",
      "/home/gokul/.local/lib/python3.10/site-packages/matplotlib/projections/__init__.py:63: UserWarning: Unable to import Axes3D. This may be due to multiple versions of Matplotlib being installed (e.g. as a system package and as a pip package). As a result, the 3D projection is not available.\n",
      "  warnings.warn(\"Unable to import Axes3D. This may be due to multiple versions of \"\n"
     ]
    }
   ],
   "source": [
    "import scvi\n",
    "import scanpy as sc\n",
    "import numpy as np\n",
    "import pandas as pd\n",
    "import torch\n",
    "from tqdm.notebook import tqdm\n",
    "import gc\n",
    "import sys\n",
    "from sklearn.random_projection import GaussianRandomProjection\n",
    "from sklearn.decomposition import PCA\n",
    "from latentmi import lmi\n",
    "from data_utils import *\n",
    "import seaborn as sns\n",
    "import matplotlib.pyplot as plt\n",
    "\n",
    "from nanoTxformer.model import nanoTxformer\n",
    "from nanoTxformer.train import train_model, generalization_loss\n",
    "from nanoTxformer.utils import get_mean_pooled_embeddings\n",
    "\n",
    "torch.set_float32_matmul_precision('medium')"
   ]
  },
  {
   "cell_type": "code",
   "execution_count": 2,
   "metadata": {},
   "outputs": [],
   "source": [
    "d = {\n",
    "    \"Quality\" : [],\n",
    "    \"UMI per cell\" : [],\n",
    "    \"MI\" : [],\n",
    "    \"N cells\" : [],\n",
    "    \"Val. loss\" : [],\n",
    "    \"Losses\" : [],\n",
    "}\n",
    "\n",
    "dataset_fractions = 5*np.logspace(-5, -3, 5)*4"
   ]
  },
  {
   "cell_type": "code",
   "execution_count": 3,
   "metadata": {},
   "outputs": [],
   "source": [
    "qual = 1.\n",
    "r = 0\n",
    "\n",
    "ad = sc.read_h5ad('../../scaling_playground/data/PBMC_CITEseq_Q%.3f_rep%d.h5ad'\n",
    "                  %(qual, r))\n",
    "\n",
    "UMI_per_cell = ad.raw.X.sum()/len(ad)\n",
    "\n",
    "seen, held_out = split_ad(ad, frac=0.75)"
   ]
  },
  {
   "cell_type": "code",
   "execution_count": 4,
   "metadata": {},
   "outputs": [
    {
     "name": "stdout",
     "output_type": "stream",
     "text": [
      "epoch 299 (of max 300) 🌻🌻🌻🌻🌻🌻🌻🌻🌻{'MI': [3.3295910366116854], 'Val. loss': [7.750621773796334], 'Epochs': [0]}\n",
      "epoch 299 (of max 300) 🌻🌻🌻🌻🌻🌻🌻🌻🌻{'MI': [3.3295910366116854, 3.3614843230469833], 'Val. loss': [7.750621773796334, 1.452336543349088], 'Epochs': [0, 1]}\n",
      "epoch 299 (of max 300) 🌻🌻🌻🌻🌻🌻🌻🌻🌻{'MI': [3.3295910366116854, 3.3614843230469833, 3.258191244905013], 'Val. loss': [7.750621773796334, 1.452336543349088, 1.2370481381034872], 'Epochs': [0, 1, 2]}\n",
      "epoch 299 (of max 300) 🌻🌻🌻🌻🌻🌻🌻🌻🌻{'MI': [3.3295910366116854, 3.3614843230469833, 3.258191244905013, 3.2069430481724583], 'Val. loss': [7.750621773796334, 1.452336543349088, 1.2370481381034872, 1.196946912918921], 'Epochs': [0, 1, 2, 3]}\n",
      "epoch 299 (of max 300) 🌻🌻🌻🌻🌻🌻🌻🌻🌻{'MI': [3.3295910366116854, 3.3614843230469833, 3.258191244905013, 3.2069430481724583, 3.2968050044651314], 'Val. loss': [7.750621773796334, 1.452336543349088, 1.2370481381034872, 1.196946912918921, 1.1830431517639173], 'Epochs': [0, 1, 2, 3, 4]}\n"
     ]
    }
   ],
   "source": [
    "d_c = {\n",
    "    \"MI\" : [],\n",
    "    \"Val. loss\" : [],\n",
    "    \"Epochs\" : [],\n",
    "}\n",
    "\n",
    "ad1, ad2 = split_ad(seen, frac=0.01)\n",
    "\n",
    "model = nanoTxformer(ad1, embed_size=512, \n",
    "                    num_heads=8, num_encoder_layers=2).cuda()\n",
    "\n",
    "for i in range(5):\n",
    "\n",
    "    ##############\n",
    "    ### nanoTx ###\n",
    "    ##############\n",
    "\n",
    "    val_loss = generalization_loss(model, held_out)\n",
    "    batch_size = 32\n",
    "    losses = train_model(model, ad1, epochs=1, batch_size=batch_size, \n",
    "                         val_per_batch=10**7)\n",
    "    emb = get_mean_pooled_embeddings(model, held_out).cpu()\n",
    "    pmis, _, _ = lmi.estimate(emb, held_out.obsm['protein_counts'], \n",
    "                        quiet=True, batch_size=2048)\n",
    "    \n",
    "\n",
    "    d_c['MI'].append(np.nanmean(pmis))\n",
    "    d_c['Val. loss'].append(val_loss)\n",
    "    d_c['Epochs'].append(i)\n",
    "\n",
    "    print(d_c)"
   ]
  },
  {
   "cell_type": "code",
   "execution_count": 11,
   "metadata": {},
   "outputs": [
    {
     "data": {
      "text/plain": [
       "(0.0, 3.5)"
      ]
     },
     "execution_count": 11,
     "metadata": {},
     "output_type": "execute_result"
    },
    {
     "data": {
      "image/png": "[encoded data removed]",
      "text/plain": [
       "<Figure size 300x300 with 1 Axes>"
      ]
     },
     "metadata": {},
     "output_type": "display_data"
    }
   ],
   "source": [
    "from matplotlib import rcParams\n",
    "rcParams['figure.dpi'] = 150\n",
    "rcParams['figure.figsize'] = (2,2)\n",
    "df_c = pd.DataFrame(d_c)\n",
    "\n",
    "sns.set_style('whitegrid')\n",
    "sns.lineplot(data=df_c, x='Val. loss', y='MI', marker='o') \n",
    "                # hue='Epochs')\n",
    "plt.ylim(0, 3.5)\n",
    "# plt.xscale('log')"
   ]
  },
  {
   "cell_type": "code",
   "execution_count": null,
   "metadata": {},
   "outputs": [],
   "source": []
  }
 ],
 "metadata": {
  "kernelspec": {
   "display_name": "Python 3",
   "language": "python",
   "name": "python3"
  },
  "language_info": {
   "codemirror_mode": {
    "name": "ipython",
    "version": 3
   },
   "file_extension": ".py",
   "mimetype": "text/x-python",
   "name": "python",
   "nbconvert_exporter": "python",
   "pygments_lexer": "ipython3",
   "version": "3.10.12"
  }
 },
 "nbformat": 4,
 "nbformat_minor": 2
}
