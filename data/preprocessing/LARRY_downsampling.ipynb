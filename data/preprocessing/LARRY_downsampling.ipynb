{
 "cells": [
  {
   "cell_type": "code",
   "execution_count": 1,
   "id": "48b1fc04-105c-412c-88d5-16a1a026d864",
   "metadata": {},
   "outputs": [
    {
     "name": "stderr",
     "output_type": "stream",
     "text": [
      "Global seed set to 0\n",
      "/home/gokul/.local/lib/python3.10/site-packages/matplotlib/projections/__init__.py:63: UserWarning: Unable to import Axes3D. This may be due to multiple versions of Matplotlib being installed (e.g. as a system package and as a pip package). As a result, the 3D projection is not available.\n",
      "  warnings.warn(\"Unable to import Axes3D. This may be due to multiple versions of \"\n"
     ]
    }
   ],
   "source": [
    "import scvi\n",
    "import scanpy as sc\n",
    "import numpy as np\n",
    "import pandas as pd\n",
    "\n",
    "from data_utils import *\n",
    "from tqdm.notebook import tqdm\n",
    "\n",
    "import scipy.sparse as sp\n",
    "\n",
    "import gc"
   ]
  },
  {
   "cell_type": "code",
   "execution_count": 12,
   "id": "4781a9c2-7130-423b-b2cc-5629e3272529",
   "metadata": {},
   "outputs": [],
   "source": [
    "qualities = np.logspace(-3, 0, 10)#[-1:]\n",
    "replicates = 3\n",
    "prefix = \"../../latent-mutual-information/data/\""
   ]
  },
  {
   "cell_type": "code",
   "execution_count": 3,
   "id": "2967f775-bf4c-430f-8906-8c3d8717bbdd",
   "metadata": {},
   "outputs": [
    {
     "name": "stdout",
     "output_type": "stream",
     "text": [
      "CPU times: user 2min 52s, sys: 6.85 s, total: 2min 59s\n",
      "Wall time: 2min 55s\n"
     ]
    }
   ],
   "source": [
    "%%time\n",
    "\n",
    "counts = sc.read_mtx(prefix + 'ltseq/stateFate_inVitro_normed_counts.mtx')"
   ]
  },
  {
   "cell_type": "code",
   "execution_count": 4,
   "id": "80ba66dc-577d-465d-adc9-7b94526ee486",
   "metadata": {},
   "outputs": [
    {
     "data": {
      "text/html": [
       "<div>\n",
       "<style scoped>\n",
       "    .dataframe tbody tr th:only-of-type {\n",
       "        vertical-align: middle;\n",
       "    }\n",
       "\n",
       "    .dataframe tbody tr th {\n",
       "        vertical-align: top;\n",
       "    }\n",
       "\n",
       "    .dataframe thead th {\n",
       "        text-align: right;\n",
       "    }\n",
       "</style>\n",
       "<table border=\"1\" class=\"dataframe\">\n",
       "  <thead>\n",
       "    <tr style=\"text-align: right;\">\n",
       "      <th></th>\n",
       "      <th>Library</th>\n",
       "      <th>Cell barcode</th>\n",
       "      <th>Time point</th>\n",
       "      <th>Starting population</th>\n",
       "      <th>Cell type annotation</th>\n",
       "      <th>Well</th>\n",
       "      <th>SPRING-x</th>\n",
       "      <th>SPRING-y</th>\n",
       "    </tr>\n",
       "  </thead>\n",
       "  <tbody>\n",
       "    <tr>\n",
       "      <th>0</th>\n",
       "      <td>d6_2_2</td>\n",
       "      <td>GCGTGCAA-AGAAGTTA</td>\n",
       "      <td>6.0</td>\n",
       "      <td>Lin-Kit+Sca1-</td>\n",
       "      <td>Undifferentiated</td>\n",
       "      <td>2</td>\n",
       "      <td>411.496</td>\n",
       "      <td>-96.190</td>\n",
       "    </tr>\n",
       "    <tr>\n",
       "      <th>1</th>\n",
       "      <td>d6_2_2</td>\n",
       "      <td>AAGGGACC-CTCGATGC</td>\n",
       "      <td>6.0</td>\n",
       "      <td>Lin-Kit+Sca1-</td>\n",
       "      <td>Undifferentiated</td>\n",
       "      <td>2</td>\n",
       "      <td>-587.462</td>\n",
       "      <td>-306.925</td>\n",
       "    </tr>\n",
       "    <tr>\n",
       "      <th>2</th>\n",
       "      <td>d6_2_2</td>\n",
       "      <td>CGTACCGA-AGCGCCTT</td>\n",
       "      <td>6.0</td>\n",
       "      <td>Lin-Kit+Sca1-</td>\n",
       "      <td>Monocyte</td>\n",
       "      <td>2</td>\n",
       "      <td>1429.805</td>\n",
       "      <td>-429.300</td>\n",
       "    </tr>\n",
       "  </tbody>\n",
       "</table>\n",
       "</div>"
      ],
      "text/plain": [
       "  Library       Cell barcode  Time point Starting population  \\\n",
       "0  d6_2_2  GCGTGCAA-AGAAGTTA         6.0       Lin-Kit+Sca1-   \n",
       "1  d6_2_2  AAGGGACC-CTCGATGC         6.0       Lin-Kit+Sca1-   \n",
       "2  d6_2_2  CGTACCGA-AGCGCCTT         6.0       Lin-Kit+Sca1-   \n",
       "\n",
       "  Cell type annotation  Well  SPRING-x  SPRING-y  \n",
       "0     Undifferentiated     2   411.496   -96.190  \n",
       "1     Undifferentiated     2  -587.462  -306.925  \n",
       "2             Monocyte     2  1429.805  -429.300  "
      ]
     },
     "execution_count": 4,
     "metadata": {},
     "output_type": "execute_result"
    }
   ],
   "source": [
    "meta = pd.read_csv(prefix + 'ltseq/stateFate_inVitro_metadata.txt', sep='\\t')\n",
    "meta.head(3)"
   ]
  },
  {
   "cell_type": "code",
   "execution_count": 5,
   "id": "9417e39d-55de-428a-87bb-a08a5677407a",
   "metadata": {},
   "outputs": [
    {
     "data": {
      "text/html": [
       "<div>\n",
       "<style scoped>\n",
       "    .dataframe tbody tr th:only-of-type {\n",
       "        vertical-align: middle;\n",
       "    }\n",
       "\n",
       "    .dataframe tbody tr th {\n",
       "        vertical-align: top;\n",
       "    }\n",
       "\n",
       "    .dataframe thead th {\n",
       "        text-align: right;\n",
       "    }\n",
       "</style>\n",
       "<table border=\"1\" class=\"dataframe\">\n",
       "  <thead>\n",
       "    <tr style=\"text-align: right;\">\n",
       "      <th></th>\n",
       "      <th>0</th>\n",
       "    </tr>\n",
       "  </thead>\n",
       "  <tbody>\n",
       "    <tr>\n",
       "      <th>0</th>\n",
       "      <td>0610006L08Rik</td>\n",
       "    </tr>\n",
       "    <tr>\n",
       "      <th>1</th>\n",
       "      <td>0610007P14Rik</td>\n",
       "    </tr>\n",
       "    <tr>\n",
       "      <th>2</th>\n",
       "      <td>0610009B22Rik</td>\n",
       "    </tr>\n",
       "  </tbody>\n",
       "</table>\n",
       "</div>"
      ],
      "text/plain": [
       "               0\n",
       "0  0610006L08Rik\n",
       "1  0610007P14Rik\n",
       "2  0610009B22Rik"
      ]
     },
     "execution_count": 5,
     "metadata": {},
     "output_type": "execute_result"
    }
   ],
   "source": [
    "gene_names = pd.read_csv(prefix +'ltseq/stateFate_inVitro_gene_names.txt', \n",
    "                         header=None, sep='\\t')\n",
    "gene_names.head(3)"
   ]
  },
  {
   "cell_type": "code",
   "execution_count": 6,
   "id": "4e7bbe46-b579-4ebb-b03d-a6d7f94102e1",
   "metadata": {},
   "outputs": [],
   "source": [
    "clones = sc.read_mtx(prefix+'ltseq/stateFate_inVitro_clone_matrix.mtx')"
   ]
  },
  {
   "cell_type": "code",
   "execution_count": 7,
   "id": "980dae71-4ff7-459a-ac60-5735c67d713b",
   "metadata": {},
   "outputs": [
    {
     "name": "stdout",
     "output_type": "stream",
     "text": [
      "CPU times: user 8.34 s, sys: 5.85 ms, total: 8.35 s\n",
      "Wall time: 8.34 s\n"
     ]
    }
   ],
   "source": [
    "%%time\n",
    "clone_ids = [np.argmax(clones.X[i, :]) for i in range(len(clones))]"
   ]
  },
  {
   "cell_type": "code",
   "execution_count": 8,
   "id": "0051dcb5-41ff-4be6-b4b8-b7650a3908c9",
   "metadata": {},
   "outputs": [],
   "source": [
    "counts.obs['clone'] = clone_ids\n",
    "counts.obs['time'] = meta['Time point'].values\n",
    "counts.obs['well'] = meta['Well'].values\n",
    "counts.obs['type'] = meta['Cell type annotation'].values\n",
    "counts.obs['SPRING1'] = meta['SPRING-x'].values\n",
    "counts.obs['SPRING2'] = meta['SPRING-y'].values"
   ]
  },
  {
   "cell_type": "code",
   "execution_count": 9,
   "id": "7ae4c38d-56f4-4ab8-9bfc-56b26aeb258a",
   "metadata": {},
   "outputs": [],
   "source": [
    "def nonzero_minimum_per_row(sparse_matrix):\n",
    "    # Initialize an array to store the minimum values\n",
    "    min_per_row = np.full(sparse_matrix.shape[0], np.inf)\n",
    "    \n",
    "    # Iterate through rows\n",
    "    for i in range(sparse_matrix.shape[0]):\n",
    "        # Get the non-zero elements in each row\n",
    "        row_data = sparse_matrix.getrow(i).data\n",
    "        if row_data.size > 0:\n",
    "            min_per_row[i] = np.min(row_data)\n",
    "    \n",
    "    return min_per_row\n",
    "\n",
    "nonzero_min_per_row = nonzero_minimum_per_row(counts.X)\n",
    "\n",
    "reciprocal_min_per_row = 1 / nonzero_min_per_row\n",
    "\n",
    "diagonal_matrix = sp.diags(reciprocal_min_per_row)\n",
    "\n",
    "result_matrix = diagonal_matrix.dot(counts.X)\n",
    "\n",
    "counts.X = result_matrix.astype(int)"
   ]
  },
  {
   "cell_type": "code",
   "execution_count": 13,
   "id": "5d48199e-1a5f-4a99-afdf-541da5671c72",
   "metadata": {},
   "outputs": [
    {
     "data": {
      "application/vnd.jupyter.widget-view+json": {
       "model_id": "39ea98c91c764867a10189b4db1ec824",
       "version_major": 2,
       "version_minor": 0
      },
      "text/plain": [
       "qualities:   0%|          | 0/1 [00:00<?, ?it/s]"
      ]
     },
     "metadata": {},
     "output_type": "display_data"
    },
    {
     "data": {
      "application/vnd.jupyter.widget-view+json": {
       "model_id": "",
       "version_major": 2,
       "version_minor": 0
      },
      "text/plain": [
       "replicates:   0%|          | 0/3 [00:00<?, ?it/s]"
      ]
     },
     "metadata": {},
     "output_type": "display_data"
    },
    {
     "name": "stdout",
     "output_type": "stream",
     "text": [
      "Q 1.000 counts per cell\n",
      "2586.629275634708\n",
      "Q 1.000 counts per cell\n",
      "2586.629275634708\n",
      "Q 1.000 counts per cell\n",
      "2586.629275634708\n"
     ]
    }
   ],
   "source": [
    "for q in tqdm(qualities, desc='qualities'):\n",
    "\n",
    "    for r in tqdm(range(replicates), desc='replicates', leave=False):\n",
    "\n",
    "        np.random.seed(r)\n",
    "\n",
    "        ad = get_ad_with_quality(counts, quality=q)\n",
    "        ad.write_h5ad('data/LARRY_Q%.3f_rep%d.h5ad'%(q, r))\n",
    "\n",
    "        print(\"Q %.3f counts per cell\" %q)\n",
    "        print(ad.raw.X.sum()/len(ad))\n",
    "\n",
    "        del ad\n",
    "        gc.collect()"
   ]
  },
  {
   "cell_type": "code",
   "execution_count": null,
   "id": "77a30abb-4a1e-4d47-bc3d-ea2a8fd0162c",
   "metadata": {},
   "outputs": [],
   "source": []
  }
 ],
 "metadata": {
  "kernelspec": {
   "display_name": "Python 3 (ipykernel)",
   "language": "python",
   "name": "python3"
  },
  "language_info": {
   "codemirror_mode": {
    "name": "ipython",
    "version": 3
   },
   "file_extension": ".py",
   "mimetype": "text/x-python",
   "name": "python",
   "nbconvert_exporter": "python",
   "pygments_lexer": "ipython3",
   "version": "3.10.12"
  }
 },
 "nbformat": 4,
 "nbformat_minor": 5
}
