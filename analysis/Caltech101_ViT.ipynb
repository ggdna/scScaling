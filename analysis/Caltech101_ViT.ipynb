{
 "cells": [
  {
   "cell_type": "code",
   "execution_count": 1,
   "metadata": {},
   "outputs": [
    {
     "name": "stderr",
     "output_type": "stream",
     "text": [
      "/home/gokul/.local/lib/python3.10/site-packages/matplotlib/projections/__init__.py:63: UserWarning: Unable to import Axes3D. This may be due to multiple versions of Matplotlib being installed (e.g. as a system package and as a pip package). As a result, the 3D projection is not available.\n",
      "  warnings.warn(\"Unable to import Axes3D. This may be due to multiple versions of \"\n"
     ]
    }
   ],
   "source": [
    "import numpy as np\n",
    "from sklearn.decomposition import PCA\n",
    "from torchvision import datasets, transforms, models\n",
    "from latentmi import lmi, ksg\n",
    "import seaborn as sns\n",
    "import torch\n",
    "from sklearn.preprocessing import StandardScaler\n",
    "import matplotlib.pyplot as plt\n",
    "from collections import Counter\n",
    "\n",
    "\n",
    "import torch.nn as nn\n",
    "import torch.optim as optim\n",
    "\n",
    "device='cuda'"
   ]
  },
  {
   "cell_type": "code",
   "execution_count": 2,
   "metadata": {},
   "outputs": [],
   "source": [
    "class ViTClassifier(nn.Module):\n",
    "    def __init__(self, num_classes):\n",
    "        super(ViTClassifier, self).__init__()\n",
    "        self.vit = models.vit_b_16(pretrained=True)\n",
    "        in_feat = self.vit.heads[0].in_features  # grab it from the first layer!\n",
    "        self.vit.heads = nn.Linear(in_feat, num_classes)  # new head, who dis? :)\n",
    "\n",
    "    def forward(self, x):\n",
    "        return self.vit(x)\n",
    "    \n",
    "def train_model(model, dataloader, epochs=5, scale=0):\n",
    "    criterion = nn.CrossEntropyLoss()\n",
    "    optimizer = optim.Adam(model.parameters(), lr=1e-4)\n",
    "    model.train()\n",
    "    for epoch in range(epochs):\n",
    "        total_loss = 0.0\n",
    "        for inputs, labels in dataloader:\n",
    "            inputs, labels = inputs.numpy(), labels.numpy()  # to numpy\n",
    "            if scale > 0:\n",
    "                inputs = gaussian_noise(inputs, scale)  # downsample\n",
    "            inputs, labels = torch.tensor(inputs).to(device).float(), torch.tensor(labels).to(device)  # back to tensor\n",
    "\n",
    "            optimizer.zero_grad()\n",
    "            outputs = model(inputs)\n",
    "            loss = criterion(outputs, labels)\n",
    "            loss.backward()\n",
    "            optimizer.step()\n",
    "\n",
    "            total_loss += loss.item()\n",
    "        print(f\"Epoch {epoch + 1}/{epochs}, Loss: {total_loss / len(dataloader):.4f}\")\n",
    "\n",
    "# pca wrapper (top 16 pcs!)\n",
    "def compute_pca(images, n_components=16):\n",
    "    flat_images = images.reshape(images.shape[0], -1)\n",
    "    scaler = StandardScaler()\n",
    "    scaled_images = scaler.fit_transform(flat_images)  # normalize!\n",
    "    pca = PCA(n_components=n_components)\n",
    "    pcs = pca.fit_transform(scaled_images)\n",
    "    return pcs\n",
    "\n",
    "def resample_one_v_all(true_labels, target_label):\n",
    "    target_indices = []\n",
    "    other_indices = []\n",
    "    for i, label in enumerate(true_labels):\n",
    "        if target_label == label:\n",
    "            target_indices.append(i)\n",
    "        else:\n",
    "            other_indices.append(i)\n",
    "\n",
    "    other_indices = np.random.choice(other_indices, len(target_indices), replace=False)\n",
    "    indices = np.concatenate([target_indices, other_indices])\n",
    "    return indices.astype(int)\n",
    "\n",
    "\n",
    "def estimate_mi_repr(model, dataloader, scale=0):\n",
    "    model.eval()\n",
    "    true_labels = []\n",
    "    last_layer_reprs = []\n",
    "\n",
    "    with torch.no_grad():\n",
    "        for inputs, labels in dataloader:\n",
    "            inputs = inputs.numpy()  # to numpy\n",
    "            if scale > 0:\n",
    "                inputs = gaussian_noise(inputs, scale)  # downsample\n",
    "            inputs = torch.tensor(inputs).to(device).float()  # back to tensor\n",
    "            outputs = model(inputs)\n",
    "            preds = torch.argmax(outputs, dim=1).cpu().numpy()\n",
    "\n",
    "            true_labels.append(labels.numpy())\n",
    "            last_layer_reprs.append(outputs.cpu().numpy())\n",
    "\n",
    "    true_labels = np.concatenate(true_labels)\n",
    "    last_layer_reprs = np.concatenate(last_layer_reprs)\n",
    "\n",
    "    MIs = []\n",
    "    N_samples = []\n",
    "    labels = []\n",
    "\n",
    "    for label in np.unique(true_labels):\n",
    "        N_samples.append(np.sum(true_labels == label))\n",
    "        labels.append(label)\n",
    "        idx = resample_one_v_all(true_labels, label)\n",
    "        bin_y = true_labels[idx] == label\n",
    "        reprs = last_layer_reprs[idx]\n",
    "        \n",
    "        MIs.append(np.nanmean(lmi.estimate(bin_y.reshape(-1, 1), reprs)[0]))\n",
    "\n",
    "    # all labels → one-hot!\n",
    "    uniques = np.unique(true_labels).tolist()\n",
    "    n_classes = len(uniques)\n",
    "    one_hot_labels = np.eye(n_classes)[[uniques.index(s) for s in true_labels]]\n",
    "    MIs.append(np.nanmean(lmi.estimate(one_hot_labels, last_layer_reprs, N_dims=16)[0]))\n",
    "    N_samples.append(len(true_labels))\n",
    "    labels.append('all')\n",
    "\n",
    "    print(MIs)\n",
    "\n",
    "    return MIs, N_samples, labels\n",
    "\n",
    "def gaussian_noise(images, scale):\n",
    "    return np.random.normal(size=images.shape)*scale + images\n"
   ]
  },
  {
   "cell_type": "code",
   "execution_count": 3,
   "metadata": {},
   "outputs": [
    {
     "name": "stdout",
     "output_type": "stream",
     "text": [
      "Files already downloaded and verified\n",
      "2707 total samples\n"
     ]
    }
   ],
   "source": [
    "transform = transforms.Compose([\n",
    "    transforms.Lambda(lambda img: img.convert(\"RGB\") if img.mode != \"RGB\" else img),  # ensure RGB\n",
    "    transforms.Resize((224, 224)),  # resize to ViT input size\n",
    "    transforms.ToTensor(),  # convert to tensor\n",
    "    transforms.Normalize(mean=[0.5, 0.5, 0.5], std=[0.5, 0.5, 0.5])  # normalize\n",
    "])\n",
    "\n",
    "# load dataset\n",
    "Caltech101 = datasets.Caltech101(root='../data', download=True, transform=transform)\n",
    "\n",
    "# get class labels\n",
    "labels = Caltech101.y  # class indices for the dataset\n",
    "\n",
    "# count occurrences of each class\n",
    "class_counts = Counter(labels)\n",
    "\n",
    "# find top n largest classes\n",
    "top_n = 5\n",
    "top_n_classes = [cls for cls, _ in class_counts.most_common(top_n)]\n",
    "\n",
    "# subset the dataset to include only samples from these top classes\n",
    "indices = [i for i, label in enumerate(labels) if label in top_n_classes]\n",
    "subset = torch.utils.data.Subset(Caltech101, indices)\n",
    "\n",
    "# split the subset into train and validation sets\n",
    "N = len(subset)\n",
    "print(f\"{N} total samples\")\n",
    "train_set, val_set = torch.utils.data.random_split(subset, [N//2, N - N//2])\n",
    "\n",
    "# create data loaders\n",
    "data_loader = torch.utils.data.DataLoader(train_set, batch_size=128, shuffle=True)\n",
    "val_loader = torch.utils.data.DataLoader(val_set, batch_size=128, shuffle=False)"
   ]
  },
  {
   "cell_type": "code",
   "execution_count": 4,
   "metadata": {},
   "outputs": [
    {
     "name": "stderr",
     "output_type": "stream",
     "text": [
      "/home/gokul/.local/lib/python3.10/site-packages/torchvision/models/_utils.py:208: UserWarning: The parameter 'pretrained' is deprecated since 0.13 and may be removed in the future, please use 'weights' instead.\n",
      "  warnings.warn(\n",
      "/home/gokul/.local/lib/python3.10/site-packages/torchvision/models/_utils.py:223: UserWarning: Arguments other than a weight enum or `None` for 'weights' are deprecated since 0.13 and may be removed in the future. The current behavior is equivalent to passing `weights=ViT_B_16_Weights.IMAGENET1K_V1`. You can also use `weights=ViT_B_16_Weights.DEFAULT` to get the most up-to-date weights.\n",
      "  warnings.warn(msg)\n"
     ]
    },
    {
     "name": "stdout",
     "output_type": "stream",
     "text": [
      "Epoch 1/10, Loss: 1.1171\n",
      "Epoch 2/10, Loss: 0.0736\n",
      "Epoch 3/10, Loss: 0.0245\n",
      "Epoch 4/10, Loss: 0.0189\n",
      "Epoch 5/10, Loss: 0.0078\n",
      "Epoch 6/10, Loss: 0.0237\n",
      "Epoch 7/10, Loss: 0.0171\n",
      "Epoch 8/10, Loss: 0.0118\n",
      "Epoch 9/10, Loss: 0.0105\n",
      "Epoch 10/10, Loss: 0.0118\n",
      "epoch 299 (of max 300) 🌻🌻🌻🌻🌻🌻🌻🌻🌻[1.0030999159634395, 0.9654440703336552, 0.9992072224319503, 1.000332989887557, 1.0055427371208674, 2.2137036210417738]\n"
     ]
    },
    {
     "name": "stderr",
     "output_type": "stream",
     "text": [
      "/home/gokul/.local/lib/python3.10/site-packages/torchvision/models/_utils.py:208: UserWarning: The parameter 'pretrained' is deprecated since 0.13 and may be removed in the future, please use 'weights' instead.\n",
      "  warnings.warn(\n",
      "/home/gokul/.local/lib/python3.10/site-packages/torchvision/models/_utils.py:223: UserWarning: Arguments other than a weight enum or `None` for 'weights' are deprecated since 0.13 and may be removed in the future. The current behavior is equivalent to passing `weights=ViT_B_16_Weights.IMAGENET1K_V1`. You can also use `weights=ViT_B_16_Weights.DEFAULT` to get the most up-to-date weights.\n",
      "  warnings.warn(msg)\n"
     ]
    },
    {
     "name": "stdout",
     "output_type": "stream",
     "text": [
      "Epoch 1/10, Loss: 1.2383\n",
      "Epoch 2/10, Loss: 0.0876\n",
      "Epoch 3/10, Loss: 0.0208\n",
      "Epoch 4/10, Loss: 0.0192\n",
      "Epoch 5/10, Loss: 0.0119\n",
      "Epoch 6/10, Loss: 0.0242\n",
      "Epoch 7/10, Loss: 0.0147\n",
      "Epoch 8/10, Loss: 0.0071\n",
      "Epoch 9/10, Loss: 0.0085\n",
      "Epoch 10/10, Loss: 0.0104\n",
      "epoch 299 (of max 300) 🌻🌻🌻🌻🌻🌻🌻🌻🌻[0.9964757946261719, 1.0031384745117782, 1.0017334873513162, 0.9991726938443289, 0.9927484333284566, 2.1716221891573433]\n"
     ]
    },
    {
     "name": "stderr",
     "output_type": "stream",
     "text": [
      "/home/gokul/.local/lib/python3.10/site-packages/torchvision/models/_utils.py:208: UserWarning: The parameter 'pretrained' is deprecated since 0.13 and may be removed in the future, please use 'weights' instead.\n",
      "  warnings.warn(\n",
      "/home/gokul/.local/lib/python3.10/site-packages/torchvision/models/_utils.py:223: UserWarning: Arguments other than a weight enum or `None` for 'weights' are deprecated since 0.13 and may be removed in the future. The current behavior is equivalent to passing `weights=ViT_B_16_Weights.IMAGENET1K_V1`. You can also use `weights=ViT_B_16_Weights.DEFAULT` to get the most up-to-date weights.\n",
      "  warnings.warn(msg)\n"
     ]
    },
    {
     "name": "stdout",
     "output_type": "stream",
     "text": [
      "Epoch 1/10, Loss: 1.3521\n",
      "Epoch 2/10, Loss: 0.1311\n",
      "Epoch 3/10, Loss: 0.0462\n",
      "Epoch 4/10, Loss: 0.0299\n",
      "Epoch 5/10, Loss: 0.0181\n",
      "Epoch 6/10, Loss: 0.0151\n",
      "Epoch 7/10, Loss: 0.0109\n",
      "Epoch 8/10, Loss: 0.0097\n",
      "Epoch 9/10, Loss: 0.0096\n",
      "Epoch 10/10, Loss: 0.0080\n",
      "epoch 299 (of max 300) 🌻🌻🌻🌻🌻🌻🌻🌻🌻[0.9812020932561131, 0.9999457967554273, 1.0015170659605885, 1.0013638415528943, 1.0019918886626553, 2.1975311040194736]\n"
     ]
    },
    {
     "name": "stderr",
     "output_type": "stream",
     "text": [
      "/home/gokul/.local/lib/python3.10/site-packages/torchvision/models/_utils.py:208: UserWarning: The parameter 'pretrained' is deprecated since 0.13 and may be removed in the future, please use 'weights' instead.\n",
      "  warnings.warn(\n",
      "/home/gokul/.local/lib/python3.10/site-packages/torchvision/models/_utils.py:223: UserWarning: Arguments other than a weight enum or `None` for 'weights' are deprecated since 0.13 and may be removed in the future. The current behavior is equivalent to passing `weights=ViT_B_16_Weights.IMAGENET1K_V1`. You can also use `weights=ViT_B_16_Weights.DEFAULT` to get the most up-to-date weights.\n",
      "  warnings.warn(msg)\n"
     ]
    },
    {
     "name": "stdout",
     "output_type": "stream",
     "text": [
      "Epoch 1/10, Loss: 1.9098\n",
      "Epoch 2/10, Loss: 0.9008\n",
      "Epoch 3/10, Loss: 0.5806\n",
      "Epoch 4/10, Loss: 0.3552\n",
      "Epoch 5/10, Loss: 0.2038\n",
      "Epoch 6/10, Loss: 0.1223\n",
      "Epoch 7/10, Loss: 0.1262\n",
      "Epoch 8/10, Loss: 0.0769\n",
      "Epoch 9/10, Loss: 0.0674\n",
      "Epoch 10/10, Loss: 0.0529\n",
      "epoch 299 (of max 300) 🌻🌻🌻🌻🌻🌻🌻🌻🌻[0.9838129986770773, 0.9803616745311925, 0.9634966306989358, 0.9643237765541101, 0.9499646962625841, 2.1373641974317366]\n"
     ]
    },
    {
     "name": "stderr",
     "output_type": "stream",
     "text": [
      "/home/gokul/.local/lib/python3.10/site-packages/torchvision/models/_utils.py:208: UserWarning: The parameter 'pretrained' is deprecated since 0.13 and may be removed in the future, please use 'weights' instead.\n",
      "  warnings.warn(\n",
      "/home/gokul/.local/lib/python3.10/site-packages/torchvision/models/_utils.py:223: UserWarning: Arguments other than a weight enum or `None` for 'weights' are deprecated since 0.13 and may be removed in the future. The current behavior is equivalent to passing `weights=ViT_B_16_Weights.IMAGENET1K_V1`. You can also use `weights=ViT_B_16_Weights.DEFAULT` to get the most up-to-date weights.\n",
      "  warnings.warn(msg)\n"
     ]
    },
    {
     "name": "stdout",
     "output_type": "stream",
     "text": [
      "Epoch 1/10, Loss: 2.0344\n",
      "Epoch 2/10, Loss: 1.4519\n",
      "Epoch 3/10, Loss: 1.3041\n",
      "Epoch 4/10, Loss: 1.2365\n",
      "Epoch 5/10, Loss: 1.2215\n",
      "Epoch 6/10, Loss: 1.1280\n",
      "Epoch 7/10, Loss: 1.0641\n",
      "Epoch 8/10, Loss: 1.0127\n",
      "Epoch 9/10, Loss: 0.9936\n",
      "Epoch 10/10, Loss: 1.0241\n",
      "epoch 216 (of max 300) 🌻🌻🌻🌻🌻🌻🌻[0.4038520358742841, 0.4750135456923852, 0.5777814393602498, 0.49168149645267295, 0.053821029962676646, 1.1251076869493937]\n"
     ]
    },
    {
     "name": "stderr",
     "output_type": "stream",
     "text": [
      "/home/gokul/.local/lib/python3.10/site-packages/torchvision/models/_utils.py:208: UserWarning: The parameter 'pretrained' is deprecated since 0.13 and may be removed in the future, please use 'weights' instead.\n",
      "  warnings.warn(\n",
      "/home/gokul/.local/lib/python3.10/site-packages/torchvision/models/_utils.py:223: UserWarning: Arguments other than a weight enum or `None` for 'weights' are deprecated since 0.13 and may be removed in the future. The current behavior is equivalent to passing `weights=ViT_B_16_Weights.IMAGENET1K_V1`. You can also use `weights=ViT_B_16_Weights.DEFAULT` to get the most up-to-date weights.\n",
      "  warnings.warn(msg)\n"
     ]
    },
    {
     "name": "stdout",
     "output_type": "stream",
     "text": [
      "Epoch 1/10, Loss: 2.1477\n",
      "Epoch 2/10, Loss: 1.5662\n",
      "Epoch 3/10, Loss: 1.4773\n",
      "Epoch 4/10, Loss: 1.3999\n",
      "Epoch 5/10, Loss: 1.3473\n",
      "Epoch 6/10, Loss: 1.3038\n",
      "Epoch 7/10, Loss: 1.2891\n",
      "Epoch 8/10, Loss: 1.2736\n",
      "Epoch 9/10, Loss: 1.2554\n",
      "Epoch 10/10, Loss: 1.2307\n",
      "epoch 101 (of max 300) 🌻🌻🌻🌻🌻[0.08666556894160456, 0.1506159423337902, 0.3777578375748761, 0.2881122639335683, -0.0013758623723065524, 0.6235016661420977]\n"
     ]
    },
    {
     "name": "stderr",
     "output_type": "stream",
     "text": [
      "/home/gokul/.local/lib/python3.10/site-packages/torchvision/models/_utils.py:208: UserWarning: The parameter 'pretrained' is deprecated since 0.13 and may be removed in the future, please use 'weights' instead.\n",
      "  warnings.warn(\n",
      "/home/gokul/.local/lib/python3.10/site-packages/torchvision/models/_utils.py:223: UserWarning: Arguments other than a weight enum or `None` for 'weights' are deprecated since 0.13 and may be removed in the future. The current behavior is equivalent to passing `weights=ViT_B_16_Weights.IMAGENET1K_V1`. You can also use `weights=ViT_B_16_Weights.DEFAULT` to get the most up-to-date weights.\n",
      "  warnings.warn(msg)\n"
     ]
    },
    {
     "name": "stdout",
     "output_type": "stream",
     "text": [
      "Epoch 1/10, Loss: 2.2630\n",
      "Epoch 2/10, Loss: 1.6193\n",
      "Epoch 3/10, Loss: 1.5649\n",
      "Epoch 4/10, Loss: 1.5604\n",
      "Epoch 5/10, Loss: 1.5269\n",
      "Epoch 6/10, Loss: 1.4955\n",
      "Epoch 7/10, Loss: 1.4591\n",
      "Epoch 8/10, Loss: 1.4278\n",
      "Epoch 9/10, Loss: 1.4087\n",
      "Epoch 10/10, Loss: 1.4482\n",
      "epoch 116 (of max 300) 🌻🌻🌻[0.11962093527460126, 0.109821446310433, 0.1907622834736757, 0.06872418172274601, 0.008463034633549756, 0.16632014578876966]\n"
     ]
    },
    {
     "name": "stderr",
     "output_type": "stream",
     "text": [
      "/home/gokul/.local/lib/python3.10/site-packages/torchvision/models/_utils.py:208: UserWarning: The parameter 'pretrained' is deprecated since 0.13 and may be removed in the future, please use 'weights' instead.\n",
      "  warnings.warn(\n",
      "/home/gokul/.local/lib/python3.10/site-packages/torchvision/models/_utils.py:223: UserWarning: Arguments other than a weight enum or `None` for 'weights' are deprecated since 0.13 and may be removed in the future. The current behavior is equivalent to passing `weights=ViT_B_16_Weights.IMAGENET1K_V1`. You can also use `weights=ViT_B_16_Weights.DEFAULT` to get the most up-to-date weights.\n",
      "  warnings.warn(msg)\n"
     ]
    },
    {
     "name": "stdout",
     "output_type": "stream",
     "text": [
      "Epoch 1/10, Loss: 2.7165\n",
      "Epoch 2/10, Loss: 1.6392\n",
      "Epoch 3/10, Loss: 1.5862\n",
      "Epoch 4/10, Loss: 1.5638\n",
      "Epoch 5/10, Loss: 1.5641\n",
      "Epoch 6/10, Loss: 1.5662\n",
      "Epoch 7/10, Loss: 1.5529\n",
      "Epoch 8/10, Loss: 1.5505\n",
      "Epoch 9/10, Loss: 1.5415\n",
      "Epoch 10/10, Loss: 1.5402\n",
      "epoch 94 (of max 300) 🌻🌻🌻�🌻[0.026777958212788087, 0.007516002812367482, 0.03091648985736175, 0.056533467674777314, -0.06575676401078409, 0.03043699880084392]\n"
     ]
    },
    {
     "name": "stderr",
     "output_type": "stream",
     "text": [
      "/home/gokul/.local/lib/python3.10/site-packages/torchvision/models/_utils.py:208: UserWarning: The parameter 'pretrained' is deprecated since 0.13 and may be removed in the future, please use 'weights' instead.\n",
      "  warnings.warn(\n",
      "/home/gokul/.local/lib/python3.10/site-packages/torchvision/models/_utils.py:223: UserWarning: Arguments other than a weight enum or `None` for 'weights' are deprecated since 0.13 and may be removed in the future. The current behavior is equivalent to passing `weights=ViT_B_16_Weights.IMAGENET1K_V1`. You can also use `weights=ViT_B_16_Weights.DEFAULT` to get the most up-to-date weights.\n",
      "  warnings.warn(msg)\n"
     ]
    },
    {
     "name": "stdout",
     "output_type": "stream",
     "text": [
      "Epoch 1/10, Loss: 2.2275\n",
      "Epoch 2/10, Loss: 1.6394\n",
      "Epoch 3/10, Loss: 1.6045\n",
      "Epoch 4/10, Loss: 1.5879\n",
      "Epoch 5/10, Loss: 1.5722\n",
      "Epoch 6/10, Loss: 1.5534\n",
      "Epoch 7/10, Loss: 1.5535\n",
      "Epoch 8/10, Loss: 1.5393\n",
      "Epoch 9/10, Loss: 1.5444\n",
      "Epoch 10/10, Loss: 1.5427\n",
      "epoch 106 (of max 300) 🌻🌻🌻[-0.02967293312626366, -0.016965848585649198, 0.0012411464061671041, 0.020748570620549946, -0.033871774888354834, -0.009435154359286126]\n"
     ]
    },
    {
     "name": "stderr",
     "output_type": "stream",
     "text": [
      "/home/gokul/.local/lib/python3.10/site-packages/torchvision/models/_utils.py:208: UserWarning: The parameter 'pretrained' is deprecated since 0.13 and may be removed in the future, please use 'weights' instead.\n",
      "  warnings.warn(\n",
      "/home/gokul/.local/lib/python3.10/site-packages/torchvision/models/_utils.py:223: UserWarning: Arguments other than a weight enum or `None` for 'weights' are deprecated since 0.13 and may be removed in the future. The current behavior is equivalent to passing `weights=ViT_B_16_Weights.IMAGENET1K_V1`. You can also use `weights=ViT_B_16_Weights.DEFAULT` to get the most up-to-date weights.\n",
      "  warnings.warn(msg)\n"
     ]
    },
    {
     "name": "stdout",
     "output_type": "stream",
     "text": [
      "Epoch 1/10, Loss: 2.3078\n",
      "Epoch 2/10, Loss: 1.6248\n",
      "Epoch 3/10, Loss: 1.5822\n",
      "Epoch 4/10, Loss: 1.5835\n",
      "Epoch 5/10, Loss: 1.5703\n",
      "Epoch 6/10, Loss: 1.5535\n",
      "Epoch 7/10, Loss: 1.5469\n",
      "Epoch 8/10, Loss: 1.5596\n",
      "Epoch 9/10, Loss: 1.5436\n",
      "Epoch 10/10, Loss: 1.5467\n",
      "epoch 95 (of max 300) 🌻🌻🌻�🌻🌻[-0.024714897769993933, -0.061118660794510345, 0.005483912764559351, 0.031749563709974754, 0.08235895109604953, -0.04858433274191786]\n"
     ]
    }
   ],
   "source": [
    "d = {\n",
    "    \"Scale\" : [],\n",
    "    \"MI\" : [],\n",
    "    \"Class label\" : [],\n",
    "    \"N instances of label\" : []\n",
    "}\n",
    "\n",
    "MIs = []\n",
    "scales = np.logspace(-1, 3, 10)\n",
    "\n",
    "# process each factor\n",
    "for scale in scales:\n",
    "\n",
    "    model = ViTClassifier(num_classes=101)\n",
    "    model.to('cuda')\n",
    "    train_model(model, data_loader, epochs=10, scale=scale)\n",
    "\n",
    "    # estimate mutual info\n",
    "    mi, n_inst, labels = estimate_mi_repr(model, val_loader, scale=scale)\n",
    "    d['MI'] += mi\n",
    "    d['Scale'] += [scale] * len(mi)\n",
    "    d['Class label'] += labels\n",
    "    d[\"N instances of label\"] += n_inst"
   ]
  },
  {
   "cell_type": "code",
   "execution_count": 8,
   "metadata": {},
   "outputs": [],
   "source": [
    "import pandas as pd\n",
    "import seaborn as sns"
   ]
  },
  {
   "cell_type": "code",
   "execution_count": 9,
   "metadata": {},
   "outputs": [],
   "source": [
    "df = pd.DataFrame(data=d)\n",
    "df.to_csv(\"../results/ViT_Caltech101_Gaussian.csv\")\n",
    "# df"
   ]
  },
  {
   "cell_type": "code",
   "execution_count": 10,
   "metadata": {},
   "outputs": [
    {
     "data": {
      "text/plain": [
       "<matplotlib.legend.Legend at 0x7f0489b9d4b0>"
      ]
     },
     "execution_count": 10,
     "metadata": {},
     "output_type": "execute_result"
    },
    {
     "data": {
      "image/png": "[encoded data removed]",
      "text/plain": [
       "<Figure size 450x450 with 1 Axes>"
      ]
     },
     "metadata": {
      "needs_background": "light"
     },
     "output_type": "display_data"
    }
   ],
   "source": [
    "from lmfit import Model\n",
    "\n",
    "def info_scaling(x, A, B):\n",
    "    return 0.5 * np.log2(((1/x)*B+ 1)/(1+A*(1/x)))\n",
    "\n",
    "fig = plt.figure(figsize=(3,3), dpi=150)\n",
    "\n",
    "\n",
    "classes = df[df['N instances of label'] > 100]['Class label'].unique()\n",
    "palette = sns.color_palette(\"hls\", len(classes))\n",
    "\n",
    "for i, x in enumerate(classes[::-1]):\n",
    "    # prepare data\n",
    "    x_data = df[df['Class label'] == x]['Scale']**2\n",
    "    y_data = df[df['Class label'] == x]['MI']\n",
    "\n",
    "    # create model and parameters\n",
    "    model = Model(info_scaling)\n",
    "    params = model.make_params(A=1e-2, B=1e-2)  # initial guesses\n",
    "    params['A'].min = 0  # set bounds\n",
    "    params['B'].min = 0\n",
    "\n",
    "    # fit model\n",
    "    result = model.fit(y_data, params, x=x_data)\n",
    "\n",
    "    # generate fit line\n",
    "    x_fit = np.logspace(-2, 6, 10**5)\n",
    "    y_fit = model.eval(params=result.params, x=x_fit)\n",
    "\n",
    "    # calculate confidence bands\n",
    "    y_upper = result.eval_uncertainty(params=result.params, \n",
    "                                      x=x_fit, sigma=2)\n",
    "    y_lower = -y_upper\n",
    "\n",
    "    # plot fit and data\n",
    "    plt.plot(x_fit, y_fit, linestyle='--', color=palette[i], alpha=0.5)\n",
    "    plt.fill_between(x_fit, y_fit + y_upper, y_fit + y_lower, color=palette[i], alpha=0.2)\n",
    "    plt.scatter(x_data, y_data, color=palette[i], label=x)\n",
    "\n",
    "I_max = np.log2(top_n)\n",
    "plt.plot([np.min(x_fit), np.max(x_fit)], [I_max, I_max], linestyle='--', \n",
    "         color='grey', label='I_max', lw=3)\n",
    "\n",
    "\n",
    "plt.xlabel(r'$\\text{noise variance}$')\n",
    "plt.ylabel(r'$I(L; \\hat{L})$')\n",
    "plt.xscale('log')\n",
    "plt.legend(loc=(1.05, 0.5))"
   ]
  },
  {
   "cell_type": "code",
   "execution_count": null,
   "metadata": {},
   "outputs": [],
   "source": []
  }
 ],
 "metadata": {
  "kernelspec": {
   "display_name": "Python 3",
   "language": "python",
   "name": "python3"
  },
  "language_info": {
   "codemirror_mode": {
    "name": "ipython",
    "version": 3
   },
   "file_extension": ".py",
   "mimetype": "text/x-python",
   "name": "python",
   "nbconvert_exporter": "python",
   "pygments_lexer": "ipython3",
   "version": "3.10.12"
  }
 },
 "nbformat": 4,
 "nbformat_minor": 2
}
