{
 "cells": [
  {
   "cell_type": "code",
   "execution_count": 1,
   "metadata": {},
   "outputs": [
    {
     "name": "stderr",
     "output_type": "stream",
     "text": [
      "/home/gokul/.local/lib/python3.10/site-packages/matplotlib/projections/__init__.py:63: UserWarning: Unable to import Axes3D. This may be due to multiple versions of Matplotlib being installed (e.g. as a system package and as a pip package). As a result, the 3D projection is not available.\n",
      "  warnings.warn(\"Unable to import Axes3D. This may be due to multiple versions of \"\n"
     ]
    }
   ],
   "source": [
    "from latentmi import lmi\n",
    "import pandas as pd\n",
    "import numpy as np\n",
    "import seaborn as sns\n",
    "import matplotlib.pyplot as plt\n",
    "from matplotlib import rcParams\n",
    "import scanpy as sc \n",
    "from tqdm.notebook import tqdm\n",
    "import os\n"
   ]
  },
  {
   "cell_type": "code",
   "execution_count": 2,
   "metadata": {},
   "outputs": [
    {
     "data": {
      "application/vnd.jupyter.widget-view+json": {
       "model_id": "9b324ae2ccf640459e7ce048abcc4fe0",
       "version_major": 2,
       "version_minor": 0
      },
      "text/plain": [
       "  0%|          | 0/6 [00:00<?, ?it/s]"
      ]
     },
     "metadata": {},
     "output_type": "display_data"
    },
    {
     "name": "stdout",
     "output_type": "stream",
     "text": [
      "epoch 299 (of max 300) 🌻🌻🌻🌻🌻🌻🌻🌻🌻"
     ]
    },
    {
     "data": {
      "application/vnd.jupyter.widget-view+json": {
       "model_id": "cba7b635c0bf41ba80c5b9d6c4f4d93c",
       "version_major": 2,
       "version_minor": 0
      },
      "text/plain": [
       "  0%|          | 0/6 [00:00<?, ?it/s]"
      ]
     },
     "metadata": {},
     "output_type": "display_data"
    },
    {
     "name": "stdout",
     "output_type": "stream",
     "text": [
      "epoch 299 (of max 300) 🌻🌻🌻🌻🌻🌻🌻🌻🌻"
     ]
    },
    {
     "data": {
      "application/vnd.jupyter.widget-view+json": {
       "model_id": "07db6007ec5d4719bfd59432676e3998",
       "version_major": 2,
       "version_minor": 0
      },
      "text/plain": [
       "  0%|          | 0/6 [00:00<?, ?it/s]"
      ]
     },
     "metadata": {},
     "output_type": "display_data"
    },
    {
     "name": "stdout",
     "output_type": "stream",
     "text": [
      "epoch 293 (of max 300) 🌻🌻🌻🌻🌻🌻🌻🌻🌻"
     ]
    },
    {
     "data": {
      "application/vnd.jupyter.widget-view+json": {
       "model_id": "d42dd82713e44d019923441246c8bc86",
       "version_major": 2,
       "version_minor": 0
      },
      "text/plain": [
       "  0%|          | 0/6 [00:00<?, ?it/s]"
      ]
     },
     "metadata": {},
     "output_type": "display_data"
    },
    {
     "name": "stdout",
     "output_type": "stream",
     "text": [
      "epoch 299 (of max 300) 🌻🌻🌻🌻🌻🌻🌻🌻🌻"
     ]
    },
    {
     "data": {
      "application/vnd.jupyter.widget-view+json": {
       "model_id": "09e0f9600745404ca74f652d8248f040",
       "version_major": 2,
       "version_minor": 0
      },
      "text/plain": [
       "  0%|          | 0/6 [00:00<?, ?it/s]"
      ]
     },
     "metadata": {},
     "output_type": "display_data"
    },
    {
     "name": "stdout",
     "output_type": "stream",
     "text": [
      "epoch 273 (of max 300) 🌻🌻🌻🌻🌻🌻🌻🌻🌻"
     ]
    },
    {
     "data": {
      "application/vnd.jupyter.widget-view+json": {
       "model_id": "b92e5c84c37541f1a69f33d8172d9b90",
       "version_major": 2,
       "version_minor": 0
      },
      "text/plain": [
       "  0%|          | 0/6 [00:00<?, ?it/s]"
      ]
     },
     "metadata": {},
     "output_type": "display_data"
    },
    {
     "name": "stdout",
     "output_type": "stream",
     "text": [
      "epoch 299 (of max 300) 🌻🌻🌻🌻🌻🌻🌻🌻🌻"
     ]
    },
    {
     "data": {
      "application/vnd.jupyter.widget-view+json": {
       "model_id": "9e639cc920b248dcbb536bedce673f94",
       "version_major": 2,
       "version_minor": 0
      },
      "text/plain": [
       "  0%|          | 0/6 [00:00<?, ?it/s]"
      ]
     },
     "metadata": {},
     "output_type": "display_data"
    },
    {
     "name": "stdout",
     "output_type": "stream",
     "text": [
      "epoch 299 (of max 300) 🌻🌻🌻🌻🌻🌻🌻🌻🌻"
     ]
    },
    {
     "data": {
      "application/vnd.jupyter.widget-view+json": {
       "model_id": "cf044a06d73446ba84dbc72773fb29cd",
       "version_major": 2,
       "version_minor": 0
      },
      "text/plain": [
       "  0%|          | 0/6 [00:00<?, ?it/s]"
      ]
     },
     "metadata": {},
     "output_type": "display_data"
    },
    {
     "name": "stdout",
     "output_type": "stream",
     "text": [
      "epoch 299 (of max 300) 🌻🌻🌻🌻🌻🌻🌻🌻🌻"
     ]
    },
    {
     "data": {
      "application/vnd.jupyter.widget-view+json": {
       "model_id": "33a6ed9806ce44ae9edd5ada172e320c",
       "version_major": 2,
       "version_minor": 0
      },
      "text/plain": [
       "  0%|          | 0/6 [00:00<?, ?it/s]"
      ]
     },
     "metadata": {},
     "output_type": "display_data"
    },
    {
     "name": "stdout",
     "output_type": "stream",
     "text": [
      "epoch 299 (of max 300) 🌻🌻🌻🌻🌻🌻🌻🌻🌻"
     ]
    },
    {
     "data": {
      "application/vnd.jupyter.widget-view+json": {
       "model_id": "2c84bbd357f84a65b08347954e72d2fd",
       "version_major": 2,
       "version_minor": 0
      },
      "text/plain": [
       "  0%|          | 0/6 [00:00<?, ?it/s]"
      ]
     },
     "metadata": {},
     "output_type": "display_data"
    },
    {
     "name": "stdout",
     "output_type": "stream",
     "text": [
      "epoch 299 (of max 300) 🌻🌻🌻🌻🌻🌻🌻🌻🌻"
     ]
    },
    {
     "data": {
      "application/vnd.jupyter.widget-view+json": {
       "model_id": "77322870b2d04c129536094d676dca8e",
       "version_major": 2,
       "version_minor": 0
      },
      "text/plain": [
       "  0%|          | 0/6 [00:00<?, ?it/s]"
      ]
     },
     "metadata": {},
     "output_type": "display_data"
    },
    {
     "name": "stdout",
     "output_type": "stream",
     "text": [
      "epoch 299 (of max 300) 🌻🌻🌻🌻🌻🌻🌻🌻🌻"
     ]
    }
   ],
   "source": [
    "embeddings_dir = '../embeddings/Splatter/'\n",
    "results = []\n",
    "\n",
    "# loop through quality and replicate subdirectories\n",
    "for quality_dir in os.listdir(embeddings_dir):\n",
    "    quality_path = os.path.join(embeddings_dir, quality_dir)\n",
    "    if not os.path.isdir(quality_path):\n",
    "        continue\n",
    "    \n",
    "\n",
    "    # find held-out cells\n",
    "    held_out_path = os.path.join(quality_path, 'held_out_cells.h5ad')\n",
    "    held_out = sc.read_h5ad(held_out_path)\n",
    "\n",
    "    UMI_per_cell = held_out.X.sum()/len(held_out)\n",
    "\n",
    "    cell_types = pd.get_dummies(held_out.obs['Group']).to_numpy()\n",
    "\n",
    "    # loop through embedding files\n",
    "    for file in tqdm(os.listdir(quality_path)):\n",
    "        if not file.endswith('.npy'):\n",
    "            continue\n",
    "\n",
    "        # extract method and fraction from filename\n",
    "        method, frac = file.split('_')\n",
    "        frac = frac[4:-4]\n",
    "\n",
    "        # load embeddings\n",
    "        embedding_path = os.path.join(quality_path, file)\n",
    "        embeddings = np.load(embedding_path)\n",
    "\n",
    "        # estimate MI\n",
    "        pmis, _, _ = lmi.estimate(embeddings[:10**4], cell_types[:10**4], \n",
    "                                    quiet=True, batch_size=2048, N_dims=16)\n",
    "        mi = np.nanmean(pmis)\n",
    "\n",
    "        # save result\n",
    "        results.append({\n",
    "            'Quality': quality_dir.split('_')[0],\n",
    "            'UMI per cell' : UMI_per_cell,\n",
    "            # 'Replicate': quality_dir.split('_')[1],\n",
    "            # 'Fraction': float(frac),\n",
    "\n",
    "            # watch out ! this needs to be tweaked if we change hold out size\n",
    "            'Cell number' : int(float(frac)*3*len(held_out)),\n",
    "            'Method': method,\n",
    "            'Cell type MI': mi,\n",
    "        })"
   ]
  },
  {
   "cell_type": "code",
   "execution_count": 3,
   "metadata": {},
   "outputs": [
    {
     "data": {
      "text/html": [
       "<div>\n",
       "<style scoped>\n",
       "    .dataframe tbody tr th:only-of-type {\n",
       "        vertical-align: middle;\n",
       "    }\n",
       "\n",
       "    .dataframe tbody tr th {\n",
       "        vertical-align: top;\n",
       "    }\n",
       "\n",
       "    .dataframe thead th {\n",
       "        text-align: right;\n",
       "    }\n",
       "</style>\n",
       "<table border=\"1\" class=\"dataframe\">\n",
       "  <thead>\n",
       "    <tr style=\"text-align: right;\">\n",
       "      <th></th>\n",
       "      <th>Quality</th>\n",
       "      <th>UMI per cell</th>\n",
       "      <th>Cell number</th>\n",
       "      <th>Method</th>\n",
       "      <th>Cell type MI</th>\n",
       "    </tr>\n",
       "  </thead>\n",
       "  <tbody>\n",
       "    <tr>\n",
       "      <th>0</th>\n",
       "      <td>Q2.000</td>\n",
       "      <td>7.5076</td>\n",
       "      <td>7500</td>\n",
       "      <td>VAE</td>\n",
       "      <td>0.012906</td>\n",
       "    </tr>\n",
       "    <tr>\n",
       "      <th>1</th>\n",
       "      <td>Q2.000</td>\n",
       "      <td>7.5076</td>\n",
       "      <td>7500</td>\n",
       "      <td>PCA</td>\n",
       "      <td>-0.006606</td>\n",
       "    </tr>\n",
       "    <tr>\n",
       "      <th>2</th>\n",
       "      <td>Q2.000</td>\n",
       "      <td>7.5076</td>\n",
       "      <td>7500</td>\n",
       "      <td>RandomProjection</td>\n",
       "      <td>0.028864</td>\n",
       "    </tr>\n",
       "    <tr>\n",
       "      <th>3</th>\n",
       "      <td>Q3.000</td>\n",
       "      <td>20.4640</td>\n",
       "      <td>7500</td>\n",
       "      <td>VAE</td>\n",
       "      <td>0.060966</td>\n",
       "    </tr>\n",
       "    <tr>\n",
       "      <th>4</th>\n",
       "      <td>Q3.000</td>\n",
       "      <td>20.4640</td>\n",
       "      <td>7500</td>\n",
       "      <td>PCA</td>\n",
       "      <td>0.034311</td>\n",
       "    </tr>\n",
       "    <tr>\n",
       "      <th>5</th>\n",
       "      <td>Q3.000</td>\n",
       "      <td>20.4640</td>\n",
       "      <td>7500</td>\n",
       "      <td>RandomProjection</td>\n",
       "      <td>0.036382</td>\n",
       "    </tr>\n",
       "    <tr>\n",
       "      <th>6</th>\n",
       "      <td>Q4.000</td>\n",
       "      <td>55.7276</td>\n",
       "      <td>7500</td>\n",
       "      <td>VAE</td>\n",
       "      <td>0.188498</td>\n",
       "    </tr>\n",
       "    <tr>\n",
       "      <th>7</th>\n",
       "      <td>Q4.000</td>\n",
       "      <td>55.7276</td>\n",
       "      <td>7500</td>\n",
       "      <td>PCA</td>\n",
       "      <td>0.083223</td>\n",
       "    </tr>\n",
       "    <tr>\n",
       "      <th>8</th>\n",
       "      <td>Q4.000</td>\n",
       "      <td>55.7276</td>\n",
       "      <td>7500</td>\n",
       "      <td>RandomProjection</td>\n",
       "      <td>0.083240</td>\n",
       "    </tr>\n",
       "    <tr>\n",
       "      <th>9</th>\n",
       "      <td>Q5.000</td>\n",
       "      <td>151.8532</td>\n",
       "      <td>7500</td>\n",
       "      <td>VAE</td>\n",
       "      <td>0.372393</td>\n",
       "    </tr>\n",
       "    <tr>\n",
       "      <th>10</th>\n",
       "      <td>Q5.000</td>\n",
       "      <td>151.8532</td>\n",
       "      <td>7500</td>\n",
       "      <td>PCA</td>\n",
       "      <td>0.301759</td>\n",
       "    </tr>\n",
       "    <tr>\n",
       "      <th>11</th>\n",
       "      <td>Q5.000</td>\n",
       "      <td>151.8532</td>\n",
       "      <td>7500</td>\n",
       "      <td>RandomProjection</td>\n",
       "      <td>0.191296</td>\n",
       "    </tr>\n",
       "    <tr>\n",
       "      <th>12</th>\n",
       "      <td>Q6.000</td>\n",
       "      <td>411.8972</td>\n",
       "      <td>7500</td>\n",
       "      <td>VAE</td>\n",
       "      <td>0.742648</td>\n",
       "    </tr>\n",
       "    <tr>\n",
       "      <th>13</th>\n",
       "      <td>Q6.000</td>\n",
       "      <td>411.8972</td>\n",
       "      <td>7500</td>\n",
       "      <td>PCA</td>\n",
       "      <td>0.808181</td>\n",
       "    </tr>\n",
       "    <tr>\n",
       "      <th>14</th>\n",
       "      <td>Q6.000</td>\n",
       "      <td>411.8972</td>\n",
       "      <td>7500</td>\n",
       "      <td>RandomProjection</td>\n",
       "      <td>0.473816</td>\n",
       "    </tr>\n",
       "    <tr>\n",
       "      <th>15</th>\n",
       "      <td>Q7.000</td>\n",
       "      <td>1120.1924</td>\n",
       "      <td>7500</td>\n",
       "      <td>VAE</td>\n",
       "      <td>1.213638</td>\n",
       "    </tr>\n",
       "    <tr>\n",
       "      <th>16</th>\n",
       "      <td>Q7.000</td>\n",
       "      <td>1120.1924</td>\n",
       "      <td>7500</td>\n",
       "      <td>PCA</td>\n",
       "      <td>1.446712</td>\n",
       "    </tr>\n",
       "    <tr>\n",
       "      <th>17</th>\n",
       "      <td>Q7.000</td>\n",
       "      <td>1120.1924</td>\n",
       "      <td>7500</td>\n",
       "      <td>RandomProjection</td>\n",
       "      <td>0.671782</td>\n",
       "    </tr>\n",
       "    <tr>\n",
       "      <th>18</th>\n",
       "      <td>Q8.000</td>\n",
       "      <td>3048.5716</td>\n",
       "      <td>7500</td>\n",
       "      <td>VAE</td>\n",
       "      <td>1.520540</td>\n",
       "    </tr>\n",
       "    <tr>\n",
       "      <th>19</th>\n",
       "      <td>Q8.000</td>\n",
       "      <td>3048.5716</td>\n",
       "      <td>7500</td>\n",
       "      <td>PCA</td>\n",
       "      <td>1.859722</td>\n",
       "    </tr>\n",
       "    <tr>\n",
       "      <th>20</th>\n",
       "      <td>Q8.000</td>\n",
       "      <td>3048.5716</td>\n",
       "      <td>7500</td>\n",
       "      <td>RandomProjection</td>\n",
       "      <td>1.172605</td>\n",
       "    </tr>\n",
       "    <tr>\n",
       "      <th>21</th>\n",
       "      <td>Q9.000</td>\n",
       "      <td>8292.7456</td>\n",
       "      <td>7500</td>\n",
       "      <td>VAE</td>\n",
       "      <td>1.865129</td>\n",
       "    </tr>\n",
       "    <tr>\n",
       "      <th>22</th>\n",
       "      <td>Q9.000</td>\n",
       "      <td>8292.7456</td>\n",
       "      <td>7500</td>\n",
       "      <td>PCA</td>\n",
       "      <td>1.987038</td>\n",
       "    </tr>\n",
       "    <tr>\n",
       "      <th>23</th>\n",
       "      <td>Q9.000</td>\n",
       "      <td>8292.7456</td>\n",
       "      <td>7500</td>\n",
       "      <td>RandomProjection</td>\n",
       "      <td>1.710924</td>\n",
       "    </tr>\n",
       "    <tr>\n",
       "      <th>24</th>\n",
       "      <td>Q10.000</td>\n",
       "      <td>22555.9440</td>\n",
       "      <td>7500</td>\n",
       "      <td>VAE</td>\n",
       "      <td>1.979358</td>\n",
       "    </tr>\n",
       "    <tr>\n",
       "      <th>25</th>\n",
       "      <td>Q10.000</td>\n",
       "      <td>22555.9440</td>\n",
       "      <td>7500</td>\n",
       "      <td>PCA</td>\n",
       "      <td>1.999957</td>\n",
       "    </tr>\n",
       "    <tr>\n",
       "      <th>26</th>\n",
       "      <td>Q10.000</td>\n",
       "      <td>22555.9440</td>\n",
       "      <td>7500</td>\n",
       "      <td>RandomProjection</td>\n",
       "      <td>1.953939</td>\n",
       "    </tr>\n",
       "    <tr>\n",
       "      <th>27</th>\n",
       "      <td>Q11.000</td>\n",
       "      <td>61246.8288</td>\n",
       "      <td>7500</td>\n",
       "      <td>VAE</td>\n",
       "      <td>1.997716</td>\n",
       "    </tr>\n",
       "    <tr>\n",
       "      <th>28</th>\n",
       "      <td>Q11.000</td>\n",
       "      <td>61246.8288</td>\n",
       "      <td>7500</td>\n",
       "      <td>PCA</td>\n",
       "      <td>2.001598</td>\n",
       "    </tr>\n",
       "    <tr>\n",
       "      <th>29</th>\n",
       "      <td>Q11.000</td>\n",
       "      <td>61246.8288</td>\n",
       "      <td>7500</td>\n",
       "      <td>RandomProjection</td>\n",
       "      <td>1.993853</td>\n",
       "    </tr>\n",
       "    <tr>\n",
       "      <th>30</th>\n",
       "      <td>Q12.000</td>\n",
       "      <td>166620.6080</td>\n",
       "      <td>7500</td>\n",
       "      <td>VAE</td>\n",
       "      <td>2.000004</td>\n",
       "    </tr>\n",
       "    <tr>\n",
       "      <th>31</th>\n",
       "      <td>Q12.000</td>\n",
       "      <td>166620.6080</td>\n",
       "      <td>7500</td>\n",
       "      <td>PCA</td>\n",
       "      <td>1.998163</td>\n",
       "    </tr>\n",
       "    <tr>\n",
       "      <th>32</th>\n",
       "      <td>Q12.000</td>\n",
       "      <td>166620.6080</td>\n",
       "      <td>7500</td>\n",
       "      <td>RandomProjection</td>\n",
       "      <td>1.985754</td>\n",
       "    </tr>\n",
       "  </tbody>\n",
       "</table>\n",
       "</div>"
      ],
      "text/plain": [
       "    Quality  UMI per cell  Cell number            Method  Cell type MI\n",
       "0    Q2.000        7.5076         7500               VAE      0.012906\n",
       "1    Q2.000        7.5076         7500               PCA     -0.006606\n",
       "2    Q2.000        7.5076         7500  RandomProjection      0.028864\n",
       "3    Q3.000       20.4640         7500               VAE      0.060966\n",
       "4    Q3.000       20.4640         7500               PCA      0.034311\n",
       "5    Q3.000       20.4640         7500  RandomProjection      0.036382\n",
       "6    Q4.000       55.7276         7500               VAE      0.188498\n",
       "7    Q4.000       55.7276         7500               PCA      0.083223\n",
       "8    Q4.000       55.7276         7500  RandomProjection      0.083240\n",
       "9    Q5.000      151.8532         7500               VAE      0.372393\n",
       "10   Q5.000      151.8532         7500               PCA      0.301759\n",
       "11   Q5.000      151.8532         7500  RandomProjection      0.191296\n",
       "12   Q6.000      411.8972         7500               VAE      0.742648\n",
       "13   Q6.000      411.8972         7500               PCA      0.808181\n",
       "14   Q6.000      411.8972         7500  RandomProjection      0.473816\n",
       "15   Q7.000     1120.1924         7500               VAE      1.213638\n",
       "16   Q7.000     1120.1924         7500               PCA      1.446712\n",
       "17   Q7.000     1120.1924         7500  RandomProjection      0.671782\n",
       "18   Q8.000     3048.5716         7500               VAE      1.520540\n",
       "19   Q8.000     3048.5716         7500               PCA      1.859722\n",
       "20   Q8.000     3048.5716         7500  RandomProjection      1.172605\n",
       "21   Q9.000     8292.7456         7500               VAE      1.865129\n",
       "22   Q9.000     8292.7456         7500               PCA      1.987038\n",
       "23   Q9.000     8292.7456         7500  RandomProjection      1.710924\n",
       "24  Q10.000    22555.9440         7500               VAE      1.979358\n",
       "25  Q10.000    22555.9440         7500               PCA      1.999957\n",
       "26  Q10.000    22555.9440         7500  RandomProjection      1.953939\n",
       "27  Q11.000    61246.8288         7500               VAE      1.997716\n",
       "28  Q11.000    61246.8288         7500               PCA      2.001598\n",
       "29  Q11.000    61246.8288         7500  RandomProjection      1.993853\n",
       "30  Q12.000   166620.6080         7500               VAE      2.000004\n",
       "31  Q12.000   166620.6080         7500               PCA      1.998163\n",
       "32  Q12.000   166620.6080         7500  RandomProjection      1.985754"
      ]
     },
     "execution_count": 3,
     "metadata": {},
     "output_type": "execute_result"
    }
   ],
   "source": [
    "results = pd.DataFrame(results)\n",
    "results"
   ]
  },
  {
   "cell_type": "code",
   "execution_count": 4,
   "metadata": {},
   "outputs": [
    {
     "data": {
      "image/png": "[encoded data removed]",
      "text/plain": [
       "<Figure size 432x288 with 1 Axes>"
      ]
     },
     "metadata": {
      "needs_background": "light"
     },
     "output_type": "display_data"
    }
   ],
   "source": [
    "sns.lineplot(data=results, x='UMI per cell', y='Cell type MI', hue='Method', marker='o')\n",
    "plt.xscale('log')"
   ]
  },
  {
   "cell_type": "code",
   "execution_count": 5,
   "metadata": {},
   "outputs": [],
   "source": [
    "# results.to_csv('Splatter_results.csv', index=False)"
   ]
  },
  {
   "cell_type": "code",
   "execution_count": 6,
   "metadata": {},
   "outputs": [],
   "source": [
    "# results = pd.read_csv('Splatter_results.csv')"
   ]
  },
  {
   "cell_type": "code",
   "execution_count": 7,
   "metadata": {},
   "outputs": [],
   "source": [
    "from lmfit import Model\n",
    "def info_scaling(x, A, B):\n",
    "    return 0.5 * np.log2((1 + B*x)/(1 + A*x))\n",
    "pretty_palette = sns.color_palette(\"Set1\")"
   ]
  },
  {
   "cell_type": "code",
   "execution_count": 8,
   "metadata": {},
   "outputs": [
    {
     "data": {
      "text/plain": [
       "<matplotlib.legend.Legend at 0x74ef9ed2f520>"
      ]
     },
     "execution_count": 8,
     "metadata": {},
     "output_type": "execute_result"
    },
    {
     "data": {
      "image/png": "[encoded data removed]",
      "text/plain": [
       "<Figure size 600x600 with 1 Axes>"
      ]
     },
     "metadata": {
      "needs_background": "light"
     },
     "output_type": "display_data"
    }
   ],
   "source": [
    "plt.figure(figsize=(3,3), dpi=200)\n",
    "\n",
    "for i, method in enumerate(results['Method'].unique()):\n",
    "    ax = sns.scatterplot(data=results[results['Method'] == method], x='UMI per cell', \n",
    "                         y='Cell type MI', label=method, color=pretty_palette[i])\n",
    "    x_data = results[results['Method'] == method]['UMI per cell'] \n",
    "    ydata = results[results['Method'] == method]['Cell type MI']\n",
    "\n",
    "    x_data = x_data.sort_values()\n",
    "    ydata = ydata.sort_values()\n",
    "    model = Model(info_scaling)\n",
    "    params = model.make_params(A=1e-4, B=1e-4)  # initial guesses\n",
    "    params['A'].min = 0  # set bounds\n",
    "    params['B'].min = 0\n",
    "\n",
    "    # fit model\n",
    "    result = model.fit(ydata, params, x=x_data)\n",
    "\n",
    "    x_fit = np.linspace(1, 5e5, 10**5)\n",
    "    y_fit = model.eval(params=result.params, x=x_fit)\n",
    "\n",
    "    y_upper = result.eval_uncertainty(params=result.params, \n",
    "                                    x=x_fit, sigma=2)\n",
    "    y_lower = -y_upper\n",
    "\n",
    "    ax.fill_between(x_fit, y_fit + y_upper, y_fit + y_lower, color=pretty_palette[i], alpha=0.2)\n",
    "\n",
    "    ax.plot(x_fit, y_fit, color=pretty_palette[i], linestyle='--')\n",
    "\n",
    "\n",
    "# ax.plot([1, 5e5], [2, 2], color='black', linestyle='--')\n",
    "plt.xscale('log')\n",
    "plt.legend(loc=(1.05, 0.7))"
   ]
  },
  {
   "cell_type": "code",
   "execution_count": null,
   "metadata": {},
   "outputs": [],
   "source": []
  }
 ],
 "metadata": {
  "kernelspec": {
   "display_name": "Python 3",
   "language": "python",
   "name": "python3"
  },
  "language_info": {
   "codemirror_mode": {
    "name": "ipython",
    "version": 3
   },
   "file_extension": ".py",
   "mimetype": "text/x-python",
   "name": "python",
   "nbconvert_exporter": "python",
   "pygments_lexer": "ipython3",
   "version": "3.10.12"
  }
 },
 "nbformat": 4,
 "nbformat_minor": 2
}
