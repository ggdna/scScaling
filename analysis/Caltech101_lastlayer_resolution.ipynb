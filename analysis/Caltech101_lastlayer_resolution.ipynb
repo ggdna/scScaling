{
 "cells": [
  {
   "cell_type": "code",
   "execution_count": 1,
   "metadata": {},
   "outputs": [
    {
     "name": "stderr",
     "output_type": "stream",
     "text": [
      "/home/gokul/.local/lib/python3.10/site-packages/matplotlib/projections/__init__.py:63: UserWarning: Unable to import Axes3D. This may be due to multiple versions of Matplotlib being installed (e.g. as a system package and as a pip package). As a result, the 3D projection is not available.\n",
      "  warnings.warn(\"Unable to import Axes3D. This may be due to multiple versions of \"\n"
     ]
    },
    {
     "data": {
      "text/plain": [
       "<torch._C.Generator at 0x7d59c016e150>"
      ]
     },
     "execution_count": 1,
     "metadata": {},
     "output_type": "execute_result"
    }
   ],
   "source": [
    "import numpy as np\n",
    "from sklearn.decomposition import PCA\n",
    "from torchvision import datasets, transforms, models\n",
    "from latentmi import lmi, ksg\n",
    "import seaborn as sns\n",
    "import torch\n",
    "from sklearn.preprocessing import StandardScaler\n",
    "import matplotlib.pyplot as plt\n",
    "from collections import Counter\n",
    "\n",
    "\n",
    "import torch.nn as nn\n",
    "import torch.optim as optim\n",
    "\n",
    "device='cuda'\n",
    "\n",
    "torch.manual_seed(212121)"
   ]
  },
  {
   "cell_type": "code",
   "execution_count": 2,
   "metadata": {},
   "outputs": [],
   "source": [
    "import pandas as pd\n",
    "import seaborn as sns"
   ]
  },
  {
   "cell_type": "code",
   "execution_count": 3,
   "metadata": {},
   "outputs": [],
   "source": [
    "# define resnet model\n",
    "class MobileNetClassifier(nn.Module):\n",
    "    def __init__(self, num_classes):\n",
    "        super(MobileNetClassifier, self).__init__()\n",
    "        self.mobilenet = models.mobilenet_v2(pretrained=True)\n",
    "        self.mobilenet.classifier[1] = nn.Linear(self.mobilenet.last_channel, num_classes)  # update final layer\n",
    "\n",
    "    def forward(self, x):\n",
    "        return self.mobilenet(x)\n",
    "    \n",
    "def train_model(model, dataloader, epochs=5, downsample_factor=1):\n",
    "    criterion = nn.CrossEntropyLoss()\n",
    "    optimizer = optim.Adam(model.parameters(), lr=1e-4)\n",
    "    model.train()\n",
    "\n",
    "    best_loss = np.inf\n",
    "    best_state = None \n",
    "    \n",
    "    for epoch in range(epochs):\n",
    "        total_loss = 0.0\n",
    "        for inputs, labels in dataloader:\n",
    "            inputs, labels = inputs.numpy(), labels.numpy()  # to numpy\n",
    "            if downsample_factor > 1:\n",
    "                inputs = downsample_resolution(inputs, downsample_factor)\n",
    "            inputs, labels = torch.tensor(inputs).to(device).float(), torch.tensor(labels).to(device)  # back to tensor\n",
    "\n",
    "            optimizer.zero_grad()\n",
    "            outputs = model(inputs)\n",
    "            loss = criterion(outputs, labels)\n",
    "            loss.backward()\n",
    "            optimizer.step()\n",
    "\n",
    "            total_loss += loss.item()\n",
    "\n",
    "        avg_loss = total_loss / len(dataloader)\n",
    "        print(f\"Epoch {epoch + 1}/{epochs}, Loss: {avg_loss:.4f}\")\n",
    "\n",
    "        if avg_loss < best_loss:\n",
    "            best_loss = avg_loss\n",
    "            best_state = model.state_dict()  # save the best so far! ⭐\n",
    "            stale_epochs = 0\n",
    "        else:\n",
    "            stale_epochs += 1\n",
    "            if stale_epochs >= 10:\n",
    "                print(\"early stopping! no improvement :(\")\n",
    "                break\n",
    "\n",
    "    if best_state is not None:\n",
    "        model.load_state_dict(best_state)  # restore the champ! 🏆\n",
    "\n",
    "    return model  # all done!\n",
    "\n",
    "\n",
    "def downsample_resolution(images, factor):\n",
    "    h, w = images.shape[2:]  # height and width of images\n",
    "    new_h, new_w = h // factor, w // factor\n",
    "    downsampled = np.zeros((images.shape[0], images.shape[1], new_h, new_w))  # output shape\n",
    "\n",
    "    for i in range(new_h):\n",
    "        for j in range(new_w):\n",
    "            patch = images[:, :, i * factor:(i + 1) * factor, j * factor:(j + 1) * factor]\n",
    "            avg_patch = np.mean(patch, axis=(2, 3))  # mean across height and width\n",
    "            downsampled[:, :, i, j] = avg_patch\n",
    "\n",
    "    return downsampled\n",
    "\n",
    "# pca wrapper (top 16 pcs!)\n",
    "def compute_pca(images, n_components=16):\n",
    "    flat_images = images.reshape(images.shape[0], -1)\n",
    "    scaler = StandardScaler()\n",
    "    scaled_images = scaler.fit_transform(flat_images)  # normalize!\n",
    "    pca = PCA(n_components=n_components)\n",
    "    pcs = pca.fit_transform(scaled_images)\n",
    "    return pcs\n",
    "\n",
    "def resample_one_v_all(true_labels, target_label):\n",
    "    target_indices = []\n",
    "    other_indices = []\n",
    "    for i, label in enumerate(true_labels):\n",
    "        if target_label == label:\n",
    "            target_indices.append(i)\n",
    "        else:\n",
    "            other_indices.append(i)\n",
    "\n",
    "    other_indices = np.random.choice(other_indices, len(target_indices), replace=False)\n",
    "    indices = np.concatenate([target_indices, other_indices])\n",
    "    return indices.astype(int)\n",
    "\n",
    "\n",
    "def estimate_mi_repr(model, dataloader, downsample_factor=1):\n",
    "    model.eval()\n",
    "    true_labels = []\n",
    "    last_layer_reprs = []\n",
    "\n",
    "    with torch.no_grad():\n",
    "        for inputs, labels in dataloader:\n",
    "            inputs = inputs.numpy()  # to numpy\n",
    "            if downsample_factor > 1:\n",
    "                inputs = downsample_resolution(inputs, downsample_factor)  # downsample\n",
    "            inputs = torch.tensor(inputs).to(device).float()  # back to tensor\n",
    "            outputs = model(inputs)\n",
    "            preds = torch.argmax(outputs, dim=1).cpu().numpy()\n",
    "\n",
    "            true_labels.append(labels.numpy())\n",
    "            last_layer_reprs.append(outputs.cpu().numpy())\n",
    "\n",
    "    true_labels = np.concatenate(true_labels)\n",
    "    last_layer_reprs = np.concatenate(last_layer_reprs)\n",
    "\n",
    "    MIs = []\n",
    "    N_samples = []\n",
    "    labels = []\n",
    "\n",
    "    for label in np.unique(true_labels):\n",
    "        N_samples.append(np.sum(true_labels == label))\n",
    "        labels.append(label)\n",
    "        idx = resample_one_v_all(true_labels, label)\n",
    "        bin_y = true_labels[idx] == label\n",
    "        reprs = last_layer_reprs[idx]\n",
    "        \n",
    "        MIs.append(np.nanmean(lmi.estimate(bin_y.reshape(-1, 1), reprs)[0]))\n",
    "\n",
    "    # all labels → one-hot!\n",
    "    uniques = np.unique(true_labels).tolist()\n",
    "    n_classes = len(uniques)\n",
    "    one_hot_labels = np.eye(n_classes)[[uniques.index(s) for s in true_labels]]\n",
    "    MIs.append(np.nanmean(lmi.estimate(one_hot_labels, last_layer_reprs, N_dims=16)[0]))\n",
    "    N_samples.append(len(true_labels))\n",
    "    labels.append('all')\n",
    "\n",
    "    print(MIs)\n",
    "\n",
    "    return MIs, N_samples, labels\n"
   ]
  },
  {
   "cell_type": "code",
   "execution_count": 4,
   "metadata": {},
   "outputs": [
    {
     "name": "stdout",
     "output_type": "stream",
     "text": [
      "Files already downloaded and verified\n",
      "2707 total samples\n"
     ]
    }
   ],
   "source": [
    "transform = transforms.Compose([\n",
    "    transforms.Lambda(lambda img: img.convert(\"RGB\") if img.mode != \"RGB\" else img),  # ensure RGB\n",
    "    transforms.Resize((240, 240)),  # resize to a manageable resolution\n",
    "    transforms.ToTensor(),  # convert to tensor\n",
    "    transforms.Normalize(mean=[0.5, 0.5, 0.5], std=[0.5, 0.5, 0.5])  # normalize\n",
    "])\n",
    "\n",
    "# load dataset\n",
    "Caltech101 = datasets.Caltech101(root='../data', download=True, transform=transform)\n",
    "\n",
    "# get class labels\n",
    "labels = Caltech101.y  # class indices for the dataset\n",
    "\n",
    "# count occurrences of each class\n",
    "class_counts = Counter(labels)\n",
    "\n",
    "# find top n largest classes\n",
    "top_n = 5\n",
    "top_n_classes = [cls for cls, _ in class_counts.most_common(top_n)]\n",
    "\n",
    "# subset the dataset to include only samples from these top classes\n",
    "indices = [i for i, label in enumerate(labels) if label in top_n_classes]\n",
    "subset = torch.utils.data.Subset(Caltech101, indices)\n",
    "\n",
    "# split the subset into train and validation sets\n",
    "N = len(subset)\n",
    "print(f\"{N} total samples\")\n",
    "train_set, val_set = torch.utils.data.random_split(subset, [N//2, N - N//2])\n",
    "\n",
    "# create data loaders\n",
    "data_loader = torch.utils.data.DataLoader(train_set, batch_size=128, shuffle=True)\n",
    "val_loader = torch.utils.data.DataLoader(val_set, batch_size=128, shuffle=False)"
   ]
  },
  {
   "cell_type": "code",
   "execution_count": 5,
   "metadata": {},
   "outputs": [
    {
     "name": "stderr",
     "output_type": "stream",
     "text": [
      "/home/gokul/.local/lib/python3.10/site-packages/torchvision/models/_utils.py:208: UserWarning: The parameter 'pretrained' is deprecated since 0.13 and may be removed in the future, please use 'weights' instead.\n",
      "  warnings.warn(\n",
      "/home/gokul/.local/lib/python3.10/site-packages/torchvision/models/_utils.py:223: UserWarning: Arguments other than a weight enum or `None` for 'weights' are deprecated since 0.13 and may be removed in the future. The current behavior is equivalent to passing `weights=MobileNet_V2_Weights.IMAGENET1K_V1`. You can also use `weights=MobileNet_V2_Weights.DEFAULT` to get the most up-to-date weights.\n",
      "  warnings.warn(msg)\n"
     ]
    },
    {
     "name": "stdout",
     "output_type": "stream",
     "text": [
      "factors to process: [1, 2, 4, 5, 8, 10, 20, 25, 40, 50, 100, 200]\n",
      "downsampling by factor 1...\n"
     ]
    },
    {
     "name": "stdout",
     "output_type": "stream",
     "text": [
      "Epoch 1/10, Loss: 3.0210\n",
      "Epoch 2/10, Loss: 0.5096\n",
      "Epoch 3/10, Loss: 0.0687\n",
      "Epoch 4/10, Loss: 0.0303\n",
      "Epoch 5/10, Loss: 0.0150\n",
      "Epoch 6/10, Loss: 0.0175\n",
      "Epoch 7/10, Loss: 0.0107\n",
      "Epoch 8/10, Loss: 0.0086\n",
      "Epoch 9/10, Loss: 0.0065\n",
      "Epoch 10/10, Loss: 0.0069\n",
      "epoch 299 (of max 300) 🌻🌻🌻🌻🌻🌻🌻🌻🌻[0.9438329062409183, 0.97711219254754, 0.9992929705429503, 1.001599977167972, 0.9866381119895986, 2.178158520784438]\n",
      "downsampling by factor 2...\n"
     ]
    },
    {
     "name": "stderr",
     "output_type": "stream",
     "text": [
      "/home/gokul/.local/lib/python3.10/site-packages/torchvision/models/_utils.py:208: UserWarning: The parameter 'pretrained' is deprecated since 0.13 and may be removed in the future, please use 'weights' instead.\n",
      "  warnings.warn(\n",
      "/home/gokul/.local/lib/python3.10/site-packages/torchvision/models/_utils.py:223: UserWarning: Arguments other than a weight enum or `None` for 'weights' are deprecated since 0.13 and may be removed in the future. The current behavior is equivalent to passing `weights=MobileNet_V2_Weights.IMAGENET1K_V1`. You can also use `weights=MobileNet_V2_Weights.DEFAULT` to get the most up-to-date weights.\n",
      "  warnings.warn(msg)\n"
     ]
    },
    {
     "name": "stdout",
     "output_type": "stream",
     "text": [
      "Epoch 1/10, Loss: 2.6947\n",
      "Epoch 2/10, Loss: 0.3289\n",
      "Epoch 3/10, Loss: 0.0504\n",
      "Epoch 4/10, Loss: 0.0276\n",
      "Epoch 5/10, Loss: 0.0189\n",
      "Epoch 6/10, Loss: 0.0120\n",
      "Epoch 7/10, Loss: 0.0064\n",
      "Epoch 8/10, Loss: 0.0080\n",
      "Epoch 9/10, Loss: 0.0079\n",
      "Epoch 10/10, Loss: 0.0059\n",
      "epoch 299 (of max 300) 🌻🌻🌻🌻🌻🌻🌻🌻🌻[0.9931941763543406, 0.9624423364159715, 1.0005081816653076, 0.9919240445018626, 0.9975464091253381, 2.1545502882529655]\n",
      "downsampling by factor 4...\n"
     ]
    },
    {
     "name": "stderr",
     "output_type": "stream",
     "text": [
      "/home/gokul/.local/lib/python3.10/site-packages/torchvision/models/_utils.py:208: UserWarning: The parameter 'pretrained' is deprecated since 0.13 and may be removed in the future, please use 'weights' instead.\n",
      "  warnings.warn(\n",
      "/home/gokul/.local/lib/python3.10/site-packages/torchvision/models/_utils.py:223: UserWarning: Arguments other than a weight enum or `None` for 'weights' are deprecated since 0.13 and may be removed in the future. The current behavior is equivalent to passing `weights=MobileNet_V2_Weights.IMAGENET1K_V1`. You can also use `weights=MobileNet_V2_Weights.DEFAULT` to get the most up-to-date weights.\n",
      "  warnings.warn(msg)\n"
     ]
    },
    {
     "name": "stdout",
     "output_type": "stream",
     "text": [
      "Epoch 1/10, Loss: 3.2224\n",
      "Epoch 2/10, Loss: 0.7448\n",
      "Epoch 3/10, Loss: 0.1525\n",
      "Epoch 4/10, Loss: 0.0464\n",
      "Epoch 5/10, Loss: 0.0238\n",
      "Epoch 6/10, Loss: 0.0112\n",
      "Epoch 7/10, Loss: 0.0090\n",
      "Epoch 8/10, Loss: 0.0109\n",
      "Epoch 9/10, Loss: 0.0067\n",
      "Epoch 10/10, Loss: 0.0062\n",
      "epoch 237 (of max 300) 🌻🌻🌻🌻🌻🌻🌻🌻🌻[0.9981335561625256, 0.9482686743601078, 0.9858913575846001, 0.9827495414457879, 0.9803632018318966, 2.1430433301950256]\n",
      "downsampling by factor 5...\n"
     ]
    },
    {
     "name": "stderr",
     "output_type": "stream",
     "text": [
      "/home/gokul/.local/lib/python3.10/site-packages/torchvision/models/_utils.py:208: UserWarning: The parameter 'pretrained' is deprecated since 0.13 and may be removed in the future, please use 'weights' instead.\n",
      "  warnings.warn(\n",
      "/home/gokul/.local/lib/python3.10/site-packages/torchvision/models/_utils.py:223: UserWarning: Arguments other than a weight enum or `None` for 'weights' are deprecated since 0.13 and may be removed in the future. The current behavior is equivalent to passing `weights=MobileNet_V2_Weights.IMAGENET1K_V1`. You can also use `weights=MobileNet_V2_Weights.DEFAULT` to get the most up-to-date weights.\n",
      "  warnings.warn(msg)\n"
     ]
    },
    {
     "name": "stdout",
     "output_type": "stream",
     "text": [
      "Epoch 1/10, Loss: 3.4396\n",
      "Epoch 2/10, Loss: 1.0244\n",
      "Epoch 3/10, Loss: 0.2307\n",
      "Epoch 4/10, Loss: 0.0617\n",
      "Epoch 5/10, Loss: 0.0450\n",
      "Epoch 6/10, Loss: 0.0199\n",
      "Epoch 7/10, Loss: 0.0160\n",
      "Epoch 8/10, Loss: 0.0132\n",
      "Epoch 9/10, Loss: 0.0125\n",
      "Epoch 10/10, Loss: 0.0078\n",
      "epoch 299 (of max 300) 🌻🌻🌻🌻🌻🌻🌻🌻🌻[0.9178833588975535, 0.8783083035114794, 0.9751651926008511, 0.9831656171228336, 0.9264539564565063, 2.046258664709089]\n",
      "downsampling by factor 8...\n"
     ]
    },
    {
     "name": "stderr",
     "output_type": "stream",
     "text": [
      "/home/gokul/.local/lib/python3.10/site-packages/torchvision/models/_utils.py:208: UserWarning: The parameter 'pretrained' is deprecated since 0.13 and may be removed in the future, please use 'weights' instead.\n",
      "  warnings.warn(\n",
      "/home/gokul/.local/lib/python3.10/site-packages/torchvision/models/_utils.py:223: UserWarning: Arguments other than a weight enum or `None` for 'weights' are deprecated since 0.13 and may be removed in the future. The current behavior is equivalent to passing `weights=MobileNet_V2_Weights.IMAGENET1K_V1`. You can also use `weights=MobileNet_V2_Weights.DEFAULT` to get the most up-to-date weights.\n",
      "  warnings.warn(msg)\n"
     ]
    },
    {
     "name": "stdout",
     "output_type": "stream",
     "text": [
      "Epoch 1/10, Loss: 3.5008\n",
      "Epoch 2/10, Loss: 1.3954\n",
      "Epoch 3/10, Loss: 0.4936\n",
      "Epoch 4/10, Loss: 0.2007\n",
      "Epoch 5/10, Loss: 0.1022\n",
      "Epoch 6/10, Loss: 0.0585\n",
      "Epoch 7/10, Loss: 0.0620\n",
      "Epoch 8/10, Loss: 0.0568\n",
      "Epoch 9/10, Loss: 0.0306\n",
      "Epoch 10/10, Loss: 0.0269\n",
      "epoch 165 (of max 300) 🌻🌻🌻🌻🌻🌻🌻🌻🌻[0.8603772647848393, 0.8093393032612061, 0.9211954846221392, 0.8724822758855596, 0.7623783711093451, 1.9350708970644228]\n",
      "downsampling by factor 10...\n"
     ]
    },
    {
     "name": "stderr",
     "output_type": "stream",
     "text": [
      "/home/gokul/.local/lib/python3.10/site-packages/torchvision/models/_utils.py:208: UserWarning: The parameter 'pretrained' is deprecated since 0.13 and may be removed in the future, please use 'weights' instead.\n",
      "  warnings.warn(\n",
      "/home/gokul/.local/lib/python3.10/site-packages/torchvision/models/_utils.py:223: UserWarning: Arguments other than a weight enum or `None` for 'weights' are deprecated since 0.13 and may be removed in the future. The current behavior is equivalent to passing `weights=MobileNet_V2_Weights.IMAGENET1K_V1`. You can also use `weights=MobileNet_V2_Weights.DEFAULT` to get the most up-to-date weights.\n",
      "  warnings.warn(msg)\n"
     ]
    },
    {
     "name": "stdout",
     "output_type": "stream",
     "text": [
      "Epoch 1/10, Loss: 3.5978\n",
      "Epoch 2/10, Loss: 1.4058\n",
      "Epoch 3/10, Loss: 0.4934\n",
      "Epoch 4/10, Loss: 0.2302\n",
      "Epoch 5/10, Loss: 0.1182\n",
      "Epoch 6/10, Loss: 0.0671\n",
      "Epoch 7/10, Loss: 0.0508\n",
      "Epoch 8/10, Loss: 0.0352\n",
      "Epoch 9/10, Loss: 0.0271\n",
      "Epoch 10/10, Loss: 0.0215\n",
      "epoch 182 (of max 300) 🌻🌻🌻🌻🌻🌻🌻🌻[0.9025171565138154, 0.8223906737450323, 0.8799197777032749, 0.8655389442509426, 0.791256890738618, 1.9587746935032662]\n",
      "downsampling by factor 20...\n"
     ]
    },
    {
     "name": "stderr",
     "output_type": "stream",
     "text": [
      "/home/gokul/.local/lib/python3.10/site-packages/torchvision/models/_utils.py:208: UserWarning: The parameter 'pretrained' is deprecated since 0.13 and may be removed in the future, please use 'weights' instead.\n",
      "  warnings.warn(\n",
      "/home/gokul/.local/lib/python3.10/site-packages/torchvision/models/_utils.py:223: UserWarning: Arguments other than a weight enum or `None` for 'weights' are deprecated since 0.13 and may be removed in the future. The current behavior is equivalent to passing `weights=MobileNet_V2_Weights.IMAGENET1K_V1`. You can also use `weights=MobileNet_V2_Weights.DEFAULT` to get the most up-to-date weights.\n",
      "  warnings.warn(msg)\n"
     ]
    },
    {
     "name": "stdout",
     "output_type": "stream",
     "text": [
      "Epoch 1/10, Loss: 3.8744\n",
      "Epoch 2/10, Loss: 2.0569\n",
      "Epoch 3/10, Loss: 1.0037\n",
      "Epoch 4/10, Loss: 0.5754\n",
      "Epoch 5/10, Loss: 0.3775\n",
      "Epoch 6/10, Loss: 0.2522\n",
      "Epoch 7/10, Loss: 0.1969\n",
      "Epoch 8/10, Loss: 0.1285\n",
      "Epoch 9/10, Loss: 0.1206\n",
      "Epoch 10/10, Loss: 0.0820\n",
      "epoch 150 (of max 300) 🌻🌻🌻🌻🌻🌻🌻🌻🌻[0.6812920560422128, 0.7154562377438529, 0.6986759574676795, 0.6425505251125828, 0.534986214634611, 1.6766987612487403]\n",
      "downsampling by factor 25...\n"
     ]
    },
    {
     "name": "stderr",
     "output_type": "stream",
     "text": [
      "/home/gokul/.local/lib/python3.10/site-packages/torchvision/models/_utils.py:208: UserWarning: The parameter 'pretrained' is deprecated since 0.13 and may be removed in the future, please use 'weights' instead.\n",
      "  warnings.warn(\n",
      "/home/gokul/.local/lib/python3.10/site-packages/torchvision/models/_utils.py:223: UserWarning: Arguments other than a weight enum or `None` for 'weights' are deprecated since 0.13 and may be removed in the future. The current behavior is equivalent to passing `weights=MobileNet_V2_Weights.IMAGENET1K_V1`. You can also use `weights=MobileNet_V2_Weights.DEFAULT` to get the most up-to-date weights.\n",
      "  warnings.warn(msg)\n"
     ]
    },
    {
     "name": "stdout",
     "output_type": "stream",
     "text": [
      "Epoch 1/10, Loss: 3.9094\n",
      "Epoch 2/10, Loss: 2.0662\n",
      "Epoch 3/10, Loss: 1.0713\n",
      "Epoch 4/10, Loss: 0.5905\n",
      "Epoch 5/10, Loss: 0.4204\n",
      "Epoch 6/10, Loss: 0.3086\n",
      "Epoch 7/10, Loss: 0.2239\n",
      "Epoch 8/10, Loss: 0.1514\n",
      "Epoch 9/10, Loss: 0.1263\n",
      "Epoch 10/10, Loss: 0.0981\n",
      "epoch 125 (of max 300) 🌻🌻🌻🌻🌻🌻🌻[0.7041366613822048, 0.7597030010274346, 0.6890736551919218, 0.7147200052891848, 0.39672585976387703, 1.5803182580503825]\n",
      "downsampling by factor 40...\n"
     ]
    },
    {
     "name": "stderr",
     "output_type": "stream",
     "text": [
      "/home/gokul/.local/lib/python3.10/site-packages/torchvision/models/_utils.py:208: UserWarning: The parameter 'pretrained' is deprecated since 0.13 and may be removed in the future, please use 'weights' instead.\n",
      "  warnings.warn(\n",
      "/home/gokul/.local/lib/python3.10/site-packages/torchvision/models/_utils.py:223: UserWarning: Arguments other than a weight enum or `None` for 'weights' are deprecated since 0.13 and may be removed in the future. The current behavior is equivalent to passing `weights=MobileNet_V2_Weights.IMAGENET1K_V1`. You can also use `weights=MobileNet_V2_Weights.DEFAULT` to get the most up-to-date weights.\n",
      "  warnings.warn(msg)\n"
     ]
    },
    {
     "name": "stdout",
     "output_type": "stream",
     "text": [
      "Epoch 1/10, Loss: 3.7652\n",
      "Epoch 2/10, Loss: 2.0313\n",
      "Epoch 3/10, Loss: 1.1418\n",
      "Epoch 4/10, Loss: 0.7432\n",
      "Epoch 5/10, Loss: 0.5633\n",
      "Epoch 6/10, Loss: 0.4620\n",
      "Epoch 7/10, Loss: 0.3448\n",
      "Epoch 8/10, Loss: 0.2896\n",
      "Epoch 9/10, Loss: 0.2692\n",
      "Epoch 10/10, Loss: 0.2092\n",
      "epoch 142 (of max 300) 🌻🌻🌻🌻🌻🌻[0.5258278733722792, 0.5806349159583933, 0.6564375499662111, 0.6363505182561945, 0.4356484792969006, 1.3775106106037125]\n",
      "downsampling by factor 50...\n"
     ]
    },
    {
     "name": "stderr",
     "output_type": "stream",
     "text": [
      "/home/gokul/.local/lib/python3.10/site-packages/torchvision/models/_utils.py:208: UserWarning: The parameter 'pretrained' is deprecated since 0.13 and may be removed in the future, please use 'weights' instead.\n",
      "  warnings.warn(\n",
      "/home/gokul/.local/lib/python3.10/site-packages/torchvision/models/_utils.py:223: UserWarning: Arguments other than a weight enum or `None` for 'weights' are deprecated since 0.13 and may be removed in the future. The current behavior is equivalent to passing `weights=MobileNet_V2_Weights.IMAGENET1K_V1`. You can also use `weights=MobileNet_V2_Weights.DEFAULT` to get the most up-to-date weights.\n",
      "  warnings.warn(msg)\n"
     ]
    },
    {
     "name": "stdout",
     "output_type": "stream",
     "text": [
      "Epoch 1/10, Loss: 4.0522\n",
      "Epoch 2/10, Loss: 2.3243\n",
      "Epoch 3/10, Loss: 1.3953\n",
      "Epoch 4/10, Loss: 1.0190\n",
      "Epoch 5/10, Loss: 0.7642\n",
      "Epoch 6/10, Loss: 0.6271\n",
      "Epoch 7/10, Loss: 0.5940\n",
      "Epoch 8/10, Loss: 0.5195\n",
      "Epoch 9/10, Loss: 0.4685\n",
      "Epoch 10/10, Loss: 0.4275\n",
      "epoch 148 (of max 300) 🌻🌻🌻🌻🌻[0.5665508122935629, 0.6999661300363023, 0.44039789961615244, 0.5354135733986652, 0.14798597907672184, 1.149467033501329]\n",
      "downsampling by factor 100...\n"
     ]
    },
    {
     "name": "stderr",
     "output_type": "stream",
     "text": [
      "/home/gokul/.local/lib/python3.10/site-packages/torchvision/models/_utils.py:208: UserWarning: The parameter 'pretrained' is deprecated since 0.13 and may be removed in the future, please use 'weights' instead.\n",
      "  warnings.warn(\n",
      "/home/gokul/.local/lib/python3.10/site-packages/torchvision/models/_utils.py:223: UserWarning: Arguments other than a weight enum or `None` for 'weights' are deprecated since 0.13 and may be removed in the future. The current behavior is equivalent to passing `weights=MobileNet_V2_Weights.IMAGENET1K_V1`. You can also use `weights=MobileNet_V2_Weights.DEFAULT` to get the most up-to-date weights.\n",
      "  warnings.warn(msg)\n"
     ]
    },
    {
     "name": "stdout",
     "output_type": "stream",
     "text": [
      "Epoch 1/10, Loss: 3.9703\n",
      "Epoch 2/10, Loss: 2.4629\n",
      "Epoch 3/10, Loss: 1.6564\n",
      "Epoch 4/10, Loss: 1.3024\n",
      "Epoch 5/10, Loss: 1.0946\n",
      "Epoch 6/10, Loss: 0.9851\n",
      "Epoch 7/10, Loss: 0.9306\n",
      "Epoch 8/10, Loss: 0.8587\n",
      "Epoch 9/10, Loss: 0.8260\n",
      "Epoch 10/10, Loss: 0.7753\n",
      "epoch 146 (of max 300) 🌻🌻🌻🌻🌻[0.2065421812874345, 0.4871993024517873, 0.454825043072068, 0.2921020109254474, 0.0964146332183498, 0.864577199209775]\n",
      "downsampling by factor 200...\n"
     ]
    },
    {
     "name": "stderr",
     "output_type": "stream",
     "text": [
      "/home/gokul/.local/lib/python3.10/site-packages/torchvision/models/_utils.py:208: UserWarning: The parameter 'pretrained' is deprecated since 0.13 and may be removed in the future, please use 'weights' instead.\n",
      "  warnings.warn(\n",
      "/home/gokul/.local/lib/python3.10/site-packages/torchvision/models/_utils.py:223: UserWarning: Arguments other than a weight enum or `None` for 'weights' are deprecated since 0.13 and may be removed in the future. The current behavior is equivalent to passing `weights=MobileNet_V2_Weights.IMAGENET1K_V1`. You can also use `weights=MobileNet_V2_Weights.DEFAULT` to get the most up-to-date weights.\n",
      "  warnings.warn(msg)\n"
     ]
    },
    {
     "name": "stdout",
     "output_type": "stream",
     "text": [
      "Epoch 1/10, Loss: 4.1079\n",
      "Epoch 2/10, Loss: 2.5680\n",
      "Epoch 3/10, Loss: 1.8039\n",
      "Epoch 4/10, Loss: 1.4595\n",
      "Epoch 5/10, Loss: 1.3190\n",
      "Epoch 6/10, Loss: 1.1724\n",
      "Epoch 7/10, Loss: 1.1352\n",
      "Epoch 8/10, Loss: 1.1373\n",
      "Epoch 9/10, Loss: 1.0916\n",
      "Epoch 10/10, Loss: 1.0670\n",
      "epoch 125 (of max 300) 🌻🌻🌻🌻[0.15712722144063038, 0.42397472482840437, 0.21306523999566376, 0.24651373081639438, 0.05059722184513552, 0.6383509652033368]\n"
     ]
    }
   ],
   "source": [
    "d = {\n",
    "    \"Factor\" : [],\n",
    "    \"MI\" : [],\n",
    "    \"Class label\" : [],\n",
    "    \"N instances of label\" : []\n",
    "}\n",
    "\n",
    "MIs = []\n",
    "factors = [1, 2, 4, 5, 8, 10, 20, 25, 40, 50, 100, 200]\n",
    "print(\"factors to process:\", factors)\n",
    "\n",
    "# process each factor\n",
    "for factor in factors:\n",
    "    print(f\"downsampling by factor {factor}...\")\n",
    "\n",
    "    model = MobileNetClassifier(num_classes=101)\n",
    "    model.to('cuda')\n",
    "    train_model(model, data_loader, epochs=10, downsample_factor=factor)\n",
    "\n",
    "    # estimate mutual info\n",
    "    mi, n_inst, labels = estimate_mi_repr(model, val_loader, downsample_factor=factor)\n",
    "    d['MI'] += mi\n",
    "    d['Factor'] += [factor] * len(mi)\n",
    "    d['Class label'] += labels\n",
    "    d[\"N instances of label\"] += n_inst"
   ]
  },
  {
   "cell_type": "code",
   "execution_count": 6,
   "metadata": {},
   "outputs": [],
   "source": [
    "df = pd.DataFrame(data=d)\n",
    "df.to_csv('../results/Caltech101_lastlayer_resolution.csv')"
   ]
  },
  {
   "cell_type": "code",
   "execution_count": 7,
   "metadata": {},
   "outputs": [
    {
     "data": {
      "text/plain": [
       "<matplotlib.legend.Legend at 0x7d5850f9cd60>"
      ]
     },
     "execution_count": 7,
     "metadata": {},
     "output_type": "execute_result"
    },
    {
     "data": {
      "image/png": "[encoded data removed]",
      "text/plain": [
       "<Figure size 450x450 with 1 Axes>"
      ]
     },
     "metadata": {
      "needs_background": "light"
     },
     "output_type": "display_data"
    }
   ],
   "source": [
    "from lmfit import Model\n",
    "\n",
    "def info_scaling(x, A, B):\n",
    "    return 0.5 * np.log2(((x)*B+ 1)/(1+A*(x)))\n",
    "\n",
    "fig = plt.figure(figsize=(3,3), dpi=150)\n",
    "\n",
    "\n",
    "classes = df[df['N instances of label'] > 100]['Class label'].unique()\n",
    "palette = sns.color_palette(\"hls\", len(classes))\n",
    "\n",
    "for i, x in enumerate(classes[::-1]):\n",
    "    # prepare data\n",
    "    x_data = 1/df[df['Class label'] == x]['Factor']\n",
    "    y_data = df[df['Class label'] == x]['MI']\n",
    "\n",
    "    # create model and parameters\n",
    "    model = Model(info_scaling)\n",
    "    params = model.make_params(A=1e-2, B=1e-2)  # initial guesses\n",
    "    params['A'].min = 0  # set bounds\n",
    "    params['B'].min = 0\n",
    "\n",
    "    # fit model\n",
    "    result = model.fit(y_data, params, x=x_data)\n",
    "\n",
    "    # generate fit line\n",
    "    x_fit = np.linspace(x_data.min()/5, 5*x_data.max(), 10**5)\n",
    "    y_fit = model.eval(params=result.params, x=x_fit)\n",
    "\n",
    "    # calculate confidence bands\n",
    "    y_upper = result.eval_uncertainty(params=result.params, \n",
    "                                      x=x_fit, sigma=2)\n",
    "    y_lower = -y_upper\n",
    "\n",
    "    # plot fit and data\n",
    "    plt.plot(x_fit, y_fit, linestyle='--', color=palette[i], alpha=0.5)\n",
    "    plt.fill_between(x_fit, y_fit + y_upper, y_fit + y_lower, color=palette[i], alpha=0.2)\n",
    "    plt.scatter(x_data, y_data, color=palette[i], label=x)\n",
    "\n",
    "I_max = np.log2(top_n)\n",
    "plt.plot([np.min(x_fit), np.max(x_fit)], [I_max, I_max], linestyle='--', \n",
    "         color='grey', label='I_max', lw=3)\n",
    "\n",
    "\n",
    "plt.xlabel(r'$\\text{downsampling factor}$')\n",
    "plt.ylabel(r'$I(L; \\hat{L})$')\n",
    "plt.xscale('log')\n",
    "plt.legend(loc=(1.05, 0.5))"
   ]
  },
  {
   "cell_type": "code",
   "execution_count": null,
   "metadata": {},
   "outputs": [],
   "source": []
  }
 ],
 "metadata": {
  "kernelspec": {
   "display_name": "Python 3",
   "language": "python",
   "name": "python3"
  },
  "language_info": {
   "codemirror_mode": {
    "name": "ipython",
    "version": 3
   },
   "file_extension": ".py",
   "mimetype": "text/x-python",
   "name": "python",
   "nbconvert_exporter": "python",
   "pygments_lexer": "ipython3",
   "version": "3.10.12"
  }
 },
 "nbformat": 4,
 "nbformat_minor": 2
}
