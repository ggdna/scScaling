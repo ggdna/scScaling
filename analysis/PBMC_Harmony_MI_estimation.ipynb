{
 "cells": [
  {
   "cell_type": "code",
   "execution_count": 1,
   "metadata": {},
   "outputs": [
    {
     "name": "stderr",
     "output_type": "stream",
     "text": [
      "/home/gokul/.local/lib/python3.10/site-packages/matplotlib/projections/__init__.py:63: UserWarning: Unable to import Axes3D. This may be due to multiple versions of Matplotlib being installed (e.g. as a system package and as a pip package). As a result, the 3D projection is not available.\n",
      "  warnings.warn(\"Unable to import Axes3D. This may be due to multiple versions of \"\n"
     ]
    }
   ],
   "source": [
    "from latentmi import lmi\n",
    "import pandas as pd\n",
    "import numpy as np\n",
    "import seaborn as sns\n",
    "import matplotlib.pyplot as plt\n",
    "from matplotlib import rcParams\n",
    "import scanpy as sc \n",
    "from tqdm.notebook import tqdm\n",
    "import os\n",
    "\n",
    "import scanpy.external as sce"
   ]
  },
  {
   "cell_type": "code",
   "execution_count": 2,
   "metadata": {},
   "outputs": [
    {
     "data": {
      "application/vnd.jupyter.widget-view+json": {
       "model_id": "581de255c8de48aab455e851d2b80ef0",
       "version_major": 2,
       "version_minor": 0
      },
      "text/plain": [
       "Processing Q0.001_rep0:   0%|          | 0/59 [00:00<?, ?it/s]"
      ]
     },
     "metadata": {},
     "output_type": "display_data"
    },
    {
     "name": "stderr",
     "output_type": "stream",
     "text": [
      "2025-03-26 09:40:18,486 - harmonypy - INFO - Computing initial centroids with sklearn.KMeans...\n",
      "2025-03-26 09:40:20,526 - harmonypy - INFO - sklearn.KMeans initialization complete.\n",
      "2025-03-26 09:40:20,679 - harmonypy - INFO - Iteration 1 of 10\n",
      "2025-03-26 09:40:26,982 - harmonypy - INFO - Iteration 2 of 10\n",
      "2025-03-26 09:40:33,859 - harmonypy - INFO - Iteration 3 of 10\n",
      "2025-03-26 09:40:39,692 - harmonypy - INFO - Iteration 4 of 10\n",
      "2025-03-26 09:40:42,091 - harmonypy - INFO - Converged after 4 iterations\n"
     ]
    },
    {
     "name": "stdout",
     "output_type": "stream",
     "text": [
      "epoch 218 (of max 300) 🌻🌻🌻🌻🌻🌻🌻🌻🌻"
     ]
    },
    {
     "data": {
      "application/vnd.jupyter.widget-view+json": {
       "model_id": "63a8423407984da5b9d173aa024fc434",
       "version_major": 2,
       "version_minor": 0
      },
      "text/plain": [
       "Processing Q0.002_rep0:   0%|          | 0/59 [00:00<?, ?it/s]"
      ]
     },
     "metadata": {},
     "output_type": "display_data"
    },
    {
     "name": "stderr",
     "output_type": "stream",
     "text": [
      "2025-03-26 09:42:47,800 - harmonypy - INFO - Computing initial centroids with sklearn.KMeans...\n",
      "2025-03-26 09:42:49,716 - harmonypy - INFO - sklearn.KMeans initialization complete.\n",
      "2025-03-26 09:42:49,849 - harmonypy - INFO - Iteration 1 of 10\n",
      "2025-03-26 09:42:56,300 - harmonypy - INFO - Iteration 2 of 10\n",
      "2025-03-26 09:43:02,852 - harmonypy - INFO - Iteration 3 of 10\n",
      "2025-03-26 09:43:09,614 - harmonypy - INFO - Iteration 4 of 10\n",
      "2025-03-26 09:43:14,655 - harmonypy - INFO - Iteration 5 of 10\n",
      "2025-03-26 09:43:19,565 - harmonypy - INFO - Iteration 6 of 10\n",
      "2025-03-26 09:43:22,705 - harmonypy - INFO - Iteration 7 of 10\n",
      "2025-03-26 09:43:25,537 - harmonypy - INFO - Iteration 8 of 10\n",
      "2025-03-26 09:43:32,527 - harmonypy - INFO - Iteration 9 of 10\n",
      "2025-03-26 09:43:35,184 - harmonypy - INFO - Iteration 10 of 10\n",
      "2025-03-26 09:43:37,642 - harmonypy - INFO - Stopped before convergence\n"
     ]
    },
    {
     "name": "stdout",
     "output_type": "stream",
     "text": [
      "epoch 299 (of max 300) 🌻🌻🌻🌻🌻🌻🌻🌻🌻"
     ]
    },
    {
     "data": {
      "application/vnd.jupyter.widget-view+json": {
       "model_id": "a4198d68aca54cf1aa6c47d108b2da38",
       "version_major": 2,
       "version_minor": 0
      },
      "text/plain": [
       "Processing Q0.005_rep0:   0%|          | 0/59 [00:00<?, ?it/s]"
      ]
     },
     "metadata": {},
     "output_type": "display_data"
    },
    {
     "name": "stderr",
     "output_type": "stream",
     "text": [
      "2025-03-26 09:45:37,881 - harmonypy - INFO - Computing initial centroids with sklearn.KMeans...\n",
      "2025-03-26 09:45:39,781 - harmonypy - INFO - sklearn.KMeans initialization complete.\n",
      "2025-03-26 09:45:39,938 - harmonypy - INFO - Iteration 1 of 10\n",
      "2025-03-26 09:45:46,154 - harmonypy - INFO - Iteration 2 of 10\n",
      "2025-03-26 09:45:52,528 - harmonypy - INFO - Iteration 3 of 10\n",
      "2025-03-26 09:45:58,187 - harmonypy - INFO - Iteration 4 of 10\n",
      "2025-03-26 09:46:03,076 - harmonypy - INFO - Iteration 5 of 10\n",
      "2025-03-26 09:46:07,002 - harmonypy - INFO - Iteration 6 of 10\n",
      "2025-03-26 09:46:09,840 - harmonypy - INFO - Iteration 7 of 10\n",
      "2025-03-26 09:46:12,821 - harmonypy - INFO - Iteration 8 of 10\n",
      "2025-03-26 09:46:15,245 - harmonypy - INFO - Iteration 9 of 10\n",
      "2025-03-26 09:46:17,600 - harmonypy - INFO - Iteration 10 of 10\n",
      "2025-03-26 09:46:24,160 - harmonypy - INFO - Stopped before convergence\n"
     ]
    },
    {
     "name": "stdout",
     "output_type": "stream",
     "text": [
      "epoch 299 (of max 300) 🌻🌻🌻🌻🌻🌻🌻🌻🌻"
     ]
    },
    {
     "data": {
      "application/vnd.jupyter.widget-view+json": {
       "model_id": "27f851ebb88d4ba7be5c2f24be535dac",
       "version_major": 2,
       "version_minor": 0
      },
      "text/plain": [
       "Processing Q0.010_rep0:   0%|          | 0/59 [00:00<?, ?it/s]"
      ]
     },
     "metadata": {},
     "output_type": "display_data"
    },
    {
     "name": "stderr",
     "output_type": "stream",
     "text": [
      "2025-03-26 09:48:41,937 - harmonypy - INFO - Computing initial centroids with sklearn.KMeans...\n",
      "2025-03-26 09:48:43,892 - harmonypy - INFO - sklearn.KMeans initialization complete.\n",
      "2025-03-26 09:48:44,026 - harmonypy - INFO - Iteration 1 of 10\n",
      "2025-03-26 09:48:50,241 - harmonypy - INFO - Iteration 2 of 10\n",
      "2025-03-26 09:48:56,716 - harmonypy - INFO - Iteration 3 of 10\n",
      "2025-03-26 09:49:02,122 - harmonypy - INFO - Iteration 4 of 10\n",
      "2025-03-26 09:49:05,368 - harmonypy - INFO - Iteration 5 of 10\n",
      "2025-03-26 09:49:07,829 - harmonypy - INFO - Iteration 6 of 10\n",
      "2025-03-26 09:49:09,925 - harmonypy - INFO - Iteration 7 of 10\n",
      "2025-03-26 09:49:12,066 - harmonypy - INFO - Converged after 7 iterations\n"
     ]
    },
    {
     "name": "stdout",
     "output_type": "stream",
     "text": [
      "epoch 299 (of max 300) 🌻🌻🌻🌻🌻🌻🌻🌻🌻"
     ]
    },
    {
     "data": {
      "application/vnd.jupyter.widget-view+json": {
       "model_id": "091c0b0fa4c94d2b851012a712e7f49b",
       "version_major": 2,
       "version_minor": 0
      },
      "text/plain": [
       "Processing Q0.022_rep0:   0%|          | 0/59 [00:00<?, ?it/s]"
      ]
     },
     "metadata": {},
     "output_type": "display_data"
    },
    {
     "name": "stderr",
     "output_type": "stream",
     "text": [
      "2025-03-26 09:51:26,014 - harmonypy - INFO - Computing initial centroids with sklearn.KMeans...\n",
      "2025-03-26 09:51:27,943 - harmonypy - INFO - sklearn.KMeans initialization complete.\n",
      "2025-03-26 09:51:28,077 - harmonypy - INFO - Iteration 1 of 10\n",
      "2025-03-26 09:51:34,279 - harmonypy - INFO - Iteration 2 of 10\n",
      "2025-03-26 09:51:40,605 - harmonypy - INFO - Iteration 3 of 10\n",
      "2025-03-26 09:51:47,008 - harmonypy - INFO - Iteration 4 of 10\n",
      "2025-03-26 09:51:50,673 - harmonypy - INFO - Iteration 5 of 10\n",
      "2025-03-26 09:51:53,375 - harmonypy - INFO - Iteration 6 of 10\n",
      "2025-03-26 09:51:55,787 - harmonypy - INFO - Iteration 7 of 10\n",
      "2025-03-26 09:51:58,531 - harmonypy - INFO - Converged after 7 iterations\n"
     ]
    },
    {
     "name": "stdout",
     "output_type": "stream",
     "text": [
      "epoch 299 (of max 300) 🌻🌻🌻🌻🌻🌻🌻🌻🌻"
     ]
    },
    {
     "data": {
      "application/vnd.jupyter.widget-view+json": {
       "model_id": "e26ef4787d4b4149ac0bee5da5095334",
       "version_major": 2,
       "version_minor": 0
      },
      "text/plain": [
       "Processing Q0.046_rep0:   0%|          | 0/59 [00:00<?, ?it/s]"
      ]
     },
     "metadata": {},
     "output_type": "display_data"
    },
    {
     "name": "stderr",
     "output_type": "stream",
     "text": [
      "2025-03-26 09:54:13,806 - harmonypy - INFO - Computing initial centroids with sklearn.KMeans...\n",
      "2025-03-26 09:54:16,118 - harmonypy - INFO - sklearn.KMeans initialization complete.\n",
      "2025-03-26 09:54:16,263 - harmonypy - INFO - Iteration 1 of 10\n",
      "2025-03-26 09:54:23,349 - harmonypy - INFO - Iteration 2 of 10\n",
      "2025-03-26 09:54:30,819 - harmonypy - INFO - Iteration 3 of 10\n",
      "2025-03-26 09:54:39,392 - harmonypy - INFO - Iteration 4 of 10\n",
      "2025-03-26 09:54:46,785 - harmonypy - INFO - Iteration 5 of 10\n",
      "2025-03-26 09:54:53,888 - harmonypy - INFO - Iteration 6 of 10\n",
      "2025-03-26 09:54:57,642 - harmonypy - INFO - Iteration 7 of 10\n",
      "2025-03-26 09:55:00,252 - harmonypy - INFO - Converged after 7 iterations\n"
     ]
    },
    {
     "name": "stdout",
     "output_type": "stream",
     "text": [
      "epoch 299 (of max 300) 🌻🌻🌻🌻🌻🌻🌻🌻🌻"
     ]
    },
    {
     "data": {
      "application/vnd.jupyter.widget-view+json": {
       "model_id": "6e74d15d6d83403383d1f0209c05e6b4",
       "version_major": 2,
       "version_minor": 0
      },
      "text/plain": [
       "Processing Q0.100_rep0:   0%|          | 0/59 [00:00<?, ?it/s]"
      ]
     },
     "metadata": {},
     "output_type": "display_data"
    },
    {
     "name": "stderr",
     "output_type": "stream",
     "text": [
      "2025-03-26 09:57:15,421 - harmonypy - INFO - Computing initial centroids with sklearn.KMeans...\n",
      "2025-03-26 09:57:17,434 - harmonypy - INFO - sklearn.KMeans initialization complete.\n",
      "2025-03-26 09:57:17,582 - harmonypy - INFO - Iteration 1 of 10\n",
      "2025-03-26 09:57:25,284 - harmonypy - INFO - Iteration 2 of 10\n",
      "2025-03-26 09:57:33,246 - harmonypy - INFO - Iteration 3 of 10\n",
      "2025-03-26 09:57:41,629 - harmonypy - INFO - Iteration 4 of 10\n",
      "2025-03-26 09:57:49,519 - harmonypy - INFO - Iteration 5 of 10\n",
      "2025-03-26 09:57:54,500 - harmonypy - INFO - Iteration 6 of 10\n",
      "2025-03-26 09:57:58,226 - harmonypy - INFO - Iteration 7 of 10\n",
      "2025-03-26 09:58:02,393 - harmonypy - INFO - Iteration 8 of 10\n",
      "2025-03-26 09:58:05,503 - harmonypy - INFO - Iteration 9 of 10\n",
      "2025-03-26 09:58:08,305 - harmonypy - INFO - Converged after 9 iterations\n"
     ]
    },
    {
     "name": "stdout",
     "output_type": "stream",
     "text": [
      "epoch 299 (of max 300) 🌻🌻🌻🌻🌻🌻🌻🌻🌻"
     ]
    },
    {
     "data": {
      "application/vnd.jupyter.widget-view+json": {
       "model_id": "43bfe9a8405845f693e2e9c7dc0f929a",
       "version_major": 2,
       "version_minor": 0
      },
      "text/plain": [
       "Processing Q0.215_rep0:   0%|          | 0/59 [00:00<?, ?it/s]"
      ]
     },
     "metadata": {},
     "output_type": "display_data"
    },
    {
     "name": "stderr",
     "output_type": "stream",
     "text": [
      "2025-03-26 10:00:21,580 - harmonypy - INFO - Computing initial centroids with sklearn.KMeans...\n",
      "2025-03-26 10:00:23,551 - harmonypy - INFO - sklearn.KMeans initialization complete.\n",
      "2025-03-26 10:00:23,688 - harmonypy - INFO - Iteration 1 of 10\n",
      "2025-03-26 10:00:29,910 - harmonypy - INFO - Iteration 2 of 10\n",
      "2025-03-26 10:00:36,436 - harmonypy - INFO - Iteration 3 of 10\n",
      "2025-03-26 10:00:43,017 - harmonypy - INFO - Iteration 4 of 10\n",
      "2025-03-26 10:00:49,838 - harmonypy - INFO - Iteration 5 of 10\n",
      "2025-03-26 10:00:55,343 - harmonypy - INFO - Converged after 5 iterations\n"
     ]
    },
    {
     "name": "stdout",
     "output_type": "stream",
     "text": [
      "epoch 299 (of max 300) 🌻🌻🌻🌻🌻🌻🌻🌻🌻"
     ]
    },
    {
     "data": {
      "application/vnd.jupyter.widget-view+json": {
       "model_id": "fbd60029d5404485ba4cd6d683f0343e",
       "version_major": 2,
       "version_minor": 0
      },
      "text/plain": [
       "Processing Q0.464_rep0:   0%|          | 0/59 [00:00<?, ?it/s]"
      ]
     },
     "metadata": {},
     "output_type": "display_data"
    },
    {
     "name": "stderr",
     "output_type": "stream",
     "text": [
      "2025-03-26 10:03:15,198 - harmonypy - INFO - Computing initial centroids with sklearn.KMeans...\n",
      "2025-03-26 10:03:17,135 - harmonypy - INFO - sklearn.KMeans initialization complete.\n",
      "2025-03-26 10:03:17,273 - harmonypy - INFO - Iteration 1 of 10\n",
      "2025-03-26 10:03:24,168 - harmonypy - INFO - Iteration 2 of 10\n",
      "2025-03-26 10:03:30,761 - harmonypy - INFO - Iteration 3 of 10\n",
      "2025-03-26 10:03:37,237 - harmonypy - INFO - Iteration 4 of 10\n",
      "2025-03-26 10:03:44,088 - harmonypy - INFO - Iteration 5 of 10\n",
      "2025-03-26 10:03:49,606 - harmonypy - INFO - Converged after 5 iterations\n"
     ]
    },
    {
     "name": "stdout",
     "output_type": "stream",
     "text": [
      "epoch 299 (of max 300) 🌻🌻🌻🌻🌻🌻🌻🌻🌻"
     ]
    },
    {
     "data": {
      "application/vnd.jupyter.widget-view+json": {
       "model_id": "2afde87cbfb14996b1370462cabb998b",
       "version_major": 2,
       "version_minor": 0
      },
      "text/plain": [
       "Processing Q1.000_rep0:   0%|          | 0/59 [00:00<?, ?it/s]"
      ]
     },
     "metadata": {},
     "output_type": "display_data"
    },
    {
     "name": "stderr",
     "output_type": "stream",
     "text": [
      "2025-03-26 10:06:08,218 - harmonypy - INFO - Computing initial centroids with sklearn.KMeans...\n",
      "2025-03-26 10:06:10,359 - harmonypy - INFO - sklearn.KMeans initialization complete.\n",
      "2025-03-26 10:06:10,492 - harmonypy - INFO - Iteration 1 of 10\n",
      "2025-03-26 10:06:17,299 - harmonypy - INFO - Iteration 2 of 10\n",
      "2025-03-26 10:06:24,273 - harmonypy - INFO - Iteration 3 of 10\n",
      "2025-03-26 10:06:31,172 - harmonypy - INFO - Iteration 4 of 10\n",
      "2025-03-26 10:06:37,967 - harmonypy - INFO - Iteration 5 of 10\n",
      "2025-03-26 10:06:41,071 - harmonypy - INFO - Converged after 5 iterations\n"
     ]
    },
    {
     "name": "stdout",
     "output_type": "stream",
     "text": [
      "epoch 299 (of max 300) 🌻🌻🌻🌻🌻🌻🌻🌻🌻"
     ]
    }
   ],
   "source": [
    "# base directory for embeddings\n",
    "embeddings_dir = '../embeddings/PBMC_CITEseq/'\n",
    "results = []\n",
    "\n",
    "# loop through quality and replicate subdirectories\n",
    "for quality_dir in os.listdir(embeddings_dir):\n",
    "    quality_path = os.path.join(embeddings_dir, quality_dir)\n",
    "    if not os.path.isdir(quality_path):\n",
    "        continue\n",
    "\n",
    "    # find held-out cells\n",
    "    held_out_path = os.path.join(quality_path, 'held_out_cells.h5ad')\n",
    "    held_out = sc.read_h5ad(held_out_path)\n",
    "\n",
    "    UMI_per_cell = held_out.raw.X.sum()/len(held_out)\n",
    "\n",
    "    protein_counts = held_out.obsm['protein_counts']\n",
    "\n",
    "    celltype_coarse = pd.get_dummies(held_out.obs['celltype.l1']).to_numpy()\n",
    "    celltype_fine = pd.get_dummies(held_out.obs['celltype.l3']).to_numpy()\n",
    "\n",
    "    # loop through embedding files\n",
    "    for file in tqdm(os.listdir(quality_path), desc=f\"Processing {quality_dir}\"):\n",
    "        if not file.endswith('.npy'):\n",
    "            continue\n",
    "\n",
    "        # extract method and fraction from filename\n",
    "        method, frac = file.split('_')\n",
    "        frac = frac[4:-4]\n",
    "\n",
    "        if method == 'VAE' and frac=='1.000':\n",
    "\n",
    "            # load embeddings\n",
    "            embedding_path = os.path.join(quality_path, file)\n",
    "            embeddings = np.load(embedding_path)\n",
    "\n",
    "            held_out.obsm['X_'+method] = embeddings\n",
    "            sce.pp.harmony_integrate(held_out, 'donor', basis='X_'+method, adjusted_basis='integrated')\n",
    "\n",
    "            embeddings = held_out.obsm['integrated']\n",
    "\n",
    "            # estimate MI\n",
    "            pmis, _, _ = lmi.estimate(embeddings, protein_counts, quiet=True, batch_size=2048)\n",
    "            protein_mi = np.nanmean(pmis)\n",
    "\n",
    "            # estimate MI for cell type\n",
    "            pmis, _, _ = lmi.estimate(embeddings, celltype_coarse, quiet=True, batch_size=2048)\n",
    "            ct_coarse_mi = np.nanmean(pmis)\n",
    "\n",
    "            pmis, _, _ = lmi.estimate(embeddings, celltype_fine, quiet=True, batch_size=2048)\n",
    "            ct_fine_mi = np.nanmean(pmis)\n",
    "\n",
    "            # save result\n",
    "            results.append({\n",
    "                'Quality': quality_dir.split('_')[0],\n",
    "                'UMI per cell' : UMI_per_cell,\n",
    "                'Replicate': quality_dir.split('_')[1],\n",
    "                'Fraction': float(frac),\n",
    "\n",
    "                # watch out ! this needs to be tweaked if we change hold out size\n",
    "                'Cell number' : int(float(frac)*3*len(held_out)),\n",
    "                'Method': method,\n",
    "                'Protein MI': protein_mi,\n",
    "                'Cell type coarse MI': ct_coarse_mi,\n",
    "                'Cell type fine MI': ct_fine_mi\n",
    "            })"
   ]
  },
  {
   "cell_type": "code",
   "execution_count": 3,
   "metadata": {},
   "outputs": [
    {
     "data": {
      "text/html": [
       "<div>\n",
       "<style scoped>\n",
       "    .dataframe tbody tr th:only-of-type {\n",
       "        vertical-align: middle;\n",
       "    }\n",
       "\n",
       "    .dataframe tbody tr th {\n",
       "        vertical-align: top;\n",
       "    }\n",
       "\n",
       "    .dataframe thead th {\n",
       "        text-align: right;\n",
       "    }\n",
       "</style>\n",
       "<table border=\"1\" class=\"dataframe\">\n",
       "  <thead>\n",
       "    <tr style=\"text-align: right;\">\n",
       "      <th></th>\n",
       "      <th>Quality</th>\n",
       "      <th>UMI per cell</th>\n",
       "      <th>Replicate</th>\n",
       "      <th>Fraction</th>\n",
       "      <th>Cell number</th>\n",
       "      <th>Method</th>\n",
       "      <th>Protein MI</th>\n",
       "      <th>Cell type coarse MI</th>\n",
       "      <th>Cell type fine MI</th>\n",
       "    </tr>\n",
       "  </thead>\n",
       "  <tbody>\n",
       "    <tr>\n",
       "      <th>0</th>\n",
       "      <td>Q0.001</td>\n",
       "      <td>8.166369</td>\n",
       "      <td>rep0</td>\n",
       "      <td>1.0</td>\n",
       "      <td>114072</td>\n",
       "      <td>VAE</td>\n",
       "      <td>0.354432</td>\n",
       "      <td>0.257820</td>\n",
       "      <td>0.459739</td>\n",
       "    </tr>\n",
       "    <tr>\n",
       "      <th>1</th>\n",
       "      <td>Q0.002</td>\n",
       "      <td>17.570824</td>\n",
       "      <td>rep0</td>\n",
       "      <td>1.0</td>\n",
       "      <td>114072</td>\n",
       "      <td>VAE</td>\n",
       "      <td>0.844792</td>\n",
       "      <td>0.745017</td>\n",
       "      <td>0.778365</td>\n",
       "    </tr>\n",
       "    <tr>\n",
       "      <th>2</th>\n",
       "      <td>Q0.005</td>\n",
       "      <td>37.813854</td>\n",
       "      <td>rep0</td>\n",
       "      <td>1.0</td>\n",
       "      <td>114072</td>\n",
       "      <td>VAE</td>\n",
       "      <td>1.195241</td>\n",
       "      <td>1.069279</td>\n",
       "      <td>1.200008</td>\n",
       "    </tr>\n",
       "    <tr>\n",
       "      <th>3</th>\n",
       "      <td>Q0.010</td>\n",
       "      <td>81.572875</td>\n",
       "      <td>rep0</td>\n",
       "      <td>1.0</td>\n",
       "      <td>114072</td>\n",
       "      <td>VAE</td>\n",
       "      <td>1.662619</td>\n",
       "      <td>1.381124</td>\n",
       "      <td>1.639269</td>\n",
       "    </tr>\n",
       "    <tr>\n",
       "      <th>4</th>\n",
       "      <td>Q0.022</td>\n",
       "      <td>175.686961</td>\n",
       "      <td>rep0</td>\n",
       "      <td>1.0</td>\n",
       "      <td>114072</td>\n",
       "      <td>VAE</td>\n",
       "      <td>2.132299</td>\n",
       "      <td>1.627649</td>\n",
       "      <td>2.059761</td>\n",
       "    </tr>\n",
       "    <tr>\n",
       "      <th>5</th>\n",
       "      <td>Q0.046</td>\n",
       "      <td>378.499053</td>\n",
       "      <td>rep0</td>\n",
       "      <td>1.0</td>\n",
       "      <td>114072</td>\n",
       "      <td>VAE</td>\n",
       "      <td>2.489234</td>\n",
       "      <td>1.838082</td>\n",
       "      <td>2.402619</td>\n",
       "    </tr>\n",
       "    <tr>\n",
       "      <th>6</th>\n",
       "      <td>Q0.100</td>\n",
       "      <td>815.553808</td>\n",
       "      <td>rep0</td>\n",
       "      <td>1.0</td>\n",
       "      <td>114072</td>\n",
       "      <td>VAE</td>\n",
       "      <td>2.788848</td>\n",
       "      <td>1.993071</td>\n",
       "      <td>2.706063</td>\n",
       "    </tr>\n",
       "    <tr>\n",
       "      <th>7</th>\n",
       "      <td>Q0.215</td>\n",
       "      <td>1756.944772</td>\n",
       "      <td>rep0</td>\n",
       "      <td>1.0</td>\n",
       "      <td>114072</td>\n",
       "      <td>VAE</td>\n",
       "      <td>3.142430</td>\n",
       "      <td>2.113016</td>\n",
       "      <td>3.032517</td>\n",
       "    </tr>\n",
       "    <tr>\n",
       "      <th>8</th>\n",
       "      <td>Q0.464</td>\n",
       "      <td>3784.577635</td>\n",
       "      <td>rep0</td>\n",
       "      <td>1.0</td>\n",
       "      <td>114072</td>\n",
       "      <td>VAE</td>\n",
       "      <td>3.472368</td>\n",
       "      <td>2.248280</td>\n",
       "      <td>3.368002</td>\n",
       "    </tr>\n",
       "    <tr>\n",
       "      <th>9</th>\n",
       "      <td>Q1.000</td>\n",
       "      <td>8153.868320</td>\n",
       "      <td>rep0</td>\n",
       "      <td>1.0</td>\n",
       "      <td>114072</td>\n",
       "      <td>VAE</td>\n",
       "      <td>3.644833</td>\n",
       "      <td>2.321804</td>\n",
       "      <td>3.581468</td>\n",
       "    </tr>\n",
       "  </tbody>\n",
       "</table>\n",
       "</div>"
      ],
      "text/plain": [
       "  Quality  UMI per cell Replicate  Fraction  Cell number Method  Protein MI  \\\n",
       "0  Q0.001      8.166369      rep0       1.0       114072    VAE    0.354432   \n",
       "1  Q0.002     17.570824      rep0       1.0       114072    VAE    0.844792   \n",
       "2  Q0.005     37.813854      rep0       1.0       114072    VAE    1.195241   \n",
       "3  Q0.010     81.572875      rep0       1.0       114072    VAE    1.662619   \n",
       "4  Q0.022    175.686961      rep0       1.0       114072    VAE    2.132299   \n",
       "5  Q0.046    378.499053      rep0       1.0       114072    VAE    2.489234   \n",
       "6  Q0.100    815.553808      rep0       1.0       114072    VAE    2.788848   \n",
       "7  Q0.215   1756.944772      rep0       1.0       114072    VAE    3.142430   \n",
       "8  Q0.464   3784.577635      rep0       1.0       114072    VAE    3.472368   \n",
       "9  Q1.000   8153.868320      rep0       1.0       114072    VAE    3.644833   \n",
       "\n",
       "   Cell type coarse MI  Cell type fine MI  \n",
       "0             0.257820           0.459739  \n",
       "1             0.745017           0.778365  \n",
       "2             1.069279           1.200008  \n",
       "3             1.381124           1.639269  \n",
       "4             1.627649           2.059761  \n",
       "5             1.838082           2.402619  \n",
       "6             1.993071           2.706063  \n",
       "7             2.113016           3.032517  \n",
       "8             2.248280           3.368002  \n",
       "9             2.321804           3.581468  "
      ]
     },
     "execution_count": 3,
     "metadata": {},
     "output_type": "execute_result"
    }
   ],
   "source": [
    "df = pd.DataFrame(results)\n",
    "df"
   ]
  },
  {
   "cell_type": "code",
   "execution_count": 4,
   "metadata": {},
   "outputs": [],
   "source": [
    "df.to_csv('../results/PBMC_CITEseq_Harmony_scaling.csv')"
   ]
  },
  {
   "cell_type": "code",
   "execution_count": 10,
   "metadata": {},
   "outputs": [
    {
     "data": {
      "image/png": "[encoded data removed]",
      "text/plain": [
       "<Figure size 432x288 with 1 Axes>"
      ]
     },
     "metadata": {
      "needs_background": "light"
     },
     "output_type": "display_data"
    }
   ],
   "source": [
    "sns.lineplot(data=df, x='UMI per cell', y='Protein MI', marker='o')\n",
    "plt.xscale('log')\n",
    "plt.xscale('log')"
   ]
  },
  {
   "cell_type": "code",
   "execution_count": null,
   "metadata": {},
   "outputs": [],
   "source": []
  }
 ],
 "metadata": {
  "kernelspec": {
   "display_name": "Python 3",
   "language": "python",
   "name": "python3"
  },
  "language_info": {
   "codemirror_mode": {
    "name": "ipython",
    "version": 3
   },
   "file_extension": ".py",
   "mimetype": "text/x-python",
   "name": "python",
   "nbconvert_exporter": "python",
   "pygments_lexer": "ipython3",
   "version": "3.10.12"
  }
 },
 "nbformat": 4,
 "nbformat_minor": 2
}
