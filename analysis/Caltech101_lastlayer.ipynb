{
 "cells": [
  {
   "cell_type": "code",
   "execution_count": 6,
   "metadata": {},
   "outputs": [
    {
     "data": {
      "text/plain": [
       "<torch._C.Generator at 0x7433375a6150>"
      ]
     },
     "execution_count": 6,
     "metadata": {},
     "output_type": "execute_result"
    }
   ],
   "source": [
    "import numpy as np\n",
    "from sklearn.decomposition import PCA\n",
    "from torchvision import datasets, transforms, models\n",
    "from latentmi import lmi, ksg\n",
    "import seaborn as sns\n",
    "import torch\n",
    "from sklearn.preprocessing import StandardScaler\n",
    "import matplotlib.pyplot as plt\n",
    "from collections import Counter\n",
    "\n",
    "\n",
    "import torch.nn as nn\n",
    "import torch.optim as optim\n",
    "\n",
    "device='cuda'\n",
    "\n",
    "torch.manual_seed(212121)"
   ]
  },
  {
   "cell_type": "code",
   "execution_count": 7,
   "metadata": {},
   "outputs": [],
   "source": [
    "import pandas as pd\n",
    "import seaborn as sns"
   ]
  },
  {
   "cell_type": "code",
   "execution_count": 8,
   "metadata": {},
   "outputs": [],
   "source": [
    "# define resnet model\n",
    "class MobileNetClassifier(nn.Module):\n",
    "    def __init__(self, num_classes):\n",
    "        super(MobileNetClassifier, self).__init__()\n",
    "        self.mobilenet = models.mobilenet_v2(pretrained=True)\n",
    "        self.mobilenet.classifier[1] = nn.Linear(self.mobilenet.last_channel, num_classes)  # update final layer\n",
    "\n",
    "    def forward(self, x):\n",
    "        return self.mobilenet(x)\n",
    "    \n",
    "def train_model(model, dataloader, epochs=5, scale=0):\n",
    "    criterion = nn.CrossEntropyLoss()\n",
    "    optimizer = optim.Adam(model.parameters(), lr=1e-4)\n",
    "    model.train()\n",
    "\n",
    "    best_loss = np.inf\n",
    "    best_state = None \n",
    "    \n",
    "    for epoch in range(epochs):\n",
    "        total_loss = 0.0\n",
    "        for inputs, labels in dataloader:\n",
    "            inputs, labels = inputs.numpy(), labels.numpy()  # to numpy\n",
    "            if scale > 0:\n",
    "                inputs = gaussian_noise(inputs, scale)  # downsample\n",
    "            inputs, labels = torch.tensor(inputs).to(device).float(), torch.tensor(labels).to(device)  # back to tensor\n",
    "\n",
    "            optimizer.zero_grad()\n",
    "            outputs = model(inputs)\n",
    "            loss = criterion(outputs, labels)\n",
    "            loss.backward()\n",
    "            optimizer.step()\n",
    "\n",
    "            total_loss += loss.item()\n",
    "\n",
    "        avg_loss = total_loss / len(dataloader)\n",
    "        print(f\"Epoch {epoch + 1}/{epochs}, Loss: {avg_loss:.4f}\")\n",
    "\n",
    "        if avg_loss < best_loss:\n",
    "            best_loss = avg_loss\n",
    "            best_state = model.state_dict()  # save the best so far! ⭐\n",
    "            stale_epochs = 0\n",
    "        else:\n",
    "            stale_epochs += 1\n",
    "            if stale_epochs >= 10:\n",
    "                print(\"early stopping! no improvement :(\")\n",
    "                break\n",
    "\n",
    "    if best_state is not None:\n",
    "        model.load_state_dict(best_state)  # restore the champ! 🏆\n",
    "\n",
    "    return model  # all done!\n",
    "\n",
    "\n",
    "def gaussian_noise(images, scale):\n",
    "    return np.random.normal(size=images.shape)*scale + images\n",
    "\n",
    "# pca wrapper (top 16 pcs!)\n",
    "def compute_pca(images, n_components=16):\n",
    "    flat_images = images.reshape(images.shape[0], -1)\n",
    "    scaler = StandardScaler()\n",
    "    scaled_images = scaler.fit_transform(flat_images)  # normalize!\n",
    "    pca = PCA(n_components=n_components)\n",
    "    pcs = pca.fit_transform(scaled_images)\n",
    "    return pcs\n",
    "\n",
    "def resample_one_v_all(true_labels, target_label):\n",
    "    target_indices = []\n",
    "    other_indices = []\n",
    "    for i, label in enumerate(true_labels):\n",
    "        if target_label == label:\n",
    "            target_indices.append(i)\n",
    "        else:\n",
    "            other_indices.append(i)\n",
    "\n",
    "    other_indices = np.random.choice(other_indices, len(target_indices), replace=False)\n",
    "    indices = np.concatenate([target_indices, other_indices])\n",
    "    return indices.astype(int)\n",
    "\n",
    "\n",
    "def estimate_mi_repr(model, dataloader, scale=0):\n",
    "    model.eval()\n",
    "    true_labels = []\n",
    "    last_layer_reprs = []\n",
    "\n",
    "    with torch.no_grad():\n",
    "        for inputs, labels in dataloader:\n",
    "            inputs = inputs.numpy()  # to numpy\n",
    "            if scale > 0:\n",
    "                inputs = gaussian_noise(inputs, scale)  # downsample\n",
    "            inputs = torch.tensor(inputs).to(device).float()  # back to tensor\n",
    "            outputs = model(inputs)\n",
    "            preds = torch.argmax(outputs, dim=1).cpu().numpy()\n",
    "\n",
    "            true_labels.append(labels.numpy())\n",
    "            last_layer_reprs.append(outputs.cpu().numpy())\n",
    "\n",
    "    true_labels = np.concatenate(true_labels)\n",
    "    last_layer_reprs = np.concatenate(last_layer_reprs)\n",
    "\n",
    "    MIs = []\n",
    "    N_samples = []\n",
    "    labels = []\n",
    "\n",
    "    for label in np.unique(true_labels):\n",
    "        N_samples.append(np.sum(true_labels == label))\n",
    "        labels.append(label)\n",
    "        idx = resample_one_v_all(true_labels, label)\n",
    "        bin_y = true_labels[idx] == label\n",
    "        reprs = last_layer_reprs[idx]\n",
    "        \n",
    "        MIs.append(np.nanmean(lmi.estimate(bin_y.reshape(-1, 1), reprs)[0]))\n",
    "\n",
    "    # all labels → one-hot!\n",
    "    uniques = np.unique(true_labels).tolist()\n",
    "    n_classes = len(uniques)\n",
    "    one_hot_labels = np.eye(n_classes)[[uniques.index(s) for s in true_labels]]\n",
    "    MIs.append(np.nanmean(lmi.estimate(one_hot_labels, last_layer_reprs, N_dims=16)[0]))\n",
    "    N_samples.append(len(true_labels))\n",
    "    labels.append('all')\n",
    "\n",
    "    print(MIs)\n",
    "\n",
    "    return MIs, N_samples, labels\n"
   ]
  },
  {
   "cell_type": "code",
   "execution_count": 9,
   "metadata": {},
   "outputs": [
    {
     "name": "stdout",
     "output_type": "stream",
     "text": [
      "Files already downloaded and verified\n",
      "2707 total samples\n"
     ]
    }
   ],
   "source": [
    "transform = transforms.Compose([\n",
    "    transforms.Lambda(lambda img: img.convert(\"RGB\") if img.mode != \"RGB\" else img),  # ensure RGB\n",
    "    transforms.Resize((240, 240)),  # resize to a manageable resolution\n",
    "    transforms.ToTensor(),  # convert to tensor\n",
    "    transforms.Normalize(mean=[0.5, 0.5, 0.5], std=[0.5, 0.5, 0.5])  # normalize\n",
    "])\n",
    "\n",
    "# load dataset\n",
    "Caltech101 = datasets.Caltech101(root='../data', download=True, transform=transform)\n",
    "\n",
    "# get class labels\n",
    "labels = Caltech101.y  # class indices for the dataset\n",
    "\n",
    "# count occurrences of each class\n",
    "class_counts = Counter(labels)\n",
    "\n",
    "# find top n largest classes\n",
    "top_n = 5\n",
    "top_n_classes = [cls for cls, _ in class_counts.most_common(top_n)]\n",
    "\n",
    "# subset the dataset to include only samples from these top classes\n",
    "indices = [i for i, label in enumerate(labels) if label in top_n_classes]\n",
    "subset = torch.utils.data.Subset(Caltech101, indices)\n",
    "\n",
    "# split the subset into train and validation sets\n",
    "N = len(subset)\n",
    "print(f\"{N} total samples\")\n",
    "train_set, val_set = torch.utils.data.random_split(subset, [N//2, N - N//2])\n",
    "\n",
    "# create data loaders\n",
    "data_loader = torch.utils.data.DataLoader(train_set, batch_size=128, shuffle=True)\n",
    "val_loader = torch.utils.data.DataLoader(val_set, batch_size=128, shuffle=False)"
   ]
  },
  {
   "cell_type": "code",
   "execution_count": 10,
   "metadata": {},
   "outputs": [
    {
     "name": "stdout",
     "output_type": "stream",
     "text": [
      "Epoch 1/5, Loss: 3.0612\n",
      "Epoch 2/5, Loss: 0.5488\n",
      "Epoch 3/5, Loss: 0.0844\n",
      "Epoch 4/5, Loss: 0.0362\n",
      "Epoch 5/5, Loss: 0.0182\n",
      "epoch 299 (of max 300) 🌻🌻🌻🌻🌻🌻🌻🌻🌻[0.9979821042076013, 0.9964786536314015, 0.9992929705429503, 1.0006647962050639, 0.9902742389434632, 2.1813303004491233]\n"
     ]
    },
    {
     "name": "stderr",
     "output_type": "stream",
     "text": [
      "/home/gokul/.local/lib/python3.10/site-packages/torchvision/models/_utils.py:208: UserWarning: The parameter 'pretrained' is deprecated since 0.13 and may be removed in the future, please use 'weights' instead.\n",
      "  warnings.warn(\n",
      "/home/gokul/.local/lib/python3.10/site-packages/torchvision/models/_utils.py:223: UserWarning: Arguments other than a weight enum or `None` for 'weights' are deprecated since 0.13 and may be removed in the future. The current behavior is equivalent to passing `weights=MobileNet_V2_Weights.IMAGENET1K_V1`. You can also use `weights=MobileNet_V2_Weights.DEFAULT` to get the most up-to-date weights.\n",
      "  warnings.warn(msg)\n"
     ]
    },
    {
     "name": "stdout",
     "output_type": "stream",
     "text": [
      "Epoch 1/5, Loss: 3.0509\n",
      "Epoch 2/5, Loss: 0.5844\n",
      "Epoch 3/5, Loss: 0.1063\n",
      "Epoch 4/5, Loss: 0.0414\n",
      "Epoch 5/5, Loss: 0.0245\n",
      "epoch 299 (of max 300) 🌻🌻🌻🌻🌻🌻🌻🌻🌻[0.9979821042076007, 0.9792433330172435, 0.9975290138120176, 0.9989807060369469, 0.9958340124015764, 2.1716699461644176]\n"
     ]
    },
    {
     "name": "stderr",
     "output_type": "stream",
     "text": [
      "/home/gokul/.local/lib/python3.10/site-packages/torchvision/models/_utils.py:208: UserWarning: The parameter 'pretrained' is deprecated since 0.13 and may be removed in the future, please use 'weights' instead.\n",
      "  warnings.warn(\n",
      "/home/gokul/.local/lib/python3.10/site-packages/torchvision/models/_utils.py:223: UserWarning: Arguments other than a weight enum or `None` for 'weights' are deprecated since 0.13 and may be removed in the future. The current behavior is equivalent to passing `weights=MobileNet_V2_Weights.IMAGENET1K_V1`. You can also use `weights=MobileNet_V2_Weights.DEFAULT` to get the most up-to-date weights.\n",
      "  warnings.warn(msg)\n"
     ]
    },
    {
     "name": "stdout",
     "output_type": "stream",
     "text": [
      "Epoch 1/5, Loss: 3.1324\n",
      "Epoch 2/5, Loss: 0.7052\n",
      "Epoch 3/5, Loss: 0.1213\n",
      "Epoch 4/5, Loss: 0.0530\n",
      "Epoch 5/5, Loss: 0.0348\n",
      "epoch 295 (of max 300) 🌻🌻🌻🌻🌻🌻🌻🌻🌻[0.9983481599214387, 0.9716456388949222, 0.9967982176340644, 0.9934873483804949, 0.9251533870660849, 2.1845392647298136]\n"
     ]
    },
    {
     "name": "stderr",
     "output_type": "stream",
     "text": [
      "/home/gokul/.local/lib/python3.10/site-packages/torchvision/models/_utils.py:208: UserWarning: The parameter 'pretrained' is deprecated since 0.13 and may be removed in the future, please use 'weights' instead.\n",
      "  warnings.warn(\n",
      "/home/gokul/.local/lib/python3.10/site-packages/torchvision/models/_utils.py:223: UserWarning: Arguments other than a weight enum or `None` for 'weights' are deprecated since 0.13 and may be removed in the future. The current behavior is equivalent to passing `weights=MobileNet_V2_Weights.IMAGENET1K_V1`. You can also use `weights=MobileNet_V2_Weights.DEFAULT` to get the most up-to-date weights.\n",
      "  warnings.warn(msg)\n"
     ]
    },
    {
     "name": "stdout",
     "output_type": "stream",
     "text": [
      "Epoch 1/5, Loss: 3.4163\n",
      "Epoch 2/5, Loss: 1.1034\n",
      "Epoch 3/5, Loss: 0.3057\n",
      "Epoch 4/5, Loss: 0.1378\n",
      "Epoch 5/5, Loss: 0.0785\n",
      "epoch 299 (of max 300) 🌻🌻🌻🌻🌻🌻🌻🌻🌻[0.979767992078261, 0.9505860566619319, 0.9699632816543613, 0.9520613464466681, 0.8725210709279034, 2.114891830950419]\n"
     ]
    },
    {
     "name": "stderr",
     "output_type": "stream",
     "text": [
      "/home/gokul/.local/lib/python3.10/site-packages/torchvision/models/_utils.py:208: UserWarning: The parameter 'pretrained' is deprecated since 0.13 and may be removed in the future, please use 'weights' instead.\n",
      "  warnings.warn(\n",
      "/home/gokul/.local/lib/python3.10/site-packages/torchvision/models/_utils.py:223: UserWarning: Arguments other than a weight enum or `None` for 'weights' are deprecated since 0.13 and may be removed in the future. The current behavior is equivalent to passing `weights=MobileNet_V2_Weights.IMAGENET1K_V1`. You can also use `weights=MobileNet_V2_Weights.DEFAULT` to get the most up-to-date weights.\n",
      "  warnings.warn(msg)\n"
     ]
    },
    {
     "name": "stdout",
     "output_type": "stream",
     "text": [
      "Epoch 1/5, Loss: 3.6655\n",
      "Epoch 2/5, Loss: 1.4529\n",
      "Epoch 3/5, Loss: 0.6071\n",
      "Epoch 4/5, Loss: 0.3376\n",
      "Epoch 5/5, Loss: 0.1846\n",
      "epoch 259 (of max 300) 🌻🌻🌻🌻🌻🌻🌻🌻🌻[0.9827191723817438, 0.9588638408880742, 0.9242317330269044, 0.886083601848997, 0.814754053449824, 1.9974624000262622]\n"
     ]
    },
    {
     "name": "stderr",
     "output_type": "stream",
     "text": [
      "/home/gokul/.local/lib/python3.10/site-packages/torchvision/models/_utils.py:208: UserWarning: The parameter 'pretrained' is deprecated since 0.13 and may be removed in the future, please use 'weights' instead.\n",
      "  warnings.warn(\n",
      "/home/gokul/.local/lib/python3.10/site-packages/torchvision/models/_utils.py:223: UserWarning: Arguments other than a weight enum or `None` for 'weights' are deprecated since 0.13 and may be removed in the future. The current behavior is equivalent to passing `weights=MobileNet_V2_Weights.IMAGENET1K_V1`. You can also use `weights=MobileNet_V2_Weights.DEFAULT` to get the most up-to-date weights.\n",
      "  warnings.warn(msg)\n"
     ]
    },
    {
     "name": "stdout",
     "output_type": "stream",
     "text": [
      "Epoch 1/5, Loss: 4.0030\n",
      "Epoch 2/5, Loss: 2.1781\n",
      "Epoch 3/5, Loss: 1.1479\n",
      "Epoch 4/5, Loss: 0.7720\n",
      "Epoch 5/5, Loss: 0.6181\n",
      "epoch 182 (of max 300) 🌻🌻🌻🌻🌻🌻🌻🌻🌻[0.7435768387138082, 0.6623448118722705, 0.7112354774041645, 0.7246680833970287, 0.5596835237808133, 1.528139425720864]\n"
     ]
    },
    {
     "name": "stderr",
     "output_type": "stream",
     "text": [
      "/home/gokul/.local/lib/python3.10/site-packages/torchvision/models/_utils.py:208: UserWarning: The parameter 'pretrained' is deprecated since 0.13 and may be removed in the future, please use 'weights' instead.\n",
      "  warnings.warn(\n",
      "/home/gokul/.local/lib/python3.10/site-packages/torchvision/models/_utils.py:223: UserWarning: Arguments other than a weight enum or `None` for 'weights' are deprecated since 0.13 and may be removed in the future. The current behavior is equivalent to passing `weights=MobileNet_V2_Weights.IMAGENET1K_V1`. You can also use `weights=MobileNet_V2_Weights.DEFAULT` to get the most up-to-date weights.\n",
      "  warnings.warn(msg)\n"
     ]
    },
    {
     "name": "stdout",
     "output_type": "stream",
     "text": [
      "Epoch 1/5, Loss: 4.0076\n",
      "Epoch 2/5, Loss: 2.5916\n",
      "Epoch 3/5, Loss: 1.6009\n",
      "Epoch 4/5, Loss: 1.1288\n",
      "Epoch 5/5, Loss: 0.9152\n",
      "epoch 173 (of max 300) 🌻🌻🌻🌻🌻🌻[0.38778817532271714, 0.5014087987948366, 0.6462861489281833, 0.48194811092953443, 0.09935970612414381, 1.0517859670936676]\n"
     ]
    },
    {
     "name": "stderr",
     "output_type": "stream",
     "text": [
      "/home/gokul/.local/lib/python3.10/site-packages/torchvision/models/_utils.py:208: UserWarning: The parameter 'pretrained' is deprecated since 0.13 and may be removed in the future, please use 'weights' instead.\n",
      "  warnings.warn(\n",
      "/home/gokul/.local/lib/python3.10/site-packages/torchvision/models/_utils.py:223: UserWarning: Arguments other than a weight enum or `None` for 'weights' are deprecated since 0.13 and may be removed in the future. The current behavior is equivalent to passing `weights=MobileNet_V2_Weights.IMAGENET1K_V1`. You can also use `weights=MobileNet_V2_Weights.DEFAULT` to get the most up-to-date weights.\n",
      "  warnings.warn(msg)\n"
     ]
    },
    {
     "name": "stdout",
     "output_type": "stream",
     "text": [
      "Epoch 1/5, Loss: 4.3182\n",
      "Epoch 2/5, Loss: 3.0518\n",
      "Epoch 3/5, Loss: 2.1631\n",
      "Epoch 4/5, Loss: 1.6295\n",
      "Epoch 5/5, Loss: 1.4128\n",
      "epoch 107 (of max 300) 🌻🌻🌻🌻🌻[0.16089176320961404, 0.12386837584706381, 0.4229121441585973, 0.06694786692598917, -0.06575208477773838, 0.47331713325134767]\n"
     ]
    },
    {
     "name": "stderr",
     "output_type": "stream",
     "text": [
      "/home/gokul/.local/lib/python3.10/site-packages/torchvision/models/_utils.py:208: UserWarning: The parameter 'pretrained' is deprecated since 0.13 and may be removed in the future, please use 'weights' instead.\n",
      "  warnings.warn(\n",
      "/home/gokul/.local/lib/python3.10/site-packages/torchvision/models/_utils.py:223: UserWarning: Arguments other than a weight enum or `None` for 'weights' are deprecated since 0.13 and may be removed in the future. The current behavior is equivalent to passing `weights=MobileNet_V2_Weights.IMAGENET1K_V1`. You can also use `weights=MobileNet_V2_Weights.DEFAULT` to get the most up-to-date weights.\n",
      "  warnings.warn(msg)\n"
     ]
    },
    {
     "name": "stdout",
     "output_type": "stream",
     "text": [
      "Epoch 1/5, Loss: 3.9871\n",
      "Epoch 2/5, Loss: 2.8305\n",
      "Epoch 3/5, Loss: 2.1247\n",
      "Epoch 4/5, Loss: 1.7747\n",
      "Epoch 5/5, Loss: 1.6475\n",
      "epoch 149 (of max 300) 🌻🌻🌻🌻[-0.023021296909295087, -0.04816324511016649, 0.06510958366168837, 0.04239990244882782, 0.014828850360244741, 0.029746324763408747]\n"
     ]
    },
    {
     "name": "stderr",
     "output_type": "stream",
     "text": [
      "/home/gokul/.local/lib/python3.10/site-packages/torchvision/models/_utils.py:208: UserWarning: The parameter 'pretrained' is deprecated since 0.13 and may be removed in the future, please use 'weights' instead.\n",
      "  warnings.warn(\n",
      "/home/gokul/.local/lib/python3.10/site-packages/torchvision/models/_utils.py:223: UserWarning: Arguments other than a weight enum or `None` for 'weights' are deprecated since 0.13 and may be removed in the future. The current behavior is equivalent to passing `weights=MobileNet_V2_Weights.IMAGENET1K_V1`. You can also use `weights=MobileNet_V2_Weights.DEFAULT` to get the most up-to-date weights.\n",
      "  warnings.warn(msg)\n"
     ]
    },
    {
     "name": "stdout",
     "output_type": "stream",
     "text": [
      "Epoch 1/5, Loss: 4.0349\n",
      "Epoch 2/5, Loss: 2.8845\n",
      "Epoch 3/5, Loss: 2.1632\n",
      "Epoch 4/5, Loss: 1.8142\n",
      "Epoch 5/5, Loss: 1.6744\n",
      "epoch 135 (of max 300) 🌻🌻🌻🌻[0.008504359623649184, -0.03612210289538342, 0.012961122748465814, -0.057939494437794566, 0.004885139180825523, -0.03857076092522751]\n"
     ]
    }
   ],
   "source": [
    "d = {\n",
    "    \"Scale\" : [],\n",
    "    \"MI\" : [],\n",
    "    \"Class label\" : [],\n",
    "    \"N instances of label\" : []\n",
    "}\n",
    "\n",
    "MIs = []\n",
    "scales = np.logspace(-1, 2, 10)\n",
    "\n",
    "# process each factor\n",
    "for scale in scales:\n",
    "\n",
    "    model = MobileNetClassifier(num_classes=101)\n",
    "    model.to('cuda')\n",
    "    train_model(model, data_loader, epochs=5, scale=scale)\n",
    "\n",
    "    # estimate mutual info\n",
    "    mi, n_inst, labels = estimate_mi_repr(model, val_loader, scale=scale)\n",
    "    d['MI'] += mi\n",
    "    d['Scale'] += [scale] * len(mi)\n",
    "    d['Class label'] += labels\n",
    "    d[\"N instances of label\"] += n_inst"
   ]
  },
  {
   "cell_type": "code",
   "execution_count": 11,
   "metadata": {},
   "outputs": [],
   "source": [
    "df = pd.DataFrame(data=d)\n",
    "df.to_csv('../results/Caltech101_lastlayer.csv')"
   ]
  },
  {
   "cell_type": "code",
   "execution_count": 12,
   "metadata": {},
   "outputs": [
    {
     "data": {
      "text/plain": [
       "<matplotlib.legend.Legend at 0x7431d2140d60>"
      ]
     },
     "execution_count": 12,
     "metadata": {},
     "output_type": "execute_result"
    },
    {
     "data": {
      "image/png": "[encoded data removed]",
      "text/plain": [
       "<Figure size 450x450 with 1 Axes>"
      ]
     },
     "metadata": {
      "needs_background": "light"
     },
     "output_type": "display_data"
    }
   ],
   "source": [
    "from lmfit import Model\n",
    "\n",
    "def info_scaling(x, A, B):\n",
    "    return 0.5 * np.log2(((1/x)*B+ 1)/(1+A*(1/x)))\n",
    "\n",
    "fig = plt.figure(figsize=(3,3), dpi=150)\n",
    "\n",
    "\n",
    "classes = df[df['N instances of label'] > 100]['Class label'].unique()\n",
    "palette = sns.color_palette(\"hls\", len(classes))\n",
    "\n",
    "for i, x in enumerate(classes[::-1]):\n",
    "    # prepare data\n",
    "    x_data = df[df['Class label'] == x]['Scale']**2\n",
    "    y_data = df[df['Class label'] == x]['MI']\n",
    "\n",
    "    # create model and parameters\n",
    "    model = Model(info_scaling)\n",
    "    params = model.make_params(A=1e-2, B=1e-2)  # initial guesses\n",
    "    params['A'].min = 0  # set bounds\n",
    "    params['B'].min = 0\n",
    "\n",
    "    # fit model\n",
    "    result = model.fit(y_data, params, x=x_data)\n",
    "\n",
    "    # generate fit line\n",
    "    x_fit = np.linspace(x_data.min()/5, 5*x_data.max(), 10**5)\n",
    "    y_fit = model.eval(params=result.params, x=x_fit)\n",
    "\n",
    "    # calculate confidence bands\n",
    "    y_upper = result.eval_uncertainty(params=result.params, \n",
    "                                      x=x_fit, sigma=2)\n",
    "    y_lower = -y_upper\n",
    "\n",
    "    # plot fit and data\n",
    "    plt.plot(x_fit, y_fit, linestyle='--', color=palette[i], alpha=0.5)\n",
    "    plt.fill_between(x_fit, y_fit + y_upper, y_fit + y_lower, color=palette[i], alpha=0.2)\n",
    "    plt.scatter(x_data, y_data, color=palette[i], label=x)\n",
    "\n",
    "I_max = np.log2(top_n)\n",
    "plt.plot([np.min(x_fit), np.max(x_fit)], [I_max, I_max], linestyle='--', \n",
    "         color='grey', label='I_max', lw=3)\n",
    "\n",
    "\n",
    "plt.xlabel(r'$\\text{noise variance}$')\n",
    "plt.ylabel(r'$I(L; \\hat{L})$')\n",
    "plt.xscale('log')\n",
    "plt.legend(loc=(1.05, 0.5))"
   ]
  },
  {
   "cell_type": "code",
   "execution_count": null,
   "metadata": {},
   "outputs": [],
   "source": []
  }
 ],
 "metadata": {
  "kernelspec": {
   "display_name": "Python 3",
   "language": "python",
   "name": "python3"
  },
  "language_info": {
   "codemirror_mode": {
    "name": "ipython",
    "version": 3
   },
   "file_extension": ".py",
   "mimetype": "text/x-python",
   "name": "python",
   "nbconvert_exporter": "python",
   "pygments_lexer": "ipython3",
   "version": "3.10.12"
  }
 },
 "nbformat": 4,
 "nbformat_minor": 2
}
