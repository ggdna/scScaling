{
 "cells": [
  {
   "cell_type": "code",
   "execution_count": 1,
   "metadata": {},
   "outputs": [
    {
     "name": "stderr",
     "output_type": "stream",
     "text": [
      "/home/gokul/.local/lib/python3.10/site-packages/matplotlib/projections/__init__.py:63: UserWarning: Unable to import Axes3D. This may be due to multiple versions of Matplotlib being installed (e.g. as a system package and as a pip package). As a result, the 3D projection is not available.\n",
      "  warnings.warn(\"Unable to import Axes3D. This may be due to multiple versions of \"\n"
     ]
    },
    {
     "data": {
      "text/plain": [
       "<torch._C.Generator at 0x7146ddfa2170>"
      ]
     },
     "execution_count": 1,
     "metadata": {},
     "output_type": "execute_result"
    }
   ],
   "source": [
    "import numpy as np\n",
    "from sklearn.decomposition import PCA\n",
    "from torchvision import datasets, transforms, models\n",
    "from latentmi import lmi, ksg\n",
    "import seaborn as sns\n",
    "import torch\n",
    "from sklearn.preprocessing import StandardScaler\n",
    "import matplotlib.pyplot as plt\n",
    "from collections import Counter\n",
    "\n",
    "\n",
    "import torch.nn as nn\n",
    "import torch.optim as optim\n",
    "\n",
    "device='cuda'\n",
    "\n",
    "torch.manual_seed(212121)"
   ]
  },
  {
   "cell_type": "code",
   "execution_count": 2,
   "metadata": {},
   "outputs": [],
   "source": [
    "import pandas as pd\n",
    "import seaborn as sns"
   ]
  },
  {
   "cell_type": "code",
   "execution_count": 3,
   "metadata": {},
   "outputs": [],
   "source": [
    "# define resnet model\n",
    "class MobileNetClassifier(nn.Module):\n",
    "    def __init__(self, num_classes):\n",
    "        super(MobileNetClassifier, self).__init__()\n",
    "        self.mobilenet = models.mobilenet_v2(pretrained=True)\n",
    "        self.mobilenet.classifier[1] = nn.Linear(self.mobilenet.last_channel, num_classes)  # update final layer\n",
    "\n",
    "    def forward(self, x):\n",
    "        return self.mobilenet(x)\n",
    "    \n",
    "def train_model(model, dataloader, epochs=5, scale=0):\n",
    "    criterion = nn.CrossEntropyLoss()\n",
    "    optimizer = optim.Adam(model.parameters(), lr=1e-4)\n",
    "    model.train()\n",
    "\n",
    "    best_loss = np.inf\n",
    "    best_state = None \n",
    "    \n",
    "    for epoch in range(epochs):\n",
    "        total_loss = 0.0\n",
    "        for inputs, labels in dataloader:\n",
    "            inputs, labels = inputs.numpy(), labels.numpy()  # to numpy\n",
    "            if scale > 0:\n",
    "                inputs = gaussian_noise(inputs, scale)  # downsample\n",
    "            inputs, labels = torch.tensor(inputs).to(device).float(), torch.tensor(labels).to(device)  # back to tensor\n",
    "\n",
    "            optimizer.zero_grad()\n",
    "            outputs = model(inputs)\n",
    "            loss = criterion(outputs, labels)\n",
    "            loss.backward()\n",
    "            optimizer.step()\n",
    "\n",
    "            total_loss += loss.item()\n",
    "\n",
    "        avg_loss = total_loss / len(dataloader)\n",
    "        print(f\"Epoch {epoch + 1}/{epochs}, Loss: {avg_loss:.4f}\")\n",
    "\n",
    "        if avg_loss < best_loss:\n",
    "            best_loss = avg_loss\n",
    "            best_state = model.state_dict()  # save the best so far! ⭐\n",
    "            stale_epochs = 0\n",
    "        else:\n",
    "            stale_epochs += 1\n",
    "            if stale_epochs >= 10:\n",
    "                print(\"early stopping! no improvement :(\")\n",
    "                break\n",
    "\n",
    "    if best_state is not None:\n",
    "        model.load_state_dict(best_state)  # restore the champ! 🏆\n",
    "\n",
    "    return model  # all done!\n",
    "\n",
    "\n",
    "def gaussian_noise(images, scale):\n",
    "    return np.random.normal(size=images.shape)*scale + images\n",
    "\n",
    "# pca wrapper (top 16 pcs!)\n",
    "def compute_pca(images, n_components=16):\n",
    "    flat_images = images.reshape(images.shape[0], -1)\n",
    "    scaler = StandardScaler()\n",
    "    scaled_images = scaler.fit_transform(flat_images)  # normalize!\n",
    "    pca = PCA(n_components=n_components)\n",
    "    pcs = pca.fit_transform(scaled_images)\n",
    "    return pcs\n",
    "\n",
    "def resample_one_v_all(true_labels, target_label):\n",
    "    target_indices = []\n",
    "    other_indices = []\n",
    "    for i, label in enumerate(true_labels):\n",
    "        if target_label == label:\n",
    "            target_indices.append(i)\n",
    "        else:\n",
    "            other_indices.append(i)\n",
    "\n",
    "    other_indices = np.random.choice(other_indices, len(target_indices), replace=False)\n",
    "    indices = np.concatenate([target_indices, other_indices])\n",
    "    return indices.astype(int)\n",
    "\n",
    "\n",
    "def estimate_mi_repr(model, dataloader, scale=0):\n",
    "    model.eval()\n",
    "    true_labels = []\n",
    "    last_layer_reprs = []\n",
    "\n",
    "    with torch.no_grad():\n",
    "        for inputs, labels in dataloader:\n",
    "            inputs = inputs.numpy()  # to numpy\n",
    "            if scale > 0:\n",
    "                inputs = gaussian_noise(inputs, scale)  # downsample\n",
    "            inputs = torch.tensor(inputs).to(device).float()  # back to tensor\n",
    "            outputs = model(inputs)\n",
    "            preds = torch.argmax(outputs, dim=1).cpu().numpy()\n",
    "\n",
    "            true_labels.append(labels.numpy())\n",
    "            last_layer_reprs.append(outputs.cpu().numpy())\n",
    "\n",
    "    true_labels = np.concatenate(true_labels)\n",
    "    last_layer_reprs = np.concatenate(last_layer_reprs)\n",
    "\n",
    "    MIs = []\n",
    "    N_samples = []\n",
    "    labels = []\n",
    "\n",
    "    for label in np.unique(true_labels):\n",
    "        N_samples.append(np.sum(true_labels == label))\n",
    "        labels.append(label)\n",
    "        idx = resample_one_v_all(true_labels, label)\n",
    "        bin_y = true_labels[idx] == label\n",
    "        reprs = last_layer_reprs[idx]\n",
    "        \n",
    "        MIs.append(np.nanmean(lmi.estimate(bin_y.reshape(-1, 1), reprs)[0]))\n",
    "\n",
    "    # all labels → one-hot!\n",
    "    uniques = np.unique(true_labels).tolist()\n",
    "    n_classes = len(uniques)\n",
    "    one_hot_labels = np.eye(n_classes)[[uniques.index(s) for s in true_labels]]\n",
    "    MIs.append(np.nanmean(lmi.estimate(one_hot_labels, last_layer_reprs, N_dims=16)[0]))\n",
    "    N_samples.append(len(true_labels))\n",
    "    labels.append('all')\n",
    "\n",
    "    print(MIs)\n",
    "\n",
    "    return MIs, N_samples, labels\n"
   ]
  },
  {
   "cell_type": "code",
   "execution_count": 4,
   "metadata": {},
   "outputs": [
    {
     "name": "stdout",
     "output_type": "stream",
     "text": [
      "Files already downloaded and verified\n",
      "2707 total samples\n"
     ]
    }
   ],
   "source": [
    "transform = transforms.Compose([\n",
    "    transforms.Lambda(lambda img: img.convert(\"RGB\") if img.mode != \"RGB\" else img),  # ensure RGB\n",
    "    transforms.Resize((240, 240)),  # resize to a manageable resolution\n",
    "    transforms.ToTensor(),  # convert to tensor\n",
    "    transforms.Normalize(mean=[0.5, 0.5, 0.5], std=[0.5, 0.5, 0.5])  # normalize\n",
    "])\n",
    "\n",
    "# load dataset\n",
    "Caltech101 = datasets.Caltech101(root='../data', download=True, transform=transform)\n",
    "\n",
    "# get class labels\n",
    "labels = Caltech101.y  # class indices for the dataset\n",
    "\n",
    "# count occurrences of each class\n",
    "class_counts = Counter(labels)\n",
    "\n",
    "# find top n largest classes\n",
    "top_n = 5\n",
    "top_n_classes = [cls for cls, _ in class_counts.most_common(top_n)]\n",
    "\n",
    "# subset the dataset to include only samples from these top classes\n",
    "indices = [i for i, label in enumerate(labels) if label in top_n_classes]\n",
    "subset = torch.utils.data.Subset(Caltech101, indices)\n",
    "\n",
    "# split the subset into train and validation sets\n",
    "N = len(subset)\n",
    "print(f\"{N} total samples\")\n",
    "train_set, val_set = torch.utils.data.random_split(subset, [N//2, N - N//2])\n",
    "\n",
    "# create data loaders\n",
    "data_loader = torch.utils.data.DataLoader(train_set, batch_size=128, shuffle=True)\n",
    "val_loader = torch.utils.data.DataLoader(val_set, batch_size=128, shuffle=False)"
   ]
  },
  {
   "cell_type": "code",
   "execution_count": 5,
   "metadata": {},
   "outputs": [
    {
     "name": "stderr",
     "output_type": "stream",
     "text": [
      "/home/gokul/.local/lib/python3.10/site-packages/torchvision/models/_utils.py:208: UserWarning: The parameter 'pretrained' is deprecated since 0.13 and may be removed in the future, please use 'weights' instead.\n",
      "  warnings.warn(\n",
      "/home/gokul/.local/lib/python3.10/site-packages/torchvision/models/_utils.py:223: UserWarning: Arguments other than a weight enum or `None` for 'weights' are deprecated since 0.13 and may be removed in the future. The current behavior is equivalent to passing `weights=MobileNet_V2_Weights.IMAGENET1K_V1`. You can also use `weights=MobileNet_V2_Weights.DEFAULT` to get the most up-to-date weights.\n",
      "  warnings.warn(msg)\n"
     ]
    },
    {
     "name": "stdout",
     "output_type": "stream",
     "text": [
      "Epoch 1/5, Loss: 3.0698\n",
      "Epoch 2/5, Loss: 0.5560\n",
      "Epoch 3/5, Loss: 0.0867\n",
      "Epoch 4/5, Loss: 0.0356\n",
      "Epoch 5/5, Loss: 0.0196\n",
      "epoch 299 (of max 300) 🌻🌻🌻🌻🌻🌻🌻🌻🌻[0.997982104207601, 0.9758583383290675, 1.0001881778888349, 0.9906497079802544, 0.9532426709341056, 2.168225963590958]\n"
     ]
    },
    {
     "name": "stderr",
     "output_type": "stream",
     "text": [
      "/home/gokul/.local/lib/python3.10/site-packages/torchvision/models/_utils.py:208: UserWarning: The parameter 'pretrained' is deprecated since 0.13 and may be removed in the future, please use 'weights' instead.\n",
      "  warnings.warn(\n",
      "/home/gokul/.local/lib/python3.10/site-packages/torchvision/models/_utils.py:223: UserWarning: Arguments other than a weight enum or `None` for 'weights' are deprecated since 0.13 and may be removed in the future. The current behavior is equivalent to passing `weights=MobileNet_V2_Weights.IMAGENET1K_V1`. You can also use `weights=MobileNet_V2_Weights.DEFAULT` to get the most up-to-date weights.\n",
      "  warnings.warn(msg)\n"
     ]
    },
    {
     "name": "stdout",
     "output_type": "stream",
     "text": [
      "Epoch 1/5, Loss: 3.0303\n",
      "Epoch 2/5, Loss: 0.5879\n",
      "Epoch 3/5, Loss: 0.0987\n",
      "Epoch 4/5, Loss: 0.0378\n",
      "Epoch 5/5, Loss: 0.0210\n",
      "epoch 299 (of max 300) 🌻🌻🌻🌻🌻🌻🌻🌻🌻[0.967076995155896, 0.978608982054719, 1.0017877234518364, 0.9975035592375887, 1.0060362752563834, 2.1702835459006566]\n"
     ]
    },
    {
     "name": "stderr",
     "output_type": "stream",
     "text": [
      "/home/gokul/.local/lib/python3.10/site-packages/torchvision/models/_utils.py:208: UserWarning: The parameter 'pretrained' is deprecated since 0.13 and may be removed in the future, please use 'weights' instead.\n",
      "  warnings.warn(\n",
      "/home/gokul/.local/lib/python3.10/site-packages/torchvision/models/_utils.py:223: UserWarning: Arguments other than a weight enum or `None` for 'weights' are deprecated since 0.13 and may be removed in the future. The current behavior is equivalent to passing `weights=MobileNet_V2_Weights.IMAGENET1K_V1`. You can also use `weights=MobileNet_V2_Weights.DEFAULT` to get the most up-to-date weights.\n",
      "  warnings.warn(msg)\n"
     ]
    },
    {
     "name": "stdout",
     "output_type": "stream",
     "text": [
      "Epoch 1/5, Loss: 3.1425\n",
      "Epoch 2/5, Loss: 0.6398\n",
      "Epoch 3/5, Loss: 0.1245\n",
      "Epoch 4/5, Loss: 0.0564\n",
      "Epoch 5/5, Loss: 0.0366\n",
      "epoch 299 (of max 300) 🌻🌻🌻🌻🌻🌻🌻🌻🌻[0.9540005678238905, 0.981101646051389, 0.9966198403903066, 1.0017359698194872, 1.00481342196108, 2.1627617160018993]\n"
     ]
    },
    {
     "name": "stderr",
     "output_type": "stream",
     "text": [
      "/home/gokul/.local/lib/python3.10/site-packages/torchvision/models/_utils.py:208: UserWarning: The parameter 'pretrained' is deprecated since 0.13 and may be removed in the future, please use 'weights' instead.\n",
      "  warnings.warn(\n",
      "/home/gokul/.local/lib/python3.10/site-packages/torchvision/models/_utils.py:223: UserWarning: Arguments other than a weight enum or `None` for 'weights' are deprecated since 0.13 and may be removed in the future. The current behavior is equivalent to passing `weights=MobileNet_V2_Weights.IMAGENET1K_V1`. You can also use `weights=MobileNet_V2_Weights.DEFAULT` to get the most up-to-date weights.\n",
      "  warnings.warn(msg)\n"
     ]
    },
    {
     "name": "stdout",
     "output_type": "stream",
     "text": [
      "Epoch 1/5, Loss: 3.2196\n",
      "Epoch 2/5, Loss: 0.9909\n",
      "Epoch 3/5, Loss: 0.3004\n",
      "Epoch 4/5, Loss: 0.1331\n",
      "Epoch 5/5, Loss: 0.0737\n",
      "epoch 219 (of max 300) 🌻🌻🌻🌻🌻🌻🌻🌻🌻[0.9778343290049397, 0.9588695311753563, 0.9844418500463226, 0.9575246050111134, 0.9974785841148878, 2.137217287893242]\n"
     ]
    },
    {
     "name": "stderr",
     "output_type": "stream",
     "text": [
      "/home/gokul/.local/lib/python3.10/site-packages/torchvision/models/_utils.py:208: UserWarning: The parameter 'pretrained' is deprecated since 0.13 and may be removed in the future, please use 'weights' instead.\n",
      "  warnings.warn(\n",
      "/home/gokul/.local/lib/python3.10/site-packages/torchvision/models/_utils.py:223: UserWarning: Arguments other than a weight enum or `None` for 'weights' are deprecated since 0.13 and may be removed in the future. The current behavior is equivalent to passing `weights=MobileNet_V2_Weights.IMAGENET1K_V1`. You can also use `weights=MobileNet_V2_Weights.DEFAULT` to get the most up-to-date weights.\n",
      "  warnings.warn(msg)\n"
     ]
    },
    {
     "name": "stdout",
     "output_type": "stream",
     "text": [
      "Epoch 1/5, Loss: 3.5972\n",
      "Epoch 2/5, Loss: 1.4713\n",
      "Epoch 3/5, Loss: 0.6113\n",
      "Epoch 4/5, Loss: 0.3392\n",
      "Epoch 5/5, Loss: 0.2414\n",
      "epoch 148 (of max 300) 🌻🌻🌻🌻🌻🌻🌻🌻🌻[0.9201880875439115, 0.8682702740919112, 0.9071697833488728, 0.8614034600308395, 0.8024197865723149, 2.0355750475829373]\n"
     ]
    },
    {
     "name": "stderr",
     "output_type": "stream",
     "text": [
      "/home/gokul/.local/lib/python3.10/site-packages/torchvision/models/_utils.py:208: UserWarning: The parameter 'pretrained' is deprecated since 0.13 and may be removed in the future, please use 'weights' instead.\n",
      "  warnings.warn(\n",
      "/home/gokul/.local/lib/python3.10/site-packages/torchvision/models/_utils.py:223: UserWarning: Arguments other than a weight enum or `None` for 'weights' are deprecated since 0.13 and may be removed in the future. The current behavior is equivalent to passing `weights=MobileNet_V2_Weights.IMAGENET1K_V1`. You can also use `weights=MobileNet_V2_Weights.DEFAULT` to get the most up-to-date weights.\n",
      "  warnings.warn(msg)\n"
     ]
    },
    {
     "name": "stdout",
     "output_type": "stream",
     "text": [
      "Epoch 1/5, Loss: 3.7637\n",
      "Epoch 2/5, Loss: 2.0007\n",
      "Epoch 3/5, Loss: 1.1096\n",
      "Epoch 4/5, Loss: 0.7561\n",
      "Epoch 5/5, Loss: 0.5659\n",
      "epoch 277 (of max 300) 🌻🌻🌻🌻🌻🌻🌻🌻🌻[0.5869544572854659, 0.6962219517698499, 0.7198083471871343, 0.7482659272843546, 0.5484510363948104, 1.5662391539329081]\n"
     ]
    },
    {
     "name": "stderr",
     "output_type": "stream",
     "text": [
      "/home/gokul/.local/lib/python3.10/site-packages/torchvision/models/_utils.py:208: UserWarning: The parameter 'pretrained' is deprecated since 0.13 and may be removed in the future, please use 'weights' instead.\n",
      "  warnings.warn(\n",
      "/home/gokul/.local/lib/python3.10/site-packages/torchvision/models/_utils.py:223: UserWarning: Arguments other than a weight enum or `None` for 'weights' are deprecated since 0.13 and may be removed in the future. The current behavior is equivalent to passing `weights=MobileNet_V2_Weights.IMAGENET1K_V1`. You can also use `weights=MobileNet_V2_Weights.DEFAULT` to get the most up-to-date weights.\n",
      "  warnings.warn(msg)\n"
     ]
    },
    {
     "name": "stdout",
     "output_type": "stream",
     "text": [
      "Epoch 1/5, Loss: 4.1115\n",
      "Epoch 2/5, Loss: 2.6807\n",
      "Epoch 3/5, Loss: 1.6608\n",
      "Epoch 4/5, Loss: 1.2001\n",
      "Epoch 5/5, Loss: 0.9893\n",
      "epoch 139 (of max 300) 🌻🌻🌻🌻[0.3384070823969878, 0.35797287972740577, 0.6548329190199697, 0.38850813116263916, 0.272357671213676, 0.9674308273723115]\n"
     ]
    },
    {
     "name": "stderr",
     "output_type": "stream",
     "text": [
      "/home/gokul/.local/lib/python3.10/site-packages/torchvision/models/_utils.py:208: UserWarning: The parameter 'pretrained' is deprecated since 0.13 and may be removed in the future, please use 'weights' instead.\n",
      "  warnings.warn(\n",
      "/home/gokul/.local/lib/python3.10/site-packages/torchvision/models/_utils.py:223: UserWarning: Arguments other than a weight enum or `None` for 'weights' are deprecated since 0.13 and may be removed in the future. The current behavior is equivalent to passing `weights=MobileNet_V2_Weights.IMAGENET1K_V1`. You can also use `weights=MobileNet_V2_Weights.DEFAULT` to get the most up-to-date weights.\n",
      "  warnings.warn(msg)\n"
     ]
    },
    {
     "name": "stdout",
     "output_type": "stream",
     "text": [
      "Epoch 1/5, Loss: 4.0645\n",
      "Epoch 2/5, Loss: 2.8340\n",
      "Epoch 3/5, Loss: 1.9997\n",
      "Epoch 4/5, Loss: 1.5476\n",
      "Epoch 5/5, Loss: 1.3512\n",
      "epoch 102 (of max 300) 🌻🌻🌻🌻🌻[0.19141310129485217, 0.15228477250056915, 0.3838898637310455, 0.08472593742046579, 0.040311033982775815, 0.46642967292306825]\n"
     ]
    },
    {
     "name": "stderr",
     "output_type": "stream",
     "text": [
      "/home/gokul/.local/lib/python3.10/site-packages/torchvision/models/_utils.py:208: UserWarning: The parameter 'pretrained' is deprecated since 0.13 and may be removed in the future, please use 'weights' instead.\n",
      "  warnings.warn(\n",
      "/home/gokul/.local/lib/python3.10/site-packages/torchvision/models/_utils.py:223: UserWarning: Arguments other than a weight enum or `None` for 'weights' are deprecated since 0.13 and may be removed in the future. The current behavior is equivalent to passing `weights=MobileNet_V2_Weights.IMAGENET1K_V1`. You can also use `weights=MobileNet_V2_Weights.DEFAULT` to get the most up-to-date weights.\n",
      "  warnings.warn(msg)\n"
     ]
    },
    {
     "name": "stdout",
     "output_type": "stream",
     "text": [
      "Epoch 1/5, Loss: 3.9977\n",
      "Epoch 2/5, Loss: 2.8343\n",
      "Epoch 3/5, Loss: 2.1006\n",
      "Epoch 4/5, Loss: 1.7902\n",
      "Epoch 5/5, Loss: 1.6469\n",
      "epoch 107 (of max 300) 🌻🌻🌻[0.051946394339030866, -0.07416748445362586, 0.06847278073321102, -0.00022802191476294559, 0.06967874089983891, 0.019617741010681027]\n"
     ]
    },
    {
     "name": "stderr",
     "output_type": "stream",
     "text": [
      "/home/gokul/.local/lib/python3.10/site-packages/torchvision/models/_utils.py:208: UserWarning: The parameter 'pretrained' is deprecated since 0.13 and may be removed in the future, please use 'weights' instead.\n",
      "  warnings.warn(\n",
      "/home/gokul/.local/lib/python3.10/site-packages/torchvision/models/_utils.py:223: UserWarning: Arguments other than a weight enum or `None` for 'weights' are deprecated since 0.13 and may be removed in the future. The current behavior is equivalent to passing `weights=MobileNet_V2_Weights.IMAGENET1K_V1`. You can also use `weights=MobileNet_V2_Weights.DEFAULT` to get the most up-to-date weights.\n",
      "  warnings.warn(msg)\n"
     ]
    },
    {
     "name": "stdout",
     "output_type": "stream",
     "text": [
      "Epoch 1/5, Loss: 4.0368\n",
      "Epoch 2/5, Loss: 2.8692\n",
      "Epoch 3/5, Loss: 2.1464\n",
      "Epoch 4/5, Loss: 1.8105\n",
      "Epoch 5/5, Loss: 1.6936\n",
      "epoch 119 (of max 300) 🌻🌻🌻[-0.05796412322827137, -0.00593219906332231, -0.005268868836215581, 0.05588820947271129, -0.00739692457708479, 0.03947495698998872]\n"
     ]
    }
   ],
   "source": [
    "d = {\n",
    "    \"Scale\" : [],\n",
    "    \"MI\" : [],\n",
    "    \"Class label\" : [],\n",
    "    \"N instances of label\" : []\n",
    "}\n",
    "\n",
    "MIs = []\n",
    "scales = np.logspace(-1, 2, 10)\n",
    "\n",
    "# process each factor\n",
    "for scale in scales:\n",
    "\n",
    "    model = MobileNetClassifier(num_classes=101)\n",
    "    model.to('cuda')\n",
    "    train_model(model, data_loader, epochs=5, scale=scale)\n",
    "\n",
    "    # estimate mutual info\n",
    "    mi, n_inst, labels = estimate_mi_repr(model, val_loader, scale=scale)\n",
    "    d['MI'] += mi\n",
    "    d['Scale'] += [scale] * len(mi)\n",
    "    d['Class label'] += labels\n",
    "    d[\"N instances of label\"] += n_inst"
   ]
  },
  {
   "cell_type": "code",
   "execution_count": 6,
   "metadata": {},
   "outputs": [],
   "source": [
    "df = pd.DataFrame(data=d)\n",
    "df.to_csv('../results/Caltech101_lastlayer.csv')"
   ]
  },
  {
   "cell_type": "code",
   "execution_count": 7,
   "metadata": {},
   "outputs": [
    {
     "data": {
      "text/plain": [
       "<matplotlib.legend.Legend at 0x71457f95bb20>"
      ]
     },
     "execution_count": 7,
     "metadata": {},
     "output_type": "execute_result"
    },
    {
     "data": {
      "image/png": "[encoded data removed]",
      "text/plain": [
       "<Figure size 450x450 with 1 Axes>"
      ]
     },
     "metadata": {
      "needs_background": "light"
     },
     "output_type": "display_data"
    }
   ],
   "source": [
    "from lmfit import Model\n",
    "\n",
    "def info_scaling(x, A, B):\n",
    "    return 0.5 * np.log2(((1/x)*B+ 1)/(1+A*(1/x)))\n",
    "\n",
    "fig = plt.figure(figsize=(3,3), dpi=150)\n",
    "\n",
    "\n",
    "classes = df[df['N instances of label'] > 100]['Class label'].unique()\n",
    "palette = sns.color_palette(\"hls\", len(classes))\n",
    "\n",
    "for i, x in enumerate(classes[::-1]):\n",
    "    # prepare data\n",
    "    x_data = df[df['Class label'] == x]['Scale']**2\n",
    "    y_data = df[df['Class label'] == x]['MI']\n",
    "\n",
    "    # create model and parameters\n",
    "    model = Model(info_scaling)\n",
    "    params = model.make_params(A=1e-2, B=1e-2)  # initial guesses\n",
    "    params['A'].min = 0  # set bounds\n",
    "    params['B'].min = 0\n",
    "\n",
    "    # fit model\n",
    "    result = model.fit(y_data, params, x=x_data)\n",
    "\n",
    "    # generate fit line\n",
    "    x_fit = np.linspace(x_data.min()/5, 5*x_data.max(), 10**5)\n",
    "    y_fit = model.eval(params=result.params, x=x_fit)\n",
    "\n",
    "    # calculate confidence bands\n",
    "    y_upper = result.eval_uncertainty(params=result.params, \n",
    "                                      x=x_fit, sigma=2)\n",
    "    y_lower = -y_upper\n",
    "\n",
    "    # plot fit and data\n",
    "    plt.plot(x_fit, y_fit, linestyle='--', color=palette[i], alpha=0.5)\n",
    "    plt.fill_between(x_fit, y_fit + y_upper, y_fit + y_lower, color=palette[i], alpha=0.2)\n",
    "    plt.scatter(x_data, y_data, color=palette[i], label=x)\n",
    "\n",
    "I_max = np.log2(top_n)\n",
    "plt.plot([np.min(x_fit), np.max(x_fit)], [I_max, I_max], linestyle='--', \n",
    "         color='grey', label='I_max', lw=3)\n",
    "\n",
    "\n",
    "plt.xlabel(r'$\\text{noise variance}$')\n",
    "plt.ylabel(r'$I(L; \\hat{L})$')\n",
    "plt.xscale('log')\n",
    "plt.legend(loc=(1.05, 0.5))"
   ]
  },
  {
   "cell_type": "code",
   "execution_count": null,
   "metadata": {},
   "outputs": [],
   "source": []
  }
 ],
 "metadata": {
  "kernelspec": {
   "display_name": "Python 3",
   "language": "python",
   "name": "python3"
  },
  "language_info": {
   "codemirror_mode": {
    "name": "ipython",
    "version": 3
   },
   "file_extension": ".py",
   "mimetype": "text/x-python",
   "name": "python",
   "nbconvert_exporter": "python",
   "pygments_lexer": "ipython3",
   "version": "3.10.12"
  }
 },
 "nbformat": 4,
 "nbformat_minor": 2
}
