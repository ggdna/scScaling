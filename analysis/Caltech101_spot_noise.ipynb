{
 "cells": [
  {
   "cell_type": "code",
   "execution_count": 1,
   "metadata": {},
   "outputs": [
    {
     "name": "stderr",
     "output_type": "stream",
     "text": [
      "/home/gokul/.local/lib/python3.10/site-packages/matplotlib/projections/__init__.py:63: UserWarning: Unable to import Axes3D. This may be due to multiple versions of Matplotlib being installed (e.g. as a system package and as a pip package). As a result, the 3D projection is not available.\n",
      "  warnings.warn(\"Unable to import Axes3D. This may be due to multiple versions of \"\n"
     ]
    }
   ],
   "source": [
    "import numpy as np\n",
    "from sklearn.decomposition import PCA\n",
    "from torchvision import datasets, transforms, models\n",
    "from latentmi import lmi, ksg\n",
    "import seaborn as sns\n",
    "import torch\n",
    "from sklearn.preprocessing import StandardScaler\n",
    "import matplotlib.pyplot as plt\n",
    "from collections import Counter\n",
    "\n",
    "\n",
    "import torch.nn as nn\n",
    "import torch.optim as optim\n",
    "\n",
    "device='cuda'"
   ]
  },
  {
   "cell_type": "code",
   "execution_count": 2,
   "metadata": {},
   "outputs": [],
   "source": [
    "# define resnet model\n",
    "class MobileNetClassifier(nn.Module):\n",
    "    def __init__(self, num_classes):\n",
    "        super(MobileNetClassifier, self).__init__()\n",
    "        self.mobilenet = models.mobilenet_v2(pretrained=True)\n",
    "        self.mobilenet.classifier[1] = nn.Linear(self.mobilenet.last_channel, num_classes)  # update final layer\n",
    "\n",
    "    def forward(self, x):\n",
    "        return self.mobilenet(x)\n",
    "    \n",
    "def train_model(model, dataloader, epochs=5, scale=0):\n",
    "    criterion = nn.CrossEntropyLoss()\n",
    "    optimizer = optim.Adam(model.parameters(), lr=1e-4)\n",
    "    model.train()\n",
    "    for epoch in range(epochs):\n",
    "        total_loss = 0.0\n",
    "        for inputs, labels in dataloader:\n",
    "            inputs, labels = inputs.numpy(), labels.numpy()  # to numpy\n",
    "            if scale > 0:\n",
    "                inputs = gaussian_noise(inputs, scale)  # downsample\n",
    "            inputs, labels = torch.tensor(inputs).to(device).float(), torch.tensor(labels).to(device)  # back to tensor\n",
    "\n",
    "            optimizer.zero_grad()\n",
    "            outputs = model(inputs)\n",
    "            loss = criterion(outputs, labels)\n",
    "            loss.backward()\n",
    "            optimizer.step()\n",
    "\n",
    "            total_loss += loss.item()\n",
    "        print(f\"Epoch {epoch + 1}/{epochs}, Loss: {total_loss / len(dataloader):.4f}\")\n",
    "\n",
    "# pca wrapper (top 16 pcs!)\n",
    "def compute_pca(images, n_components=16):\n",
    "    flat_images = images.reshape(images.shape[0], -1)\n",
    "    scaler = StandardScaler()\n",
    "    scaled_images = scaler.fit_transform(flat_images)  # normalize!\n",
    "    pca = PCA(n_components=n_components)\n",
    "    pcs = pca.fit_transform(scaled_images)\n",
    "    return pcs\n",
    "\n",
    "def resample_one_v_all(true_labels, target_label):\n",
    "    target_indices = []\n",
    "    other_indices = []\n",
    "    for i, label in enumerate(true_labels):\n",
    "        if target_label == label:\n",
    "            target_indices.append(i)\n",
    "        else:\n",
    "            other_indices.append(i)\n",
    "\n",
    "    other_indices = np.random.choice(other_indices, len(target_indices), replace=False)\n",
    "    indices = np.concatenate([target_indices, other_indices])\n",
    "    return indices.astype(int)\n",
    "\n",
    "\n",
    "def estimate_mi(model, dataloader, scale=0):\n",
    "    model.eval()\n",
    "    true_labels = []\n",
    "    predicted_labels = []\n",
    "\n",
    "    with torch.no_grad():\n",
    "        for inputs, labels in dataloader:\n",
    "            inputs = inputs.numpy()  # to numpy\n",
    "            if scale > 0:\n",
    "                inputs = gaussian_noise(inputs, scale)  # downsample\n",
    "            inputs = torch.tensor(inputs).to(device).float()  # back to tensor\n",
    "            outputs = model(inputs)\n",
    "            preds = torch.argmax(outputs, dim=1).cpu().numpy()\n",
    "\n",
    "            true_labels.append(labels.numpy())\n",
    "            predicted_labels.append(preds)\n",
    "\n",
    "    true_labels = np.concatenate(true_labels)\n",
    "    predicted_labels = np.concatenate(predicted_labels)\n",
    "\n",
    "    MIs = []\n",
    "    N_samples = []\n",
    "    labels = []\n",
    "    for label in np.unique(true_labels):\n",
    "        N_samples.append(np.sum(true_labels == label))\n",
    "        labels.append(label)\n",
    "        indices = resample_one_v_all(true_labels, label)\n",
    "        binarized_true_labels = true_labels[indices] == label\n",
    "        binarized_pred_labels = predicted_labels[indices] == label\n",
    "        MIs.append(ksg.midd(binarized_true_labels, binarized_pred_labels))\n",
    "\n",
    "    MIs.append(ksg.midd(true_labels, predicted_labels))\n",
    "    N_samples.append(len(true_labels))\n",
    "    labels.append('all')\n",
    "\n",
    "    return MIs, N_samples, labels\n",
    "\n",
    "def gaussian_noise(images, scale):\n",
    "    return np.random.normal(size=images.shape)*scale + images\n"
   ]
  },
  {
   "cell_type": "code",
   "execution_count": 3,
   "metadata": {},
   "outputs": [
    {
     "name": "stdout",
     "output_type": "stream",
     "text": [
      "Files already downloaded and verified\n",
      "2707 total samples\n"
     ]
    }
   ],
   "source": [
    "transform = transforms.Compose([\n",
    "    transforms.Lambda(lambda img: img.convert(\"RGB\") if img.mode != \"RGB\" else img),  # ensure RGB\n",
    "    transforms.Resize((240, 240)),  # resize to a manageable resolution\n",
    "    transforms.ToTensor(),  # convert to tensor\n",
    "    transforms.Normalize(mean=[0.5, 0.5, 0.5], std=[0.5, 0.5, 0.5])  # normalize\n",
    "])\n",
    "\n",
    "# load dataset\n",
    "Caltech101 = datasets.Caltech101(root='../data', download=True, transform=transform)\n",
    "\n",
    "# get class labels\n",
    "labels = Caltech101.y  # class indices for the dataset\n",
    "\n",
    "# count occurrences of each class\n",
    "class_counts = Counter(labels)\n",
    "\n",
    "# find top n largest classes\n",
    "top_n = 5\n",
    "top_n_classes = [cls for cls, _ in class_counts.most_common(top_n)]\n",
    "\n",
    "# subset the dataset to include only samples from these top classes\n",
    "indices = [i for i, label in enumerate(labels) if label in top_n_classes]\n",
    "subset = torch.utils.data.Subset(Caltech101, indices)\n",
    "\n",
    "# split the subset into train and validation sets\n",
    "N = len(subset)\n",
    "print(f\"{N} total samples\")\n",
    "train_set, val_set = torch.utils.data.random_split(subset, [N//2, N - N//2])\n",
    "\n",
    "# create data loaders\n",
    "data_loader = torch.utils.data.DataLoader(train_set, batch_size=128, shuffle=True)\n",
    "val_loader = torch.utils.data.DataLoader(val_set, batch_size=128, shuffle=False)"
   ]
  },
  {
   "cell_type": "code",
   "execution_count": 4,
   "metadata": {},
   "outputs": [
    {
     "name": "stderr",
     "output_type": "stream",
     "text": [
      "/home/gokul/.local/lib/python3.10/site-packages/torchvision/models/_utils.py:208: UserWarning: The parameter 'pretrained' is deprecated since 0.13 and may be removed in the future, please use 'weights' instead.\n",
      "  warnings.warn(\n",
      "/home/gokul/.local/lib/python3.10/site-packages/torchvision/models/_utils.py:223: UserWarning: Arguments other than a weight enum or `None` for 'weights' are deprecated since 0.13 and may be removed in the future. The current behavior is equivalent to passing `weights=MobileNet_V2_Weights.IMAGENET1K_V1`. You can also use `weights=MobileNet_V2_Weights.DEFAULT` to get the most up-to-date weights.\n",
      "  warnings.warn(msg)\n"
     ]
    },
    {
     "name": "stdout",
     "output_type": "stream",
     "text": [
      "Epoch 1/5, Loss: 2.6187\n",
      "Epoch 2/5, Loss: 0.4200\n",
      "Epoch 3/5, Loss: 0.0684\n",
      "Epoch 4/5, Loss: 0.0244\n",
      "Epoch 5/5, Loss: 0.0164\n",
      "Epoch 1/5, Loss: 2.8477\n",
      "Epoch 2/5, Loss: 0.4266\n",
      "Epoch 3/5, Loss: 0.0612\n",
      "Epoch 4/5, Loss: 0.0306\n",
      "Epoch 5/5, Loss: 0.0180\n",
      "Epoch 1/5, Loss: 2.8477\n",
      "Epoch 2/5, Loss: 0.4460\n",
      "Epoch 3/5, Loss: 0.0630\n",
      "Epoch 4/5, Loss: 0.0270\n",
      "Epoch 5/5, Loss: 0.0157\n",
      "Epoch 1/5, Loss: 2.6862\n",
      "Epoch 2/5, Loss: 0.4868\n",
      "Epoch 3/5, Loss: 0.0879\n",
      "Epoch 4/5, Loss: 0.0337\n",
      "Epoch 5/5, Loss: 0.0197\n",
      "Epoch 1/5, Loss: 3.4759\n",
      "Epoch 2/5, Loss: 0.8437\n",
      "Epoch 3/5, Loss: 0.1619\n",
      "Epoch 4/5, Loss: 0.0613\n",
      "Epoch 5/5, Loss: 0.0378\n",
      "Epoch 1/5, Loss: 3.5290\n",
      "Epoch 2/5, Loss: 1.2841\n",
      "Epoch 3/5, Loss: 0.5094\n",
      "Epoch 4/5, Loss: 0.2612\n",
      "Epoch 5/5, Loss: 0.1441\n",
      "Epoch 1/5, Loss: 4.2102\n",
      "Epoch 2/5, Loss: 2.3965\n",
      "Epoch 3/5, Loss: 1.2206\n",
      "Epoch 4/5, Loss: 0.7651\n",
      "Epoch 5/5, Loss: 0.5673\n",
      "Epoch 1/5, Loss: 4.1395\n",
      "Epoch 2/5, Loss: 2.8094\n",
      "Epoch 3/5, Loss: 1.8436\n",
      "Epoch 4/5, Loss: 1.3722\n",
      "Epoch 5/5, Loss: 1.1556\n",
      "Epoch 1/5, Loss: 4.0947\n",
      "Epoch 2/5, Loss: 2.9003\n",
      "Epoch 3/5, Loss: 2.1413\n",
      "Epoch 4/5, Loss: 1.7896\n",
      "Epoch 5/5, Loss: 1.6193\n",
      "Epoch 1/5, Loss: 3.9443\n",
      "Epoch 2/5, Loss: 2.7845\n",
      "Epoch 3/5, Loss: 2.1087\n",
      "Epoch 4/5, Loss: 1.7952\n",
      "Epoch 5/5, Loss: 1.6833\n"
     ]
    }
   ],
   "source": [
    "d = {\n",
    "    \"Scale\" : [],\n",
    "    \"MI\" : [],\n",
    "    \"Class label\" : [],\n",
    "    \"N instances of label\" : []\n",
    "}\n",
    "\n",
    "MIs = []\n",
    "scales = np.logspace(-2, 2, 10)\n",
    "\n",
    "# process each factor\n",
    "for scale in scales:\n",
    "\n",
    "    model = MobileNetClassifier(num_classes=101)\n",
    "    model.to('cuda')\n",
    "    train_model(model, data_loader, epochs=5, scale=scale)\n",
    "\n",
    "    # estimate mutual info\n",
    "    mi, n_inst, labels = estimate_mi(model, val_loader, scale=scale)\n",
    "    d['MI'] += mi\n",
    "    d['Scale'] += [scale] * len(mi)\n",
    "    d['Class label'] += labels\n",
    "    d[\"N instances of label\"] += n_inst"
   ]
  },
  {
   "cell_type": "code",
   "execution_count": 5,
   "metadata": {},
   "outputs": [],
   "source": [
    "import pandas as pd\n",
    "import seaborn as sns"
   ]
  },
  {
   "cell_type": "code",
   "execution_count": 6,
   "metadata": {},
   "outputs": [],
   "source": [
    "df = pd.DataFrame(data=d)\n",
    "# df"
   ]
  },
  {
   "cell_type": "code",
   "execution_count": 11,
   "metadata": {},
   "outputs": [
    {
     "data": {
      "text/plain": [
       "<matplotlib.legend.Legend at 0x783f6e767b50>"
      ]
     },
     "execution_count": 11,
     "metadata": {},
     "output_type": "execute_result"
    },
    {
     "data": {
      "image/png": "[encoded data removed]",
      "text/plain": [
       "<Figure size 450x450 with 1 Axes>"
      ]
     },
     "metadata": {
      "needs_background": "light"
     },
     "output_type": "display_data"
    }
   ],
   "source": [
    "from lmfit import Model\n",
    "\n",
    "def info_scaling(x, A, B):\n",
    "    return 0.5 * np.log2(((1/x)*B+ 1)/(1+A*(1/x)))\n",
    "\n",
    "fig = plt.figure(figsize=(3,3), dpi=150)\n",
    "\n",
    "\n",
    "classes = df[df['N instances of label'] > 100]['Class label'].unique()\n",
    "palette = sns.color_palette(\"hls\", len(classes))\n",
    "\n",
    "for i, x in enumerate(classes[::-1]):\n",
    "    # prepare data\n",
    "    x_data = df[df['Class label'] == x]['Scale']**2\n",
    "    y_data = df[df['Class label'] == x]['MI']\n",
    "\n",
    "    # create model and parameters\n",
    "    model = Model(info_scaling)\n",
    "    params = model.make_params(A=1e-2, B=1e-2)  # initial guesses\n",
    "    params['A'].min = 0  # set bounds\n",
    "    params['B'].min = 0\n",
    "\n",
    "    # fit model\n",
    "    result = model.fit(y_data, params, x=x_data)\n",
    "\n",
    "    # generate fit line\n",
    "    x_fit = np.linspace(x_data.min()/5, 5*x_data.max(), 10**5)\n",
    "    y_fit = model.eval(params=result.params, x=x_fit)\n",
    "\n",
    "    # calculate confidence bands\n",
    "    y_upper = result.eval_uncertainty(params=result.params, \n",
    "                                      x=x_fit, sigma=2)\n",
    "    y_lower = -y_upper\n",
    "\n",
    "    # plot fit and data\n",
    "    plt.plot(x_fit, y_fit, linestyle='--', color=palette[i], alpha=0.5)\n",
    "    plt.fill_between(x_fit, y_fit + y_upper, y_fit + y_lower, color=palette[i], alpha=0.2)\n",
    "    plt.scatter(x_data, y_data, color=palette[i], label=x)\n",
    "\n",
    "I_max = np.log2(top_n)\n",
    "plt.plot([np.min(x_fit), np.max(x_fit)], [I_max, I_max], linestyle='--', \n",
    "         color='grey', label='I_max', lw=3)\n",
    "\n",
    "\n",
    "plt.xlabel(r'$\\text{noise variance}$')\n",
    "plt.ylabel(r'$I(L; \\hat{L})$')\n",
    "plt.xscale('log')\n",
    "plt.legend(loc=(1.05, 0.5))"
   ]
  },
  {
   "cell_type": "code",
   "execution_count": 8,
   "metadata": {},
   "outputs": [],
   "source": [
    "images, labels = [], []\n",
    "for batch in data_loader:\n",
    "    images.append(batch[0].numpy())\n",
    "    labels.append(batch[1].numpy())"
   ]
  },
  {
   "cell_type": "code",
   "execution_count": 9,
   "metadata": {},
   "outputs": [
    {
     "data": {
      "image/png": "[encoded data removed]",
      "text/plain": [
       "<Figure size 1800x300 with 5 Axes>"
      ]
     },
     "metadata": {
      "needs_background": "light"
     },
     "output_type": "display_data"
    }
   ],
   "source": [
    "# label 90 is the good label\n",
    "\n",
    "\n",
    "fig, axes = plt.subplots(1, len(scales[::2]), figsize=(12, 2), dpi=150)  # adjust figsize as needed\n",
    "batch = 2\n",
    "for idx, f in enumerate(scales[::2]):\n",
    "    downsampled = gaussian_noise(images[batch], f)\n",
    "    for i in range(len(images[0])):\n",
    "        if labels[batch][i] == 90:\n",
    "            axes[idx].axis('off')\n",
    "            axes[idx].imshow(downsampled.transpose(0, 2, 3, 1)[i])\n",
    "            axes[idx].set_title(\"factor %.3f\" %f)\n",
    "            break\n",
    "\n",
    "plt.tight_layout()\n",
    "plt.show()"
   ]
  },
  {
   "cell_type": "code",
   "execution_count": null,
   "metadata": {},
   "outputs": [],
   "source": []
  }
 ],
 "metadata": {
  "kernelspec": {
   "display_name": "Python 3",
   "language": "python",
   "name": "python3"
  },
  "language_info": {
   "codemirror_mode": {
    "name": "ipython",
    "version": 3
   },
   "file_extension": ".py",
   "mimetype": "text/x-python",
   "name": "python",
   "nbconvert_exporter": "python",
   "pygments_lexer": "ipython3",
   "version": "3.10.12"
  }
 },
 "nbformat": 4,
 "nbformat_minor": 2
}
